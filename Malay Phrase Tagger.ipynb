{
 "cells": [
  {
   "cell_type": "code",
   "execution_count": 1,
   "metadata": {
    "collapsed": true
   },
   "outputs": [],
   "source": [
    "import pandas as pd\n",
    "import numpy as np\n",
    "pd.set_option(\"display.max_colwidth\", 100)\n",
    "df = pd.read_csv(r'D:\\Repositories\\sentiment-news-bahasa-v2.csv')"
   ]
  },
  {
   "cell_type": "code",
   "execution_count": 2,
   "metadata": {},
   "outputs": [
    {
     "data": {
      "text/plain": [
       "array(['label', 'text'], dtype=object)"
      ]
     },
     "execution_count": 2,
     "metadata": {},
     "output_type": "execute_result"
    }
   ],
   "source": [
    "df.columns.values"
   ]
  },
  {
   "cell_type": "code",
   "execution_count": 3,
   "metadata": {},
   "outputs": [
    {
     "data": {
      "text/html": [
       "<div>\n",
       "<style scoped>\n",
       "    .dataframe tbody tr th:only-of-type {\n",
       "        vertical-align: middle;\n",
       "    }\n",
       "\n",
       "    .dataframe tbody tr th {\n",
       "        vertical-align: top;\n",
       "    }\n",
       "\n",
       "    .dataframe thead th {\n",
       "        text-align: right;\n",
       "    }\n",
       "</style>\n",
       "<table border=\"1\" class=\"dataframe\">\n",
       "  <thead>\n",
       "    <tr style=\"text-align: right;\">\n",
       "      <th></th>\n",
       "      <th>text</th>\n",
       "      <th>label</th>\n",
       "    </tr>\n",
       "  </thead>\n",
       "  <tbody>\n",
       "    <tr>\n",
       "      <th>0</th>\n",
       "      <td>Permohonan ini juga bertujuan memohon penjelasan CRCC, sama ada syarikat berkenaan adalah pemega...</td>\n",
       "      <td>Positive</td>\n",
       "    </tr>\n",
       "    <tr>\n",
       "      <th>1</th>\n",
       "      <td>Projek ini bukti komitmen berterusan kerajaan Barisan Nasional (BN) pada peringkat Persekutuan d...</td>\n",
       "      <td>Positive</td>\n",
       "    </tr>\n",
       "    <tr>\n",
       "      <th>2</th>\n",
       "      <td>Menerusi pembentangan Bajet 2018 yang lalu, kerajaan menyediakan peruntukan mencukupi bagi mempr...</td>\n",
       "      <td>Positive</td>\n",
       "    </tr>\n",
       "    <tr>\n",
       "      <th>3</th>\n",
       "      <td>Berdasarkan kualiti jawapan calon, 27 peratus calon menguasai KBAT pada tahap tinggi, 39 peratus...</td>\n",
       "      <td>Neutral</td>\n",
       "    </tr>\n",
       "    <tr>\n",
       "      <th>4</th>\n",
       "      <td>Pada masa sama, kerajaan negeri juga telah buat bayaran sebanyak RM700 kepada lebih 50,000 mangs...</td>\n",
       "      <td>Positive</td>\n",
       "    </tr>\n",
       "    <tr>\n",
       "      <th>5</th>\n",
       "      <td>Kita bawa pembangunan, bukan sahaja untuk Sabah tetapi ke seluruh Malaysia</td>\n",
       "      <td>Positive</td>\n",
       "    </tr>\n",
       "    <tr>\n",
       "      <th>6</th>\n",
       "      <td>Harapan kita agar isu berkaitan golongan muda seperti pekerjaan, pendidikan dan perumahan diberi...</td>\n",
       "      <td>Positive</td>\n",
       "    </tr>\n",
       "    <tr>\n",
       "      <th>7</th>\n",
       "      <td>Kesan daripada penyemakan ini antaranya membabitkan pertukaran perkataan ordinan kepada akta</td>\n",
       "      <td>Neutral</td>\n",
       "    </tr>\n",
       "    <tr>\n",
       "      <th>8</th>\n",
       "      <td>Kalau dah bersara dan tiada kaitan lagi dengan Felda, kami akan gunakan tindakan sivil ke atas m...</td>\n",
       "      <td>Positive</td>\n",
       "    </tr>\n",
       "    <tr>\n",
       "      <th>9</th>\n",
       "      <td>Kesediaan negara-negara ITRC untuk mematuhi kouta yang diperuntukkan adalah penting bagi memasti...</td>\n",
       "      <td>Positive</td>\n",
       "    </tr>\n",
       "  </tbody>\n",
       "</table>\n",
       "</div>"
      ],
      "text/plain": [
       "                                                                                                  text  \\\n",
       "0  Permohonan ini juga bertujuan memohon penjelasan CRCC, sama ada syarikat berkenaan adalah pemega...   \n",
       "1  Projek ini bukti komitmen berterusan kerajaan Barisan Nasional (BN) pada peringkat Persekutuan d...   \n",
       "2  Menerusi pembentangan Bajet 2018 yang lalu, kerajaan menyediakan peruntukan mencukupi bagi mempr...   \n",
       "3  Berdasarkan kualiti jawapan calon, 27 peratus calon menguasai KBAT pada tahap tinggi, 39 peratus...   \n",
       "4  Pada masa sama, kerajaan negeri juga telah buat bayaran sebanyak RM700 kepada lebih 50,000 mangs...   \n",
       "5                           Kita bawa pembangunan, bukan sahaja untuk Sabah tetapi ke seluruh Malaysia   \n",
       "6  Harapan kita agar isu berkaitan golongan muda seperti pekerjaan, pendidikan dan perumahan diberi...   \n",
       "7         Kesan daripada penyemakan ini antaranya membabitkan pertukaran perkataan ordinan kepada akta   \n",
       "8  Kalau dah bersara dan tiada kaitan lagi dengan Felda, kami akan gunakan tindakan sivil ke atas m...   \n",
       "9  Kesediaan negara-negara ITRC untuk mematuhi kouta yang diperuntukkan adalah penting bagi memasti...   \n",
       "\n",
       "      label  \n",
       "0  Positive  \n",
       "1  Positive  \n",
       "2  Positive  \n",
       "3   Neutral  \n",
       "4  Positive  \n",
       "5  Positive  \n",
       "6  Positive  \n",
       "7   Neutral  \n",
       "8  Positive  \n",
       "9  Positive  "
      ]
     },
     "execution_count": 3,
     "metadata": {},
     "output_type": "execute_result"
    }
   ],
   "source": [
    "df = df[['text','label' ]]\n",
    "df.head(10)"
   ]
  },
  {
   "cell_type": "code",
   "execution_count": 4,
   "metadata": {
    "collapsed": true
   },
   "outputs": [],
   "source": [
    "sent = df.text[0]"
   ]
  },
  {
   "cell_type": "code",
   "execution_count": 5,
   "metadata": {},
   "outputs": [
    {
     "data": {
      "text/plain": [
       "'Permohonan ini juga bertujuan memohon penjelasan CRCC, sama ada syarikat berkenaan adalah pemegang saham bagi syarikat tujuan khas (SPV) bagi projek berkenaan'"
      ]
     },
     "execution_count": 5,
     "metadata": {},
     "output_type": "execute_result"
    }
   ],
   "source": [
    "sent"
   ]
  },
  {
   "cell_type": "code",
   "execution_count": 6,
   "metadata": {
    "collapsed": true
   },
   "outputs": [],
   "source": [
    "from nltk.tokenize import word_tokenize"
   ]
  },
  {
   "cell_type": "code",
   "execution_count": 7,
   "metadata": {
    "collapsed": true
   },
   "outputs": [],
   "source": [
    "tokens = word_tokenize(sent)"
   ]
  },
  {
   "cell_type": "code",
   "execution_count": 8,
   "metadata": {},
   "outputs": [
    {
     "data": {
      "text/html": [
       "<div>\n",
       "<style scoped>\n",
       "    .dataframe tbody tr th:only-of-type {\n",
       "        vertical-align: middle;\n",
       "    }\n",
       "\n",
       "    .dataframe tbody tr th {\n",
       "        vertical-align: top;\n",
       "    }\n",
       "\n",
       "    .dataframe thead th {\n",
       "        text-align: right;\n",
       "    }\n",
       "</style>\n",
       "<table border=\"1\" class=\"dataframe\">\n",
       "  <thead>\n",
       "    <tr style=\"text-align: right;\">\n",
       "      <th></th>\n",
       "      <th>Stop_Word</th>\n",
       "    </tr>\n",
       "  </thead>\n",
       "  <tbody>\n",
       "    <tr>\n",
       "      <th>0</th>\n",
       "      <td>inikah</td>\n",
       "    </tr>\n",
       "    <tr>\n",
       "      <th>1</th>\n",
       "      <td>sampai</td>\n",
       "    </tr>\n",
       "    <tr>\n",
       "      <th>2</th>\n",
       "      <td>adakah</td>\n",
       "    </tr>\n",
       "    <tr>\n",
       "      <th>3</th>\n",
       "      <td>inilah</td>\n",
       "    </tr>\n",
       "    <tr>\n",
       "      <th>4</th>\n",
       "      <td>sana</td>\n",
       "    </tr>\n",
       "  </tbody>\n",
       "</table>\n",
       "</div>"
      ],
      "text/plain": [
       "  Stop_Word\n",
       "0    inikah\n",
       "1    sampai\n",
       "2    adakah\n",
       "3    inilah\n",
       "4      sana"
      ]
     },
     "execution_count": 8,
     "metadata": {},
     "output_type": "execute_result"
    }
   ],
   "source": [
    "stopword2 = pd.read_csv(r'D:\\Repositories\\stopword.csv', index_col =0 )\n",
    "stopword2.head()"
   ]
  },
  {
   "cell_type": "code",
   "execution_count": 9,
   "metadata": {
    "collapsed": true
   },
   "outputs": [],
   "source": [
    "stopword2=list(stopword2['Stop_Word'].values)"
   ]
  },
  {
   "cell_type": "code",
   "execution_count": 10,
   "metadata": {
    "collapsed": true
   },
   "outputs": [],
   "source": [
    "clean_tokens = [x for x in tokens if x not in stopword2 and x.isalpha()]"
   ]
  },
  {
   "cell_type": "code",
   "execution_count": 11,
   "metadata": {},
   "outputs": [
    {
     "data": {
      "text/plain": [
       "['Permohonan',\n",
       " 'bertujuan',\n",
       " 'memohon',\n",
       " 'penjelasan',\n",
       " 'CRCC',\n",
       " 'ada',\n",
       " 'syarikat',\n",
       " 'pemegang',\n",
       " 'saham',\n",
       " 'syarikat',\n",
       " 'tujuan',\n",
       " 'khas',\n",
       " 'SPV',\n",
       " 'projek']"
      ]
     },
     "execution_count": 11,
     "metadata": {},
     "output_type": "execute_result"
    }
   ],
   "source": [
    "clean_tokens"
   ]
  },
  {
   "cell_type": "code",
   "execution_count": 12,
   "metadata": {},
   "outputs": [
    {
     "data": {
      "text/html": [
       "<div>\n",
       "<style scoped>\n",
       "    .dataframe tbody tr th:only-of-type {\n",
       "        vertical-align: middle;\n",
       "    }\n",
       "\n",
       "    .dataframe tbody tr th {\n",
       "        vertical-align: top;\n",
       "    }\n",
       "\n",
       "    .dataframe thead th {\n",
       "        text-align: right;\n",
       "    }\n",
       "</style>\n",
       "<table border=\"1\" class=\"dataframe\">\n",
       "  <thead>\n",
       "    <tr style=\"text-align: right;\">\n",
       "      <th></th>\n",
       "      <th>comment_count</th>\n",
       "      <th>created_time</th>\n",
       "      <th>id</th>\n",
       "      <th>message</th>\n",
       "    </tr>\n",
       "  </thead>\n",
       "  <tbody>\n",
       "    <tr>\n",
       "      <th>0</th>\n",
       "      <td>20</td>\n",
       "      <td>2018-05-18T07:38:02+0000</td>\n",
       "      <td>10158205915314572_10158205956504572</td>\n",
       "      <td>Ni wat smalam:\\r\\n\\r\\nSelamat Malam Tuan,\\r\\n\\r\\nTajuk Report : Pengubahan Wang Haram\\r\\nBalai D...</td>\n",
       "    </tr>\n",
       "    <tr>\n",
       "      <th>1</th>\n",
       "      <td>51</td>\n",
       "      <td>2018-05-18T07:22:08+0000</td>\n",
       "      <td>10158205915314572_10158205918989572</td>\n",
       "      <td>Cakap Malaysia baru. Benda bangang camni pun percaya. Pemerintah je baru. Bangang kau tetap sama.</td>\n",
       "    </tr>\n",
       "    <tr>\n",
       "      <th>2</th>\n",
       "      <td>10</td>\n",
       "      <td>2018-05-18T07:27:31+0000</td>\n",
       "      <td>10158205915314572_10158205929679572</td>\n",
       "      <td>Lima perkara yang membatalkan pahala orang yang berpuasa ; \\r\\n1. Dusta, \\r\\n2. Ghibah (mengumpa...</td>\n",
       "    </tr>\n",
       "    <tr>\n",
       "      <th>3</th>\n",
       "      <td>26</td>\n",
       "      <td>2018-05-18T07:26:41+0000</td>\n",
       "      <td>10158205915314572_10158205926149572</td>\n",
       "      <td>Kita susah2 cari duit bayar GST smpai bertahan nafsu nak beli yg lain sbb kkuragan tapi najib dg...</td>\n",
       "    </tr>\n",
       "    <tr>\n",
       "      <th>4</th>\n",
       "      <td>5</td>\n",
       "      <td>2018-05-18T07:27:05+0000</td>\n",
       "      <td>10158205915314572_10158205926829572</td>\n",
       "      <td>Tgok polis tu aku teringat cerita KluangMan..\\r\\n\\r\\nDia\\r\\nBagai seorang pahlawan\\r\\nMenjadi pe...</td>\n",
       "    </tr>\n",
       "    <tr>\n",
       "      <th>5</th>\n",
       "      <td>3</td>\n",
       "      <td>2018-05-18T07:21:57+0000</td>\n",
       "      <td>10158205915314572_10158205918779572</td>\n",
       "      <td>Tak tahu la nak rasa apa..cuma rasa kat luar nak hujan tu..pastu rasa misi gi bazar terpaksa dib...</td>\n",
       "    </tr>\n",
       "    <tr>\n",
       "      <th>6</th>\n",
       "      <td>0</td>\n",
       "      <td>2018-05-18T07:33:32+0000</td>\n",
       "      <td>10158205915314572_10158205949034572</td>\n",
       "      <td>aku pun meluat kat najib ngan kak mah. Tapi make sure la gambar gambar ni betul betul sahih. BUl...</td>\n",
       "    </tr>\n",
       "    <tr>\n",
       "      <th>7</th>\n",
       "      <td>2</td>\n",
       "      <td>2018-05-18T07:32:30+0000</td>\n",
       "      <td>10158205915314572_10158205947429572</td>\n",
       "      <td>Datuk Seri Najib, Datin Seri Rosmah dan Tun Mahathir punca kita muflis.\\r\\n\\r\\n—————————————————...</td>\n",
       "    </tr>\n",
       "    <tr>\n",
       "      <th>8</th>\n",
       "      <td>2</td>\n",
       "      <td>2018-05-18T07:33:02+0000</td>\n",
       "      <td>10158205915314572_10158205948294572</td>\n",
       "      <td>Bulan yg baik mcm ni pun ada fitnah. Ya Allah kau hancurkan lah musuh yg menyebarkan fitnah ini....</td>\n",
       "    </tr>\n",
       "    <tr>\n",
       "      <th>9</th>\n",
       "      <td>0</td>\n",
       "      <td>2018-05-18T07:49:24+0000</td>\n",
       "      <td>10158205915314572_10158205973274572</td>\n",
       "      <td>Perlu ke buat begini dekat Khalifah kita iaitu Khalifah syeikh dato seri najib razak al fatih al...</td>\n",
       "    </tr>\n",
       "    <tr>\n",
       "      <th>10</th>\n",
       "      <td>2</td>\n",
       "      <td>2018-05-18T07:33:35+0000</td>\n",
       "      <td>10158205915314572_10158205949079572</td>\n",
       "      <td>Tak blh ke buat cabutan bertuah jam tgn, handbag dan segala aksesori tu semua kepada rakyat.. ad...</td>\n",
       "    </tr>\n",
       "    <tr>\n",
       "      <th>11</th>\n",
       "      <td>0</td>\n",
       "      <td>2018-05-18T07:39:17+0000</td>\n",
       "      <td>10158205915314572_10158205958184572</td>\n",
       "      <td>these people are probably invisible, able to get close to the consficated stuff..especially phot...</td>\n",
       "    </tr>\n",
       "    <tr>\n",
       "      <th>12</th>\n",
       "      <td>0</td>\n",
       "      <td>2018-05-18T08:15:17+0000</td>\n",
       "      <td>10158205915314572_10158206006694572</td>\n",
       "      <td>_*“Kelak akan datang di akhir zaman segolongan manusia, di mana wajah-wajah mereka adalah wajah ...</td>\n",
       "    </tr>\n",
       "    <tr>\n",
       "      <th>13</th>\n",
       "      <td>0</td>\n",
       "      <td>2018-05-18T07:44:39+0000</td>\n",
       "      <td>10158205915314572_10158205966544572</td>\n",
       "      <td>ye ke dok deme ni.. aku ph jugak.. tak undi bn.. tapi berita tu nak benar.. semalam peti besi la...</td>\n",
       "    </tr>\n",
       "    <tr>\n",
       "      <th>14</th>\n",
       "      <td>0</td>\n",
       "      <td>2018-05-18T08:02:25+0000</td>\n",
       "      <td>10158205915314572_10158205990699572</td>\n",
       "      <td>Muhammad Ali HamidiSyarif HidayatullahAbdul Hadi Suhendra  , satu rumah najib aja dah gini😄.. ba...</td>\n",
       "    </tr>\n",
       "    <tr>\n",
       "      <th>15</th>\n",
       "      <td>1</td>\n",
       "      <td>2018-05-18T07:26:55+0000</td>\n",
       "      <td>10158205915314572_10158205926584572</td>\n",
       "      <td>Cukup lah kamu semua memfitnah isteri Khalifah Dato seri najib razak al fatih ini, jam itu semua...</td>\n",
       "    </tr>\n",
       "    <tr>\n",
       "      <th>16</th>\n",
       "      <td>0</td>\n",
       "      <td>2018-05-18T07:54:29+0000</td>\n",
       "      <td>10158205915314572_10158205979614572</td>\n",
       "      <td>Sebarkan fakta, bukan dusta. \\r\\nTk pasti, jgn kongsi. \\r\\nMesej pesanan khidmat masyarakat ini ...</td>\n",
       "    </tr>\n",
       "    <tr>\n",
       "      <th>17</th>\n",
       "      <td>0</td>\n",
       "      <td>2018-05-18T07:44:52+0000</td>\n",
       "      <td>10158205915314572_10158205966769572</td>\n",
       "      <td>Kurang ajar betul kereta depan aku tadi. Bawak kereta macam jalan bapak dia. \\r\\n\\r\\nSampai terb...</td>\n",
       "    </tr>\n",
       "    <tr>\n",
       "      <th>18</th>\n",
       "      <td>0</td>\n",
       "      <td>2018-05-18T07:46:25+0000</td>\n",
       "      <td>10158205915314572_10158205969394572</td>\n",
       "      <td>Saya rasa tak perlu nak speculate the news admin. Please have some media ethics in showing what’...</td>\n",
       "    </tr>\n",
       "    <tr>\n",
       "      <th>19</th>\n",
       "      <td>0</td>\n",
       "      <td>2018-05-18T07:30:40+0000</td>\n",
       "      <td>10158205915314572_10158205944794572</td>\n",
       "      <td>Seorang nelayan miskin yang hidupnya menanggung keluarga dengan hasil tangkapan ikan. \\r\\n\\r\\nMa...</td>\n",
       "    </tr>\n",
       "  </tbody>\n",
       "</table>\n",
       "</div>"
      ],
      "text/plain": [
       "    comment_count              created_time  \\\n",
       "0              20  2018-05-18T07:38:02+0000   \n",
       "1              51  2018-05-18T07:22:08+0000   \n",
       "2              10  2018-05-18T07:27:31+0000   \n",
       "3              26  2018-05-18T07:26:41+0000   \n",
       "4               5  2018-05-18T07:27:05+0000   \n",
       "5               3  2018-05-18T07:21:57+0000   \n",
       "6               0  2018-05-18T07:33:32+0000   \n",
       "7               2  2018-05-18T07:32:30+0000   \n",
       "8               2  2018-05-18T07:33:02+0000   \n",
       "9               0  2018-05-18T07:49:24+0000   \n",
       "10              2  2018-05-18T07:33:35+0000   \n",
       "11              0  2018-05-18T07:39:17+0000   \n",
       "12              0  2018-05-18T08:15:17+0000   \n",
       "13              0  2018-05-18T07:44:39+0000   \n",
       "14              0  2018-05-18T08:02:25+0000   \n",
       "15              1  2018-05-18T07:26:55+0000   \n",
       "16              0  2018-05-18T07:54:29+0000   \n",
       "17              0  2018-05-18T07:44:52+0000   \n",
       "18              0  2018-05-18T07:46:25+0000   \n",
       "19              0  2018-05-18T07:30:40+0000   \n",
       "\n",
       "                                     id  \\\n",
       "0   10158205915314572_10158205956504572   \n",
       "1   10158205915314572_10158205918989572   \n",
       "2   10158205915314572_10158205929679572   \n",
       "3   10158205915314572_10158205926149572   \n",
       "4   10158205915314572_10158205926829572   \n",
       "5   10158205915314572_10158205918779572   \n",
       "6   10158205915314572_10158205949034572   \n",
       "7   10158205915314572_10158205947429572   \n",
       "8   10158205915314572_10158205948294572   \n",
       "9   10158205915314572_10158205973274572   \n",
       "10  10158205915314572_10158205949079572   \n",
       "11  10158205915314572_10158205958184572   \n",
       "12  10158205915314572_10158206006694572   \n",
       "13  10158205915314572_10158205966544572   \n",
       "14  10158205915314572_10158205990699572   \n",
       "15  10158205915314572_10158205926584572   \n",
       "16  10158205915314572_10158205979614572   \n",
       "17  10158205915314572_10158205966769572   \n",
       "18  10158205915314572_10158205969394572   \n",
       "19  10158205915314572_10158205944794572   \n",
       "\n",
       "                                                                                                message  \n",
       "0   Ni wat smalam:\\r\\n\\r\\nSelamat Malam Tuan,\\r\\n\\r\\nTajuk Report : Pengubahan Wang Haram\\r\\nBalai D...  \n",
       "1     Cakap Malaysia baru. Benda bangang camni pun percaya. Pemerintah je baru. Bangang kau tetap sama.  \n",
       "2   Lima perkara yang membatalkan pahala orang yang berpuasa ; \\r\\n1. Dusta, \\r\\n2. Ghibah (mengumpa...  \n",
       "3   Kita susah2 cari duit bayar GST smpai bertahan nafsu nak beli yg lain sbb kkuragan tapi najib dg...  \n",
       "4   Tgok polis tu aku teringat cerita KluangMan..\\r\\n\\r\\nDia\\r\\nBagai seorang pahlawan\\r\\nMenjadi pe...  \n",
       "5   Tak tahu la nak rasa apa..cuma rasa kat luar nak hujan tu..pastu rasa misi gi bazar terpaksa dib...  \n",
       "6   aku pun meluat kat najib ngan kak mah. Tapi make sure la gambar gambar ni betul betul sahih. BUl...  \n",
       "7   Datuk Seri Najib, Datin Seri Rosmah dan Tun Mahathir punca kita muflis.\\r\\n\\r\\n—————————————————...  \n",
       "8   Bulan yg baik mcm ni pun ada fitnah. Ya Allah kau hancurkan lah musuh yg menyebarkan fitnah ini....  \n",
       "9   Perlu ke buat begini dekat Khalifah kita iaitu Khalifah syeikh dato seri najib razak al fatih al...  \n",
       "10  Tak blh ke buat cabutan bertuah jam tgn, handbag dan segala aksesori tu semua kepada rakyat.. ad...  \n",
       "11  these people are probably invisible, able to get close to the consficated stuff..especially phot...  \n",
       "12  _*“Kelak akan datang di akhir zaman segolongan manusia, di mana wajah-wajah mereka adalah wajah ...  \n",
       "13  ye ke dok deme ni.. aku ph jugak.. tak undi bn.. tapi berita tu nak benar.. semalam peti besi la...  \n",
       "14  Muhammad Ali HamidiSyarif HidayatullahAbdul Hadi Suhendra  , satu rumah najib aja dah gini😄.. ba...  \n",
       "15  Cukup lah kamu semua memfitnah isteri Khalifah Dato seri najib razak al fatih ini, jam itu semua...  \n",
       "16  Sebarkan fakta, bukan dusta. \\r\\nTk pasti, jgn kongsi. \\r\\nMesej pesanan khidmat masyarakat ini ...  \n",
       "17  Kurang ajar betul kereta depan aku tadi. Bawak kereta macam jalan bapak dia. \\r\\n\\r\\nSampai terb...  \n",
       "18  Saya rasa tak perlu nak speculate the news admin. Please have some media ethics in showing what’...  \n",
       "19  Seorang nelayan miskin yang hidupnya menanggung keluarga dengan hasil tangkapan ikan. \\r\\n\\r\\nMa...  "
      ]
     },
     "execution_count": 12,
     "metadata": {},
     "output_type": "execute_result"
    }
   ],
   "source": [
    "birkins = pd.read_csv(r'D:\\Repositories\\beg_birkins.csv', index_col=0)\n",
    "birkins.head(20)"
   ]
  },
  {
   "cell_type": "code",
   "execution_count": 13,
   "metadata": {},
   "outputs": [
    {
     "data": {
      "text/plain": [
       "0      Ni wat smalam:\\r\\n\\r\\nSelamat Malam Tuan,\\r\\n\\r\\nTajuk Report : Pengubahan Wang Haram\\r\\nBalai D...\n",
       "1        Cakap Malaysia baru. Benda bangang camni pun percaya. Pemerintah je baru. Bangang kau tetap sama.\n",
       "2      Lima perkara yang membatalkan pahala orang yang berpuasa ; \\r\\n1. Dusta, \\r\\n2. Ghibah (mengumpa...\n",
       "3      Kita susah2 cari duit bayar GST smpai bertahan nafsu nak beli yg lain sbb kkuragan tapi najib dg...\n",
       "4      Tgok polis tu aku teringat cerita KluangMan..\\r\\n\\r\\nDia\\r\\nBagai seorang pahlawan\\r\\nMenjadi pe...\n",
       "5      Tak tahu la nak rasa apa..cuma rasa kat luar nak hujan tu..pastu rasa misi gi bazar terpaksa dib...\n",
       "6      aku pun meluat kat najib ngan kak mah. Tapi make sure la gambar gambar ni betul betul sahih. BUl...\n",
       "7      Datuk Seri Najib, Datin Seri Rosmah dan Tun Mahathir punca kita muflis.\\r\\n\\r\\n—————————————————...\n",
       "8      Bulan yg baik mcm ni pun ada fitnah. Ya Allah kau hancurkan lah musuh yg menyebarkan fitnah ini....\n",
       "9      Perlu ke buat begini dekat Khalifah kita iaitu Khalifah syeikh dato seri najib razak al fatih al...\n",
       "10     Tak blh ke buat cabutan bertuah jam tgn, handbag dan segala aksesori tu semua kepada rakyat.. ad...\n",
       "11     these people are probably invisible, able to get close to the consficated stuff..especially phot...\n",
       "12     _*“Kelak akan datang di akhir zaman segolongan manusia, di mana wajah-wajah mereka adalah wajah ...\n",
       "13     ye ke dok deme ni.. aku ph jugak.. tak undi bn.. tapi berita tu nak benar.. semalam peti besi la...\n",
       "14     Muhammad Ali HamidiSyarif HidayatullahAbdul Hadi Suhendra  , satu rumah najib aja dah gini😄.. ba...\n",
       "15     Cukup lah kamu semua memfitnah isteri Khalifah Dato seri najib razak al fatih ini, jam itu semua...\n",
       "16     Sebarkan fakta, bukan dusta. \\r\\nTk pasti, jgn kongsi. \\r\\nMesej pesanan khidmat masyarakat ini ...\n",
       "17     Kurang ajar betul kereta depan aku tadi. Bawak kereta macam jalan bapak dia. \\r\\n\\r\\nSampai terb...\n",
       "18     Saya rasa tak perlu nak speculate the news admin. Please have some media ethics in showing what’...\n",
       "19     Seorang nelayan miskin yang hidupnya menanggung keluarga dengan hasil tangkapan ikan. \\r\\n\\r\\nMa...\n",
       "20     Admin Oh! Media remove laa ye gambar2 hasil google tu.. x kira laa gambaran ke.. andaian ke... R...\n",
       "21     Pic google 2015-2017 please lah.... camne boleh prcaya high profile case punya bukti ingt snang2...\n",
       "22     Kalau peti besi besar ni....depa boleh angkut je bwk gi balai....tak pening nak habiskan masa be...\n",
       "23     \"Ehsan\" bekas Perdana Menteri ketika menjadi Perdana Menteri kepada bekas Perdana Menteri yang k...\n",
       "24     Fakes ni. Dh blh la kekalkan akta fake news. Byk sgt viral benda xbetol. Jgn dipolitikkan fake n...\n",
       "25                Saya harap beg tu dijual dgn diskaun 90 percent.. Tu pun x tentu lg saya boleh beli haha\n",
       "26     min...  dah boleh buka puasa dah kot...  fitnah bodoh cm ni pon nak up ke... memalukan persatuan...\n",
       "27                               gmbr google la min... boleh mendatangkan fitnah nih... dop molek ore kato\n",
       "28     Banyak gambar fake kecuali yang ada gambar polis. Tu je. Boleh saman admin sebab sebarkan fitnah...\n",
       "29     Ini semua fitnah. Kami orang2 kampung takkan percaya. Ini semua konspirasi menjatuhkan najjib.ha...\n",
       "                                                      ...                                                 \n",
       "759                                            Tudiaa..klu btoi ni, senang lenang sungguh idup depa noh...\n",
       "760                                                               agak2 beg hermes tu dorg watpe eh nnt? 😂\n",
       "761                                                                                                      😱\n",
       "762                                                         tolong berkualiti sikit awak. gambar google tu\n",
       "763                                                                                              Kahkahkah\n",
       "764                                                                                     sabo syg... huhuhu\n",
       "765                                                            Handbag sume design sama. Xde taste ke die?\n",
       "766                                                                         tu dia gambarkan je.. bkn btl2\n",
       "767                                     Qenji Takiya elehh skg gambarkan laa. Ntah2 btul nk coverline je 😝\n",
       "768                                                                                                    NaN\n",
       "769                                                                                                    NaN\n",
       "770                                                                                                    NaN\n",
       "771                                                                                                    NaN\n",
       "772                                                       klu ada 2ratus lebih bag agak agak berapa semua?\n",
       "773                                                                                       Lebih 2.6b nie 😂\n",
       "774                                                                    jadah nye.. 1b ada byk 0 ni 200j je\n",
       "775    Gbr ngangkut brg dlm lori nyak betul, gbr duit jam tangan ngau beg nyak sekadar gbr hiasan aja.....\n",
       "776                                                                                      Ratna Sari hahaha\n",
       "777                                      Bapak ahh. Sahih ke gambaq tu? Sepesen je bag dia kaler je lain 😂\n",
       "778                                                             Ni mcm gambar google je ni.tak best laaa 😫\n",
       "779                                                    Hahah ntah la, kdg2 dorang pandai2 je tokok tambah.\n",
       "780                            Nabilah Razak tu la kan.ade benda bole percaya ada benda tak boleh percaya.\n",
       "781                                                                         nak membawang je pakcik bawang\n",
       "782                                                                                   Astye Asyte suka nii\n",
       "783                                                                                  Ikhwana Izzati hahaha\n",
       "784                                                                                         Kalau aku kaya\n",
       "785                            minta sikit kt TUN Mahathir lagi kaya 22 yrs bayangkanlaaa....belagak suci😅\n",
       "786                                                 Eddy RoniMohd KhairyYassier AimanMuhammad Yusuf Bahrin\n",
       "787                                                                                                   fake\n",
       "788                                                                                                 gambar\n",
       "Name: message, Length: 789, dtype: object"
      ]
     },
     "execution_count": 13,
     "metadata": {},
     "output_type": "execute_result"
    }
   ],
   "source": [
    "msg = birkins['message']\n",
    "msg"
   ]
  },
  {
   "cell_type": "code",
   "execution_count": 14,
   "metadata": {
    "collapsed": true
   },
   "outputs": [],
   "source": [
    "msg = msg.dropna()"
   ]
  },
  {
   "cell_type": "code",
   "execution_count": 15,
   "metadata": {},
   "outputs": [
    {
     "data": {
      "text/plain": [
       "(740,)"
      ]
     },
     "execution_count": 15,
     "metadata": {},
     "output_type": "execute_result"
    }
   ],
   "source": [
    "msg.shape"
   ]
  },
  {
   "cell_type": "code",
   "execution_count": 16,
   "metadata": {},
   "outputs": [
    {
     "data": {
      "text/plain": [
       "0    Ni wat smalam:\\r\\n\\r\\nSelamat Malam Tuan,\\r\\n\\r\\nTajuk Report : Pengubahan Wang Haram\\r\\nBalai D...\n",
       "1      Cakap Malaysia baru. Benda bangang camni pun percaya. Pemerintah je baru. Bangang kau tetap sama.\n",
       "2    Lima perkara yang membatalkan pahala orang yang berpuasa ; \\r\\n1. Dusta, \\r\\n2. Ghibah (mengumpa...\n",
       "3    Kita susah2 cari duit bayar GST smpai bertahan nafsu nak beli yg lain sbb kkuragan tapi najib dg...\n",
       "4    Tgok polis tu aku teringat cerita KluangMan..\\r\\n\\r\\nDia\\r\\nBagai seorang pahlawan\\r\\nMenjadi pe...\n",
       "5    Tak tahu la nak rasa apa..cuma rasa kat luar nak hujan tu..pastu rasa misi gi bazar terpaksa dib...\n",
       "6    aku pun meluat kat najib ngan kak mah. Tapi make sure la gambar gambar ni betul betul sahih. BUl...\n",
       "7    Datuk Seri Najib, Datin Seri Rosmah dan Tun Mahathir punca kita muflis.\\r\\n\\r\\n—————————————————...\n",
       "8    Bulan yg baik mcm ni pun ada fitnah. Ya Allah kau hancurkan lah musuh yg menyebarkan fitnah ini....\n",
       "9    Perlu ke buat begini dekat Khalifah kita iaitu Khalifah syeikh dato seri najib razak al fatih al...\n",
       "Name: message, dtype: object"
      ]
     },
     "execution_count": 16,
     "metadata": {},
     "output_type": "execute_result"
    }
   ],
   "source": [
    "msg.head(10)"
   ]
  },
  {
   "cell_type": "code",
   "execution_count": 17,
   "metadata": {},
   "outputs": [
    {
     "name": "stdout",
     "output_type": "stream",
     "text": [
      "Ni wat smalam:\r\n",
      "\r\n",
      "Selamat Malam Tuan,\r\n",
      "\r\n",
      "Tajuk Report : Pengubahan Wang Haram\r\n",
      "Balai Diambil : Urus Setia Kpn (AMLA)\r\n",
      "Daerah Diambil:Urus Setia Kpn (AMLA)\r\n",
      "Kontinjen Diambil: Bukit Aman\r\n",
      "No Repot: Sentul/009019/18\r\n",
      "Tarikh:17/05/2018\r\n",
      "Waktu:21:18\r\n",
      "\r\n",
      "*Butir- butir pengadu* :\r\n",
      "\r\n",
      "Nama: Albany Bin Hamzah\r\n",
      "Tarikh Lahir:10/08/1969\r\n",
      "Umur : 48 Tahun 9 Bulan\r\n",
      "Pekerjaan: Pegawai Kanan Polis\r\n",
      "Alamat Tinggal: Pejabat Pasukan Siasatan Jenayah Pengubahan Wang Haram (Amla), Urus Setia Kpn, Aras 23, Me\r\n",
      "Alamat Pejabat : Pejabat Pasukan Siasatan Jenayah Pengubahan Wang Haram (Amla), Urus Setia Kpn, Aras 23, Me\r\n",
      "No Tel(Pejabat): 03-26101409\r\n",
      "No Tel(Bimbit): 019-2412826\r\n",
      "\r\n",
      "*Pengadu menyatakan* :\r\n",
      "\r\n",
      "Pada 16/5/2018 jam lebih kurang 2230 hrs, bertindak di atas maklumat bersabit Dang Wangi Rpt 12267/18, pengadu bersama sepasukan polis yang diketuai oleh SAC Sasikala Devi A/P Subramaniam dan SAC Dato Khalil Azlan Bin Hj Chik serta pegawai terdiri daripada ACP Ng Keok Chai, SUPT Amran Bin Jusin, SUPT Amran bin Yakoob, SUPT Mohd Asmadi Bin Yusoff, SUPT Marvin Tan Seng Kian, Supt Gurbinder Singh,DSP Albany Bin Hamzah, DSP Saravanan, DSP Madhavan Nair, ASP Thoo Mei Kuan, ASP Anizan Bin Adnan, ASP Norfalisa Hartini Binti Kholin, Insp Surech Naidu, Insp Norfetri Sabrina, SI Khairuddin dan bersama 18 anggota polis daripada Jabatan Siasatan Jenayah Komersil Bukit Aman dan Pasukan Siasatan Jenayah Pengubahan Wang Haram (AMLA) telah pergi ke alamat No 11 Jalan Langgak Duta, Taman Duta 50480 Kuala Lumpur. \r\n",
      "\r\n",
      "Setelah sampai di alamat tersebut, SAC Sasikala Devi A/P Subramaniam dan SAC Dato Khalil Azlan Bin Hj Chik telah kenalkan diri polis kepada penghuni rumah tersebut iaitu Dato\" Sri Mohd Najib Bin Tun Abdul Razak dengan menunjukkan kad kuasa Polis kepadanya. Lebih kurang jam 2330hrs, SAC Sasikala telah mengarahkan kami semua untuk membuat pemeriksaan di dalam rumah tersebut. Hasil pemeriksaan telah merampas barangan seperti berikut: \r\n",
      "\r\n",
      "1. Satu kotak Chanel mengandungi satu beg tangan bewarna merah jambu berlambang CC \r\n",
      "2. Satu kotak Chanel mengandungi satu beg tangan bewarna -light fatigure green- berlambang CC \r\n",
      "3. Satu kotak Chanel mengandungi satu beg tangan bewarna -royale blue- berlambang CC \r\n",
      "4. Satu kotak Chanel mengandungi satu beg tangan bewarna -fatigure green- berlambang CC \r\n",
      "5. Satu kotak Chanel mengandungi satu beg tangan bewarna -beige- berlambang CC \r\n",
      "6. Satu kotak Chanel mengandungi satu beg tangan bewarna putih berlambang CC \r\n",
      "7. Satu kotak Chanel mengandungi satu beg tangan bewarna merah berlambang CC \r\n",
      "8. Satu kotak Chanel mengandungi satu beg tangan bewarna -pink- berlambang CC \r\n",
      "9. Satu kotak Chanel mengandungi satu beg tangan bewarna biru berlambang CC \r\n",
      "10. Satu kotak Chanel mengandungi satu beg tangan bewarna hijau muda berlambang CC \r\n",
      "11. Satu kotak Chanel mengandungi satu beg tangan bewarna -fatigure green- berlambang CC \r\n",
      "12. Satu kotak Chanel mengandungi satu beg tangan bewarna -light pink- berlambang CC \r\n",
      "13. Satu kotak Chanel mengandungi satu beg tangan bewarna -maroon- berlambang CC \r\n",
      "14. Satu kotak Chanel mengandungi satu beg tangan bewarna -merah- berlambang CC \r\n",
      "15. Satu kotak Chanel mengandungi satu beg tangan bewarna -pink fuschia- berlambang CC \r\n",
      "\r\n",
      "Barangan diatas dijumpai di ruang surau rumah tersebut. \r\n",
      "\r\n",
      "16. Satubuah beg tangan Versace berwarna black w/stone \r\n",
      "17. Satubuah beg tangan Versace berwarna purple w/green and blue \r\n",
      "18. Satubuah beg tangan Gucci berwarna royal blue velvateberlambang \"cc\" \r\n",
      "19. Satubuah beg tangan Gucci berwarna green leather \r\n",
      "20. Satubuah beg tangan Gucci berwarna white navy\"s red/flower embroidery \r\n",
      "21. Satubuah beg tangan Gucci berwarna red leather \r\n",
      "22. Satubuah beg tanga Oscar De La Rentaberwarna peach satin w/stone \r\n",
      "23. Satubuah beg tangan Oscar De La Rentaberwarna blue purple snake skin \r\n",
      "24. Satubuah beg tangan Oscar De La Rentaberwan peach pink snake skin \r\n",
      "25. Satubuah beg tangan Oscar De La Rentaberwarna orange snake skin \r\n",
      "26. Satubuah beg tangan Oscar De La Rentaberwarna yellow snake skin \r\n",
      "27. Satubuah beg tangan Versace berwarna black \r\n",
      "28. Satubuah beg tangan Gucci berwarna pink white mixed color green & burgundy \r\n",
      "29. Satubuah beg tangan Versace berwarna gold \r\n",
      "30. Satubuah beg tangan Prada berwarna brown w beige color \r\n",
      "31. Satubuah beg tanganGucci berwarna black skin \r\n",
      "32. Satubuah beg tangan Versace berwarnapink embroidery \r\n",
      "33. Satubuah beg tangan Versace berwarnablue purple \r\n",
      "34. Satubuah beg tangan Michael Kors berwarna orange \r\n",
      "35. Satubuah beg tanganberwarnahitam (Velentino) \r\n",
      "36. Satubuah beg tangan Versace berwarna black \r\n",
      "37. Satubuah beg tangan Channel berwarna red medium \r\n",
      "38. Satubuah beg tangan Dolce Gabbana berwarna black \r\n",
      "39. Satubuah beg tangan Gucci berwarna red \r\n",
      "40. Satubuah beg tangan Versace berwarna black shiny \r\n",
      "41. Satubuah beg tangan Gucci berwarna black \r\n",
      "42. Satubuah beg tangan Prada berwarna green \r\n",
      "43. Satubuah beg tanganPianaClericoberwarna black \r\n",
      "44. Satubuah beg tangan Louis Vuitton berwarna off white shining \r\n",
      "45. Satubuah beg tanganGucci berwarna light beise \r\n",
      "46. Satubuah beg tangan Gucci berwarna green w mix color \r\n",
      "47. Satubuah beg tangan LV berwarna blue croco skin \r\n",
      "48. Satubuah beg tangan LV berwarna fuchsia pink w red \r\n",
      "49. Satubuah beg tangan LV berwarna light peach w/brown \r\n",
      "50. Satubuah beg tangan Loewe berwarna purple croco \r\n",
      "\r\n",
      "Barangan diatas dijumpai di stor rumah tersebut. \r\n",
      "\r\n",
      "51. Satu unit jam tangan berwarna perak bermuka warna hitam jenama Rolex Oyster Perpetual Day Date \r\n",
      "52. Satu unit jam tangan kulit hitam bermuka warna perang jenama Rolex Oyster Perpetual Superlative Chronometer Officially Certified Cosmograph \r\n",
      "53. Satu unit jam tangan kulit hitam bermuka hitam jenama Rolex Sky - Oweller Oyster Perpetual Superlative Chronometer Officially Certified \r\n",
      "54. Satu unit jam tangan warna perak (putih) jenama Rolex Cosmograph Day - Tona \r\n",
      "55. Satu unit jam tangan warna perak bermuka hitam jenama Rolex Cosmograph \r\n",
      "56. Satu unit jam tangan perak bermuka putih jenama Oyster Cosmograph \r\n",
      "57. Satu unit jam tangan kulit berwarna coklat bermuka kelabu jenama Patek Philippe Geneve \r\n",
      "58. Satu unit jam tangan bertali getah hitam jenama Richard Mille \r\n",
      "59. Satu unit jam tangan berwarna perak bermuka hitam jenama Rolex Oyster Perpetual Superlative Chronometer Officially Certified Cosmograph \r\n",
      "60. Satu unit jam tangan bertali getah biru jenama Hublot \r\n",
      "61. Pounds Sterling 2700 \r\n",
      "62. Wang tunai RM 537,000.00 \r\n",
      "63. Wang tunai Rupees Sri Lanka 2,870,000.00 \r\n",
      "\r\n",
      "Barangan diatas dijumpai di bilik Nur Ashman Razak Bin Dato Sri Mohd Najib. \r\n",
      "\r\n",
      "64. Dua unit beg Roberto Cavalli \r\n",
      "\r\n",
      "Barangan diatas dijumpai di bilik stor pakaian tingkat 1 \r\n",
      "\r\n",
      "Semasa pemeriksaan ini, kami telah merampas kesemua item-item di atas kerana kami mempunyai alasan munasabah untuk mengesyaki bahawa kesemua item-item itu adalah merupakan hal perkara bagi kesalahan dibawah Sek 4(1) AMLATFPUAA 2001. Borang Bongkar telah dikeluarkan dan sesalinan borang bongkar tersebut telah diserahkan. Rampasan dibawa balik ke Pejabat Pasukan Siasatan Jenayah Pengubahan Wang Haram, Urus Setia Ketua Polis Negara, Bukit Aman untuk tindakan selanjutnya. Kes masih lagi dalam siasatan.\n"
     ]
    }
   ],
   "source": [
    "print(msg[0])"
   ]
  },
  {
   "cell_type": "code",
   "execution_count": null,
   "metadata": {
    "collapsed": true
   },
   "outputs": [],
   "source": []
  }
 ],
 "metadata": {
  "kernelspec": {
   "display_name": "Python [default]",
   "language": "python",
   "name": "python3"
  },
  "language_info": {
   "codemirror_mode": {
    "name": "ipython",
    "version": 3
   },
   "file_extension": ".py",
   "mimetype": "text/x-python",
   "name": "python",
   "nbconvert_exporter": "python",
   "pygments_lexer": "ipython3",
   "version": "3.5.3"
  }
 },
 "nbformat": 4,
 "nbformat_minor": 2
}
