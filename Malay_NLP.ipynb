{
 "cells": [
  {
   "cell_type": "code",
   "execution_count": 1,
   "metadata": {
    "collapsed": true
   },
   "outputs": [],
   "source": [
    "import pandas as pd\n",
    "import numpy as np\n",
    "\n",
    "df = pd.read_csv(r'D:\\Repositories\\sentiment-news-bahasa-v2.csv')\n",
    "df2 = pd.read_csv(r'D:\\Repositories\\sentiment-news-bahasa-v3.csv')"
   ]
  },
  {
   "cell_type": "code",
   "execution_count": 3,
   "metadata": {
    "collapsed": true
   },
   "outputs": [],
   "source": [
    "combined_df = pd.concat([df,df2], ignore_index = True)"
   ]
  },
  {
   "cell_type": "code",
   "execution_count": 4,
   "metadata": {},
   "outputs": [
    {
     "data": {
      "text/plain": [
       "(7537, 2)"
      ]
     },
     "execution_count": 4,
     "metadata": {},
     "output_type": "execute_result"
    }
   ],
   "source": [
    "combined_df.shape"
   ]
  },
  {
   "cell_type": "code",
   "execution_count": 6,
   "metadata": {
    "scrolled": false
   },
   "outputs": [
    {
     "data": {
      "text/html": [
       "<div>\n",
       "<style scoped>\n",
       "    .dataframe tbody tr th:only-of-type {\n",
       "        vertical-align: middle;\n",
       "    }\n",
       "\n",
       "    .dataframe tbody tr th {\n",
       "        vertical-align: top;\n",
       "    }\n",
       "\n",
       "    .dataframe thead th {\n",
       "        text-align: right;\n",
       "    }\n",
       "</style>\n",
       "<table border=\"1\" class=\"dataframe\">\n",
       "  <thead>\n",
       "    <tr style=\"text-align: right;\">\n",
       "      <th></th>\n",
       "      <th>label</th>\n",
       "      <th>text</th>\n",
       "    </tr>\n",
       "  </thead>\n",
       "  <tbody>\n",
       "    <tr>\n",
       "      <th>0</th>\n",
       "      <td>Positive</td>\n",
       "      <td>Permohonan ini juga bertujuan memohon penjelas...</td>\n",
       "    </tr>\n",
       "    <tr>\n",
       "      <th>1</th>\n",
       "      <td>Positive</td>\n",
       "      <td>Projek ini bukti komitmen berterusan kerajaan ...</td>\n",
       "    </tr>\n",
       "    <tr>\n",
       "      <th>2</th>\n",
       "      <td>Positive</td>\n",
       "      <td>Menerusi pembentangan Bajet 2018 yang lalu, ke...</td>\n",
       "    </tr>\n",
       "    <tr>\n",
       "      <th>3</th>\n",
       "      <td>Neutral</td>\n",
       "      <td>Berdasarkan kualiti jawapan calon, 27 peratus ...</td>\n",
       "    </tr>\n",
       "    <tr>\n",
       "      <th>4</th>\n",
       "      <td>Positive</td>\n",
       "      <td>Pada masa sama, kerajaan negeri juga telah bua...</td>\n",
       "    </tr>\n",
       "    <tr>\n",
       "      <th>5</th>\n",
       "      <td>Positive</td>\n",
       "      <td>Kita bawa pembangunan, bukan sahaja untuk Saba...</td>\n",
       "    </tr>\n",
       "    <tr>\n",
       "      <th>6</th>\n",
       "      <td>Positive</td>\n",
       "      <td>Harapan kita agar isu berkaitan golongan muda ...</td>\n",
       "    </tr>\n",
       "    <tr>\n",
       "      <th>7</th>\n",
       "      <td>Neutral</td>\n",
       "      <td>Kesan daripada penyemakan ini antaranya membab...</td>\n",
       "    </tr>\n",
       "    <tr>\n",
       "      <th>8</th>\n",
       "      <td>Positive</td>\n",
       "      <td>Kalau dah bersara dan tiada kaitan lagi dengan...</td>\n",
       "    </tr>\n",
       "    <tr>\n",
       "      <th>9</th>\n",
       "      <td>Positive</td>\n",
       "      <td>Kesediaan negara-negara ITRC untuk mematuhi ko...</td>\n",
       "    </tr>\n",
       "  </tbody>\n",
       "</table>\n",
       "</div>"
      ],
      "text/plain": [
       "      label                                               text\n",
       "0  Positive  Permohonan ini juga bertujuan memohon penjelas...\n",
       "1  Positive  Projek ini bukti komitmen berterusan kerajaan ...\n",
       "2  Positive  Menerusi pembentangan Bajet 2018 yang lalu, ke...\n",
       "3   Neutral  Berdasarkan kualiti jawapan calon, 27 peratus ...\n",
       "4  Positive  Pada masa sama, kerajaan negeri juga telah bua...\n",
       "5  Positive  Kita bawa pembangunan, bukan sahaja untuk Saba...\n",
       "6  Positive  Harapan kita agar isu berkaitan golongan muda ...\n",
       "7   Neutral  Kesan daripada penyemakan ini antaranya membab...\n",
       "8  Positive  Kalau dah bersara dan tiada kaitan lagi dengan...\n",
       "9  Positive  Kesediaan negara-negara ITRC untuk mematuhi ko..."
      ]
     },
     "execution_count": 6,
     "metadata": {},
     "output_type": "execute_result"
    }
   ],
   "source": [
    "combined_df.head(10)"
   ]
  },
  {
   "cell_type": "code",
   "execution_count": 7,
   "metadata": {},
   "outputs": [
    {
     "data": {
      "text/plain": [
       "'Permohonan ini juga bertujuan memohon penjelasan CRCC, sama ada syarikat berkenaan adalah pemegang saham bagi syarikat tujuan khas (SPV) bagi projek berkenaan'"
      ]
     },
     "execution_count": 7,
     "metadata": {},
     "output_type": "execute_result"
    }
   ],
   "source": [
    "combined_df['text'][0]"
   ]
  },
  {
   "cell_type": "code",
   "execution_count": 8,
   "metadata": {
    "scrolled": true
   },
   "outputs": [
    {
     "data": {
      "text/plain": [
       "['Permohonan',\n",
       " 'ini',\n",
       " 'juga',\n",
       " 'bertujuan',\n",
       " 'memohon',\n",
       " 'penjelasan',\n",
       " 'CRCC,',\n",
       " 'sama',\n",
       " 'ada',\n",
       " 'syarikat',\n",
       " 'berkenaan',\n",
       " 'adalah',\n",
       " 'pemegang',\n",
       " 'saham',\n",
       " 'bagi',\n",
       " 'syarikat',\n",
       " 'tujuan',\n",
       " 'khas',\n",
       " '(SPV)',\n",
       " 'bagi',\n",
       " 'projek',\n",
       " 'berkenaan']"
      ]
     },
     "execution_count": 8,
     "metadata": {},
     "output_type": "execute_result"
    }
   ],
   "source": [
    "txt = combined_df.text[0].split()\n",
    "txt"
   ]
  },
  {
   "cell_type": "code",
   "execution_count": 9,
   "metadata": {},
   "outputs": [
    {
     "data": {
      "text/plain": [
       "count                                                  7537\n",
       "unique                                                 3834\n",
       "top       Tidak ada maknanya kita bertindak selepas sesu...\n",
       "freq                                                      4\n",
       "Name: text, dtype: object"
      ]
     },
     "execution_count": 9,
     "metadata": {},
     "output_type": "execute_result"
    }
   ],
   "source": [
    "#create vocab\n",
    "combined_df.text.describe()"
   ]
  },
  {
   "cell_type": "code",
   "execution_count": 10,
   "metadata": {
    "collapsed": true
   },
   "outputs": [],
   "source": [
    "text = combined_df.text.astype(str)"
   ]
  },
  {
   "cell_type": "code",
   "execution_count": 11,
   "metadata": {
    "collapsed": true
   },
   "outputs": [],
   "source": [
    "dfnegatif = combined_df[combined_df.label == 'Negative']"
   ]
  },
  {
   "cell_type": "code",
   "execution_count": 12,
   "metadata": {},
   "outputs": [
    {
     "name": "stdout",
     "output_type": "stream",
     "text": [
      "150\n"
     ]
    }
   ],
   "source": [
    "pd.set_option(\"display.max_colwidth\", 150)\n",
    "print(pd.get_option(\"display.max_colwidth\"))"
   ]
  },
  {
   "cell_type": "code",
   "execution_count": 13,
   "metadata": {},
   "outputs": [
    {
     "data": {
      "text/html": [
       "<div>\n",
       "<style scoped>\n",
       "    .dataframe tbody tr th:only-of-type {\n",
       "        vertical-align: middle;\n",
       "    }\n",
       "\n",
       "    .dataframe tbody tr th {\n",
       "        vertical-align: top;\n",
       "    }\n",
       "\n",
       "    .dataframe thead th {\n",
       "        text-align: right;\n",
       "    }\n",
       "</style>\n",
       "<table border=\"1\" class=\"dataframe\">\n",
       "  <thead>\n",
       "    <tr style=\"text-align: right;\">\n",
       "      <th></th>\n",
       "      <th>label</th>\n",
       "      <th>text</th>\n",
       "    </tr>\n",
       "  </thead>\n",
       "  <tbody>\n",
       "    <tr>\n",
       "      <th>10</th>\n",
       "      <td>Negative</td>\n",
       "      <td>Apa yang menjadi masalah kita, apabila masyarakat gemar berkongsi maklumat mereka kepada pihak lain.</td>\n",
       "    </tr>\n",
       "    <tr>\n",
       "      <th>12</th>\n",
       "      <td>Negative</td>\n",
       "      <td>Jabatan Kehakiman (DOJ) Amerika Syarikat sebelum ini juga turut mendakwa pelbagai aset mewah dibeli menggunakan wang dicuri daripada 1MDB berjumla...</td>\n",
       "    </tr>\n",
       "    <tr>\n",
       "      <th>22</th>\n",
       "      <td>Negative</td>\n",
       "      <td>Ironinya, penuntut universiti yang tanpa sebarang paksaan hadir ke program pro pembangkang dihalang, malah tindakan disiplin diambil.</td>\n",
       "    </tr>\n",
       "    <tr>\n",
       "      <th>23</th>\n",
       "      <td>Negative</td>\n",
       "      <td>Masyarakat Orang Asli Temiar tidak harus dianggap atau dilayan seperti penjenayah atau orang jahat kerana mereka hanya melindungi hak sebagai raky...</td>\n",
       "    </tr>\n",
       "    <tr>\n",
       "      <th>45</th>\n",
       "      <td>Negative</td>\n",
       "      <td>Mengapa kerajaan tidak bangkitkan isu ini?</td>\n",
       "    </tr>\n",
       "    <tr>\n",
       "      <th>53</th>\n",
       "      <td>Negative</td>\n",
       "      <td>Ada anasir luar yang intai kita tapi apa penting ialah kita jaga rumah tangga kita.</td>\n",
       "    </tr>\n",
       "    <tr>\n",
       "      <th>55</th>\n",
       "      <td>Negative</td>\n",
       "      <td>Pilihan raya penting tapi perlembagaan tak penting?</td>\n",
       "    </tr>\n",
       "    <tr>\n",
       "      <th>62</th>\n",
       "      <td>Negative</td>\n",
       "      <td>Tetapi wujud pula parti kecik yang mahu bertanding di Kelantan, sedangkan parti tersebut tidak punyai ramai ahli</td>\n",
       "    </tr>\n",
       "    <tr>\n",
       "      <th>70</th>\n",
       "      <td>Negative</td>\n",
       "      <td>Sebab itu dihujahkan se­tiap perkara berlaku terutama se­kali berkaitan politik, ia tercetus bukan secara tidak sengaja tetapi disusun sedemikian ...</td>\n",
       "    </tr>\n",
       "    <tr>\n",
       "      <th>73</th>\n",
       "      <td>Negative</td>\n",
       "      <td>takut, letih dan bimbang tidak dapat keluar dari situ</td>\n",
       "    </tr>\n",
       "    <tr>\n",
       "      <th>74</th>\n",
       "      <td>Negative</td>\n",
       "      <td>Jika berlaku demikian maka ia adalah rasuah, atau disebut dengan istilah ‘kick back’.</td>\n",
       "    </tr>\n",
       "    <tr>\n",
       "      <th>75</th>\n",
       "      <td>Negative</td>\n",
       "      <td>Saya rasa orang ramai tidak mempunyai wang</td>\n",
       "    </tr>\n",
       "    <tr>\n",
       "      <th>76</th>\n",
       "      <td>Negative</td>\n",
       "      <td>Semua orang tahu kerjaaan sudah mencuba skim seperti ini dengan orang Melayu dan masih ada orang Melayu miskin</td>\n",
       "    </tr>\n",
       "    <tr>\n",
       "      <th>84</th>\n",
       "      <td>Negative</td>\n",
       "      <td>Ringkasnya kawalan ke atas dana parti politik di Malaysia terlalu longgar, atau sebenarnya, langsung tiada,</td>\n",
       "    </tr>\n",
       "    <tr>\n",
       "      <th>85</th>\n",
       "      <td>Negative</td>\n",
       "      <td>Kerajaan juga memberi alasan bahawa pada 2014 sehingga 2016 tiada kejadian banjir monsun melanda Pulau Pinang, kecuali kejadian banjir kilat sahaja</td>\n",
       "    </tr>\n",
       "    <tr>\n",
       "      <th>94</th>\n",
       "      <td>Negative</td>\n",
       "      <td>Tindakan Speaker tidak membenarkan usul dan soalan-soalan berkenaan skandal 1MDB dibentangkan atau ditanya memberi tanggapan bahawa beliau menjadi...</td>\n",
       "    </tr>\n",
       "    <tr>\n",
       "      <th>96</th>\n",
       "      <td>Negative</td>\n",
       "      <td>Kecurian, penyeludupan memang berlaku dan dilakukan penjenayah dari negara jiran, sampaikan kalau buat kerja kat ladang, kami tak boleh tinggal ba...</td>\n",
       "    </tr>\n",
       "    <tr>\n",
       "      <th>99</th>\n",
       "      <td>Negative</td>\n",
       "      <td>Kita ambil contoh di Johor, ada yang wujudkan persepsi bahawa orang Cina dan Singapura telah menekan orang Melayu, lalu dipinggirkan.</td>\n",
       "    </tr>\n",
       "    <tr>\n",
       "      <th>101</th>\n",
       "      <td>Negative</td>\n",
       "      <td>Sebenarnya niatnya memang tidak mahu memberikan peruntukan kepada kita</td>\n",
       "    </tr>\n",
       "    <tr>\n",
       "      <th>103</th>\n",
       "      <td>Negative</td>\n",
       "      <td>Ia amat merugikan negara</td>\n",
       "    </tr>\n",
       "  </tbody>\n",
       "</table>\n",
       "</div>"
      ],
      "text/plain": [
       "        label  \\\n",
       "10   Negative   \n",
       "12   Negative   \n",
       "22   Negative   \n",
       "23   Negative   \n",
       "45   Negative   \n",
       "53   Negative   \n",
       "55   Negative   \n",
       "62   Negative   \n",
       "70   Negative   \n",
       "73   Negative   \n",
       "74   Negative   \n",
       "75   Negative   \n",
       "76   Negative   \n",
       "84   Negative   \n",
       "85   Negative   \n",
       "94   Negative   \n",
       "96   Negative   \n",
       "99   Negative   \n",
       "101  Negative   \n",
       "103  Negative   \n",
       "\n",
       "                                                                                                                                                      text  \n",
       "10                                                   Apa yang menjadi masalah kita, apabila masyarakat gemar berkongsi maklumat mereka kepada pihak lain.   \n",
       "12   Jabatan Kehakiman (DOJ) Amerika Syarikat sebelum ini juga turut mendakwa pelbagai aset mewah dibeli menggunakan wang dicuri daripada 1MDB berjumla...  \n",
       "22                   Ironinya, penuntut universiti yang tanpa sebarang paksaan hadir ke program pro pembangkang dihalang, malah tindakan disiplin diambil.  \n",
       "23   Masyarakat Orang Asli Temiar tidak harus dianggap atau dilayan seperti penjenayah atau orang jahat kerana mereka hanya melindungi hak sebagai raky...  \n",
       "45                                                                                                              Mengapa kerajaan tidak bangkitkan isu ini?  \n",
       "53                                                                     Ada anasir luar yang intai kita tapi apa penting ialah kita jaga rumah tangga kita.  \n",
       "55                                                                                                     Pilihan raya penting tapi perlembagaan tak penting?  \n",
       "62                                        Tetapi wujud pula parti kecik yang mahu bertanding di Kelantan, sedangkan parti tersebut tidak punyai ramai ahli  \n",
       "70   Sebab itu dihujahkan se­tiap perkara berlaku terutama se­kali berkaitan politik, ia tercetus bukan secara tidak sengaja tetapi disusun sedemikian ...  \n",
       "73                                                                                                   takut, letih dan bimbang tidak dapat keluar dari situ  \n",
       "74                                                                  Jika berlaku demikian maka ia adalah rasuah, atau disebut dengan istilah ‘kick back’.   \n",
       "75                                                                                                              Saya rasa orang ramai tidak mempunyai wang  \n",
       "76                                          Semua orang tahu kerjaaan sudah mencuba skim seperti ini dengan orang Melayu dan masih ada orang Melayu miskin  \n",
       "84                                             Ringkasnya kawalan ke atas dana parti politik di Malaysia terlalu longgar, atau sebenarnya, langsung tiada,  \n",
       "85     Kerajaan juga memberi alasan bahawa pada 2014 sehingga 2016 tiada kejadian banjir monsun melanda Pulau Pinang, kecuali kejadian banjir kilat sahaja  \n",
       "94   Tindakan Speaker tidak membenarkan usul dan soalan-soalan berkenaan skandal 1MDB dibentangkan atau ditanya memberi tanggapan bahawa beliau menjadi...  \n",
       "96   Kecurian, penyeludupan memang berlaku dan dilakukan penjenayah dari negara jiran, sampaikan kalau buat kerja kat ladang, kami tak boleh tinggal ba...  \n",
       "99                  Kita ambil contoh di Johor, ada yang wujudkan persepsi bahawa orang Cina dan Singapura telah menekan orang Melayu, lalu dipinggirkan.   \n",
       "101                                                                                 Sebenarnya niatnya memang tidak mahu memberikan peruntukan kepada kita  \n",
       "103                                                                                                                               Ia amat merugikan negara  "
      ]
     },
     "execution_count": 13,
     "metadata": {},
     "output_type": "execute_result"
    }
   ],
   "source": [
    "dfnegatif.head(20)"
   ]
  },
  {
   "cell_type": "code",
   "execution_count": 14,
   "metadata": {
    "collapsed": true
   },
   "outputs": [],
   "source": [
    "import regex as rgx\n",
    "def cleanmessage(text):\n",
    "    removedots = rgx.compile(r'\\.{2,}')\n",
    "    removenewline = rgx.compile(r'(\\r\\n|\\r|\\n)')\n",
    "    nodots = removedots.sub(' ', text.lower())\n",
    "    nonewline = removenewline.sub(' ', nodots)\n",
    "    return nonewline\n",
    "\n",
    "\n",
    "lowercase = text.apply(cleanmessage)\n"
   ]
  },
  {
   "cell_type": "code",
   "execution_count": 15,
   "metadata": {},
   "outputs": [
    {
     "data": {
      "text/plain": [
       "0    permohonan ini juga bertujuan memohon penjelasan crcc, sama ada syarikat berkenaan adalah pemegang saham bagi syarikat tujuan khas (spv) bagi proj...\n",
       "1       projek ini bukti komitmen berterusan kerajaan barisan nasional (bn) pada peringkat persekutuan dan negeri untuk menjaga kebajikan rakyat di melaka\n",
       "2    menerusi pembentangan bajet 2018 yang lalu, kerajaan menyediakan peruntukan mencukupi bagi mempromosi dan meningkatkan kemudahan pelancongan di ne...\n",
       "3    berdasarkan kualiti jawapan calon, 27 peratus calon menguasai kbat pada tahap tinggi, 39 peratus pada tahap sederhana dan 34 peratus pada tahap re...\n",
       "4                                                pada masa sama, kerajaan negeri juga telah buat bayaran sebanyak rm700 kepada lebih 50,000 mangsa banjir.\n",
       "Name: text, dtype: object"
      ]
     },
     "execution_count": 15,
     "metadata": {},
     "output_type": "execute_result"
    }
   ],
   "source": [
    "lowercase.head()"
   ]
  },
  {
   "cell_type": "code",
   "execution_count": 17,
   "metadata": {
    "collapsed": true
   },
   "outputs": [],
   "source": [
    "word_count = lowercase.apply(lambda txt: pd.value_counts(txt.split(\" \"))).sum(axis=0)"
   ]
  },
  {
   "cell_type": "code",
   "execution_count": 18,
   "metadata": {
    "scrolled": true
   },
   "outputs": [
    {
     "data": {
      "text/plain": [
       "yang                3518.0\n",
       "dan                 3445.0\n",
       "ini                 1902.0\n",
       "kita                1844.0\n",
       "tidak               1610.0\n",
       "untuk               1581.0\n",
       "di                  1410.0\n",
       "saya                1346.0\n",
       "dalam               1167.0\n",
       "dengan              1161.0\n",
       "akan                1114.0\n",
       "mereka              1080.0\n",
       "kepada              1026.0\n",
       "itu                  909.0\n",
       "ada                  822.0\n",
       "boleh                650.0\n",
       "kerajaan             642.0\n",
       "juga                 606.0\n",
       "kerana               575.0\n",
       "kami                 558.0\n",
       "pada                 537.0\n",
       "adalah               532.0\n",
       "bagi                 526.0\n",
       "negara               522.0\n",
       "ia                   507.0\n",
       "rakyat               497.0\n",
       "perlu                477.0\n",
       "lebih                475.0\n",
       "orang                456.0\n",
       "atau                 429.0\n",
       "                     ...  \n",
       "layak.                 1.0\n",
       "udaranya               1.0\n",
       "fokusnya               1.0\n",
       "tasik                  1.0\n",
       "menghindari            1.0\n",
       "home'.                 1.0\n",
       "semput                 1.0\n",
       "digunakan.             1.0\n",
       "berdaftar.             1.0\n",
       "tertipu                1.0\n",
       "keempat.               1.0\n",
       "ariani                 1.0\n",
       "tumpang                1.0\n",
       "bertugas,              1.0\n",
       "pengalamannya          1.0\n",
       "fitnahnya              1.0\n",
       "report                 1.0\n",
       "sesuaikan              1.0\n",
       "ceria                  1.0\n",
       "liga                   1.0\n",
       "pencadang,             1.0\n",
       "penyokong,             1.0\n",
       "penaja                 1.0\n",
       "skandal.               1.0\n",
       "melaksanakannya.       1.0\n",
       "dipecat.               1.0\n",
       "kekangan               1.0\n",
       "baharunya              1.0\n",
       "'council               1.0\n",
       "membatalkan            1.0\n",
       "Length: 9156, dtype: float64"
      ]
     },
     "execution_count": 18,
     "metadata": {},
     "output_type": "execute_result"
    }
   ],
   "source": [
    "word_count.sort_values(axis=0, ascending=False)"
   ]
  },
  {
   "cell_type": "code",
   "execution_count": 24,
   "metadata": {},
   "outputs": [
    {
     "data": {
      "text/plain": [
       "Positive    4157\n",
       "Negative    1886\n",
       "Neutral     1492\n",
       "negative       2\n",
       "Name: label, dtype: int64"
      ]
     },
     "execution_count": 24,
     "metadata": {},
     "output_type": "execute_result"
    }
   ],
   "source": [
    "combined_df.label.value_counts()"
   ]
  },
  {
   "cell_type": "code",
   "execution_count": 25,
   "metadata": {},
   "outputs": [
    {
     "data": {
      "text/html": [
       "<div>\n",
       "<style scoped>\n",
       "    .dataframe tbody tr th:only-of-type {\n",
       "        vertical-align: middle;\n",
       "    }\n",
       "\n",
       "    .dataframe tbody tr th {\n",
       "        vertical-align: top;\n",
       "    }\n",
       "\n",
       "    .dataframe thead th {\n",
       "        text-align: right;\n",
       "    }\n",
       "</style>\n",
       "<table border=\"1\" class=\"dataframe\">\n",
       "  <thead>\n",
       "    <tr style=\"text-align: right;\">\n",
       "      <th></th>\n",
       "      <th>label</th>\n",
       "      <th>text</th>\n",
       "    </tr>\n",
       "  </thead>\n",
       "  <tbody>\n",
       "    <tr>\n",
       "      <th>3220</th>\n",
       "      <td>negative</td>\n",
       "      <td>Malah, saya difahamkan oleh ahli PPBM yang pergi ke pejabat ROS untuk bertanya hal ini bahawa mereka dimaklumkan ada dokumen berkaitan PPBM hilang</td>\n",
       "    </tr>\n",
       "    <tr>\n",
       "      <th>4474</th>\n",
       "      <td>negative</td>\n",
       "      <td>Malah, saya difahamkan oleh ahli PPBM yang pergi ke pejabat ROS untuk bertanya hal ini bahawa mereka dimaklumkan ada dokumen berkaitan PPBM hilang</td>\n",
       "    </tr>\n",
       "  </tbody>\n",
       "</table>\n",
       "</div>"
      ],
      "text/plain": [
       "         label  \\\n",
       "3220  negative   \n",
       "4474  negative   \n",
       "\n",
       "                                                                                                                                                    text  \n",
       "3220  Malah, saya difahamkan oleh ahli PPBM yang pergi ke pejabat ROS untuk bertanya hal ini bahawa mereka dimaklumkan ada dokumen berkaitan PPBM hilang  \n",
       "4474  Malah, saya difahamkan oleh ahli PPBM yang pergi ke pejabat ROS untuk bertanya hal ini bahawa mereka dimaklumkan ada dokumen berkaitan PPBM hilang  "
      ]
     },
     "execution_count": 25,
     "metadata": {},
     "output_type": "execute_result"
    }
   ],
   "source": [
    "combined_df[combined_df.label == 'negative']"
   ]
  },
  {
   "cell_type": "code",
   "execution_count": 26,
   "metadata": {
    "collapsed": true
   },
   "outputs": [],
   "source": [
    "combined_df_nodup = combined_df.drop_duplicates(subset='text', keep='first')"
   ]
  },
  {
   "cell_type": "code",
   "execution_count": 27,
   "metadata": {},
   "outputs": [
    {
     "data": {
      "text/plain": [
       "(3834, 2)"
      ]
     },
     "execution_count": 27,
     "metadata": {},
     "output_type": "execute_result"
    }
   ],
   "source": [
    "combined_df_nodup.shape"
   ]
  },
  {
   "cell_type": "code",
   "execution_count": 28,
   "metadata": {},
   "outputs": [
    {
     "data": {
      "text/plain": [
       "Positive    2099\n",
       "Negative     989\n",
       "Neutral      745\n",
       "negative       1\n",
       "Name: label, dtype: int64"
      ]
     },
     "execution_count": 28,
     "metadata": {},
     "output_type": "execute_result"
    }
   ],
   "source": [
    "combined_df_nodup.label.value_counts()"
   ]
  },
  {
   "cell_type": "code",
   "execution_count": 29,
   "metadata": {},
   "outputs": [
    {
     "data": {
      "text/html": [
       "<div>\n",
       "<style scoped>\n",
       "    .dataframe tbody tr th:only-of-type {\n",
       "        vertical-align: middle;\n",
       "    }\n",
       "\n",
       "    .dataframe tbody tr th {\n",
       "        vertical-align: top;\n",
       "    }\n",
       "\n",
       "    .dataframe thead th {\n",
       "        text-align: right;\n",
       "    }\n",
       "</style>\n",
       "<table border=\"1\" class=\"dataframe\">\n",
       "  <thead>\n",
       "    <tr style=\"text-align: right;\">\n",
       "      <th></th>\n",
       "      <th>label</th>\n",
       "      <th>text</th>\n",
       "    </tr>\n",
       "  </thead>\n",
       "  <tbody>\n",
       "    <tr>\n",
       "      <th>3220</th>\n",
       "      <td>negative</td>\n",
       "      <td>Malah, saya difahamkan oleh ahli PPBM yang pergi ke pejabat ROS untuk bertanya hal ini bahawa mereka dimaklumkan ada dokumen berkaitan PPBM hilang</td>\n",
       "    </tr>\n",
       "  </tbody>\n",
       "</table>\n",
       "</div>"
      ],
      "text/plain": [
       "         label  \\\n",
       "3220  negative   \n",
       "\n",
       "                                                                                                                                                    text  \n",
       "3220  Malah, saya difahamkan oleh ahli PPBM yang pergi ke pejabat ROS untuk bertanya hal ini bahawa mereka dimaklumkan ada dokumen berkaitan PPBM hilang  "
      ]
     },
     "execution_count": 29,
     "metadata": {},
     "output_type": "execute_result"
    }
   ],
   "source": [
    "combined_df_nodup[combined_df_nodup.label == 'negative']"
   ]
  },
  {
   "cell_type": "code",
   "execution_count": 30,
   "metadata": {},
   "outputs": [
    {
     "data": {
      "text/plain": [
       "Positive    2099\n",
       "Negative     990\n",
       "Neutral      745\n",
       "Name: label, dtype: int64"
      ]
     },
     "execution_count": 30,
     "metadata": {},
     "output_type": "execute_result"
    }
   ],
   "source": [
    "combined_df_nodup.at[3220,'label'] = 'Negative'\n",
    "combined_df_nodup.label.value_counts()"
   ]
  },
  {
   "cell_type": "code",
   "execution_count": 31,
   "metadata": {
    "collapsed": true
   },
   "outputs": [],
   "source": [
    "from nltk.tokenize import sent_tokenize, word_tokenize"
   ]
  },
  {
   "cell_type": "code",
   "execution_count": 32,
   "metadata": {},
   "outputs": [
    {
     "data": {
      "text/plain": [
       "25"
      ]
     },
     "execution_count": 32,
     "metadata": {},
     "output_type": "execute_result"
    }
   ],
   "source": [
    "len(word_tokenize(combined_df_nodup.text[0]))"
   ]
  },
  {
   "cell_type": "code",
   "execution_count": 33,
   "metadata": {},
   "outputs": [
    {
     "data": {
      "text/plain": [
       "25"
      ]
     },
     "execution_count": 33,
     "metadata": {},
     "output_type": "execute_result"
    }
   ],
   "source": [
    "pd.value_counts(word_tokenize(combined_df_nodup.text[0])).sum(axis=0)"
   ]
  },
  {
   "cell_type": "code",
   "execution_count": 34,
   "metadata": {
    "collapsed": true
   },
   "outputs": [],
   "source": [
    "dftext0=pd.Series(word_tokenize(combined_df_nodup.text[0]))"
   ]
  },
  {
   "cell_type": "code",
   "execution_count": 35,
   "metadata": {
    "scrolled": true
   },
   "outputs": [
    {
     "data": {
      "text/plain": [
       "berkenaan     2\n",
       "syarikat      2\n",
       "bagi          2\n",
       "projek        1\n",
       "memohon       1\n",
       "ini           1\n",
       "CRCC          1\n",
       "pemegang      1\n",
       "khas          1\n",
       "tujuan        1\n",
       "SPV           1\n",
       ",             1\n",
       "saham         1\n",
       "ada           1\n",
       "bertujuan     1\n",
       ")             1\n",
       "sama          1\n",
       "Permohonan    1\n",
       "penjelasan    1\n",
       "(             1\n",
       "adalah        1\n",
       "juga          1\n",
       "dtype: int64"
      ]
     },
     "execution_count": 35,
     "metadata": {},
     "output_type": "execute_result"
    }
   ],
   "source": [
    "dftext0.value_counts()"
   ]
  },
  {
   "cell_type": "code",
   "execution_count": 22,
   "metadata": {
    "collapsed": true
   },
   "outputs": [],
   "source": [
    "word_count2 = lowercase.apply(lambda txt: pd.value_counts(word_tokenize(txt))) \\\n",
    "                       .sum(axis=0) \\\n",
    "                       .sort_values(ascending=False, axis=0)"
   ]
  },
  {
   "cell_type": "code",
   "execution_count": 23,
   "metadata": {
    "scrolled": true
   },
   "outputs": [
    {
     "data": {
      "text/plain": [
       ",                2446.0\n",
       "yang             1733.0\n",
       "dan              1694.0\n",
       "ini              1110.0\n",
       ".                1004.0\n",
       "kita              955.0\n",
       "tidak             799.0\n",
       "untuk             780.0\n",
       "di                703.0\n",
       "saya              699.0\n",
       "dalam             580.0\n",
       "mereka            572.0\n",
       "dengan            572.0\n",
       "akan              549.0\n",
       "itu               547.0\n",
       "kepada            510.0\n",
       "ada               426.0\n",
       ")                 391.0\n",
       "(                 390.0\n",
       "kerajaan          342.0\n",
       "boleh             325.0\n",
       "negara            310.0\n",
       "juga              309.0\n",
       "kami              295.0\n",
       "rakyat            288.0\n",
       "kerana            281.0\n",
       "adalah            268.0\n",
       "pada              267.0\n",
       "bagi              262.0\n",
       "ia                253.0\n",
       "                  ...  \n",
       "pengamatan          1.0\n",
       "dimainkan           1.0\n",
       "dikompromi          1.0\n",
       "tawar               1.0\n",
       "buktikan…bila       1.0\n",
       "muara               1.0\n",
       "dimuliakan          1.0\n",
       "kesempurnaan        1.0\n",
       "10.15               1.0\n",
       "bertegur            1.0\n",
       "sapa                1.0\n",
       "bercuti             1.0\n",
       "pakuan              1.0\n",
       "ariffin             1.0\n",
       "ig                  1.0\n",
       "zul                 1.0\n",
       "miliknya            1.0\n",
       "reda                1.0\n",
       "memfitnahnya        1.0\n",
       "seribu              1.0\n",
       "kapakaran           1.0\n",
       "diceritakan         1.0\n",
       "rumusan             1.0\n",
       "siastan             1.0\n",
       "ebab                1.0\n",
       "selebriti           1.0\n",
       "memperincikan       1.0\n",
       "jips                1.0\n",
       "ditangguh           1.0\n",
       "720,000             1.0\n",
       "Length: 6881, dtype: float64"
      ]
     },
     "execution_count": 23,
     "metadata": {},
     "output_type": "execute_result"
    }
   ],
   "source": [
    "word_count2"
   ]
  },
  {
   "cell_type": "code",
   "execution_count": 24,
   "metadata": {},
   "outputs": [
    {
     "data": {
      "text/plain": [
       "Positive    2048\n",
       "Negative     894\n",
       "Neutral      746\n",
       "Name: label, dtype: int64"
      ]
     },
     "execution_count": 24,
     "metadata": {},
     "output_type": "execute_result"
    }
   ],
   "source": [
    "df.label.value_counts()"
   ]
  },
  {
   "cell_type": "code",
   "execution_count": 36,
   "metadata": {
    "collapsed": true
   },
   "outputs": [],
   "source": [
    "from sklearn.feature_extraction.text import CountVectorizer"
   ]
  },
  {
   "cell_type": "code",
   "execution_count": 37,
   "metadata": {},
   "outputs": [
    {
     "name": "stdout",
     "output_type": "stream",
     "text": [
      "319\n"
     ]
    }
   ],
   "source": [
    "with open(r'D:\\Malaya\\malaya\\stop-word-kerulnet','r') as f:\n",
    "    content = [x.strip() for x in f.readlines()]\n",
    "    \n",
    "print(len(content))"
   ]
  },
  {
   "cell_type": "code",
   "execution_count": 38,
   "metadata": {
    "collapsed": true
   },
   "outputs": [],
   "source": [
    "stopwords = frozenset(content)"
   ]
  },
  {
   "cell_type": "code",
   "execution_count": 39,
   "metadata": {},
   "outputs": [
    {
     "data": {
      "text/plain": [
       "CountVectorizer(analyzer='word', binary=False, decode_error='strict',\n",
       "        dtype=<class 'numpy.int64'>, encoding='utf-8', input='content',\n",
       "        lowercase=True, max_df=1.0, max_features=None, min_df=1,\n",
       "        ngram_range=(1, 1), preprocessor=None,\n",
       "        stop_words=frozenset({'engkaulah', 'hendaklah', 'demikian', 'ini', 'tidakkah', 'seolah-olah', 'maha', 'hampir-hampir', 'tanya', 'mereka', 'oleh', 'bagi', 'adanya', 'kamupun', 'sekitar', 'kerana', 'nya', 'ketika', 'daripadamu', 'kelak', 'bagaimanakah', 'manakah', 'sebanyak', 'bahawasanya', 'hai', 'pe...pa', 'sedangkan', 'masing-masing', 'akulah', 'demi', 'ia', 'menyebabkannya', 'kembali', 'tidaklah'}),\n",
       "        strip_accents=None, token_pattern='(?u)\\\\b\\\\w\\\\w+\\\\b',\n",
       "        tokenizer=None, vocabulary=None)"
      ]
     },
     "execution_count": 39,
     "metadata": {},
     "output_type": "execute_result"
    }
   ],
   "source": [
    "vectorizer = CountVectorizer(stop_words = stopwords)\n",
    "vectorizer"
   ]
  },
  {
   "cell_type": "code",
   "execution_count": 40,
   "metadata": {
    "collapsed": true
   },
   "outputs": [],
   "source": [
    "from sklearn.model_selection import train_test_split\n",
    "train_data, test_data = train_test_split(combined_df_nodup, test_size=0.2, random_state=0)"
   ]
  },
  {
   "cell_type": "code",
   "execution_count": 41,
   "metadata": {},
   "outputs": [
    {
     "data": {
      "text/plain": [
       "(3067, 2)"
      ]
     },
     "execution_count": 41,
     "metadata": {},
     "output_type": "execute_result"
    }
   ],
   "source": [
    "train_data.shape"
   ]
  },
  {
   "cell_type": "code",
   "execution_count": 42,
   "metadata": {},
   "outputs": [
    {
     "data": {
      "text/plain": [
       "(767, 2)"
      ]
     },
     "execution_count": 42,
     "metadata": {},
     "output_type": "execute_result"
    }
   ],
   "source": [
    "test_data.shape"
   ]
  },
  {
   "cell_type": "code",
   "execution_count": 43,
   "metadata": {
    "collapsed": true
   },
   "outputs": [],
   "source": [
    "x_train=train_data['text'].values\n",
    "y_train=train_data['label'].values\n",
    "\n",
    "x_test=test_data['text'].values\n",
    "y_test=test_data['label'].values"
   ]
  },
  {
   "cell_type": "code",
   "execution_count": 44,
   "metadata": {},
   "outputs": [
    {
     "data": {
      "text/plain": [
       "array(['PM sedarkah Kelantan wujud terlebih dulu sebelum Malaysia?',\n",
       "       'Sentimennya ialah mereka sangat ingin menukar kerajaan sekarang.',\n",
       "       'Selain itu, Muslimat Pas juga ingin mencadangkan agar pihak pengusaha dan persatuan berbincang secara lebih mendalam berkenaan isu pelanggaran hak Muslim yang bekerja di hotel yang mengakibatkan polemik yang terjadi sebelum ini',\n",
       "       ...,\n",
       "       'Persidangan antarabangsa itu adalah anjuran PBB dan PBB tidak membeza-bezakan anggotanya.',\n",
       "       '(biar) yang keluar mengundi penyokong kita saja',\n",
       "       'Tidak semestinya menjadi Perdana Menteri selama 22 tahun, beliau lebih hebat daripada orang lain'], dtype=object)"
      ]
     },
     "execution_count": 44,
     "metadata": {},
     "output_type": "execute_result"
    }
   ],
   "source": [
    "x_train"
   ]
  },
  {
   "cell_type": "code",
   "execution_count": 45,
   "metadata": {
    "collapsed": true
   },
   "outputs": [],
   "source": [
    "cvecout = vectorizer.fit_transform(x_train)"
   ]
  },
  {
   "cell_type": "code",
   "execution_count": 46,
   "metadata": {},
   "outputs": [
    {
     "data": {
      "text/plain": [
       "(3067, 5869)"
      ]
     },
     "execution_count": 46,
     "metadata": {},
     "output_type": "execute_result"
    }
   ],
   "source": [
    "cvecout.shape"
   ]
  },
  {
   "cell_type": "code",
   "execution_count": 47,
   "metadata": {},
   "outputs": [
    {
     "data": {
      "text/plain": [
       "LogisticRegression(C=1.0, class_weight=None, dual=False, fit_intercept=True,\n",
       "          intercept_scaling=1, max_iter=100, multi_class='ovr', n_jobs=1,\n",
       "          penalty='l2', random_state=None, solver='liblinear', tol=0.0001,\n",
       "          verbose=0, warm_start=False)"
      ]
     },
     "execution_count": 47,
     "metadata": {},
     "output_type": "execute_result"
    }
   ],
   "source": [
    "from sklearn.linear_model import LogisticRegression\n",
    "TextModel = LogisticRegression()\n",
    "TextModel.fit(cvecout,y_train)"
   ]
  },
  {
   "cell_type": "code",
   "execution_count": 55,
   "metadata": {},
   "outputs": [
    {
     "data": {
      "text/plain": [
       "0.59061277705345505"
      ]
     },
     "execution_count": 55,
     "metadata": {},
     "output_type": "execute_result"
    }
   ],
   "source": [
    "cvecout2 = vectorizer.transform(x_test)\n",
    "TextModel.score(cvecout2,y_test)"
   ]
  },
  {
   "cell_type": "code",
   "execution_count": 56,
   "metadata": {
    "collapsed": true
   },
   "outputs": [],
   "source": [
    "from sklearn.feature_extraction.text import TfidfTransformer\n",
    "tfidf_transformer = TfidfTransformer()"
   ]
  },
  {
   "cell_type": "code",
   "execution_count": 57,
   "metadata": {
    "collapsed": true
   },
   "outputs": [],
   "source": [
    "X_train_tfidf = tfidf_transformer.fit_transform(cvecout)"
   ]
  },
  {
   "cell_type": "code",
   "execution_count": 58,
   "metadata": {},
   "outputs": [
    {
     "data": {
      "text/plain": [
       "(3067, 5869)"
      ]
     },
     "execution_count": 58,
     "metadata": {},
     "output_type": "execute_result"
    }
   ],
   "source": [
    "X_train_tfidf.shape"
   ]
  },
  {
   "cell_type": "code",
   "execution_count": 59,
   "metadata": {
    "collapsed": true
   },
   "outputs": [],
   "source": [
    "from sklearn.naive_bayes import MultinomialNB\n",
    "clf = MultinomialNB().fit(X_train_tfidf, y_train)"
   ]
  },
  {
   "cell_type": "code",
   "execution_count": 60,
   "metadata": {
    "collapsed": true
   },
   "outputs": [],
   "source": [
    "X_test_tfidf = tfidf_transformer.fit_transform(cvecout2)"
   ]
  },
  {
   "cell_type": "code",
   "execution_count": 61,
   "metadata": {},
   "outputs": [
    {
     "data": {
      "text/plain": [
       "0.57105606258148633"
      ]
     },
     "execution_count": 61,
     "metadata": {},
     "output_type": "execute_result"
    }
   ],
   "source": [
    "clf.score(X_test_tfidf, y_test)"
   ]
  },
  {
   "cell_type": "code",
   "execution_count": 62,
   "metadata": {
    "scrolled": true
   },
   "outputs": [
    {
     "data": {
      "text/plain": [
       "['00',\n",
       " '000',\n",
       " '10',\n",
       " '100',\n",
       " '105',\n",
       " '11',\n",
       " '110',\n",
       " '12',\n",
       " '121',\n",
       " '13',\n",
       " '131',\n",
       " '134',\n",
       " '14',\n",
       " '141',\n",
       " '144',\n",
       " '15',\n",
       " '16',\n",
       " '160',\n",
       " '17',\n",
       " '18',\n",
       " '19',\n",
       " '193',\n",
       " '1960',\n",
       " '1963',\n",
       " '1987',\n",
       " '1990',\n",
       " '1993',\n",
       " '1995',\n",
       " '1998',\n",
       " '1999',\n",
       " '1a',\n",
       " '1malaysia',\n",
       " '1malaysian',\n",
       " '1mdb',\n",
       " '1s',\n",
       " '20',\n",
       " '200',\n",
       " '2000',\n",
       " '2001',\n",
       " '2002',\n",
       " '2006',\n",
       " '2008',\n",
       " '2009',\n",
       " '2010',\n",
       " '2011',\n",
       " '2012',\n",
       " '2013',\n",
       " '2014',\n",
       " '2015',\n",
       " '2016',\n",
       " '2017',\n",
       " '2018',\n",
       " '2020',\n",
       " '2021',\n",
       " '2023',\n",
       " '2026',\n",
       " '203',\n",
       " '2030',\n",
       " '2050',\n",
       " '21',\n",
       " '22',\n",
       " '25',\n",
       " '250',\n",
       " '26',\n",
       " '27',\n",
       " '28',\n",
       " '29a',\n",
       " '30',\n",
       " '300',\n",
       " '31',\n",
       " '310',\n",
       " '315',\n",
       " '34',\n",
       " '342',\n",
       " '355',\n",
       " '36',\n",
       " '360',\n",
       " '37',\n",
       " '38',\n",
       " '39',\n",
       " '3s',\n",
       " '40',\n",
       " '400',\n",
       " '42',\n",
       " '44',\n",
       " '440',\n",
       " '45',\n",
       " '47',\n",
       " '48',\n",
       " '490',\n",
       " '50',\n",
       " '500',\n",
       " '5000',\n",
       " '505',\n",
       " '53',\n",
       " '540',\n",
       " '550',\n",
       " '57',\n",
       " '60',\n",
       " '600',\n",
       " '61',\n",
       " '64',\n",
       " '668',\n",
       " '69',\n",
       " '70',\n",
       " '700',\n",
       " '718',\n",
       " '79',\n",
       " '80',\n",
       " '800',\n",
       " '84',\n",
       " '85',\n",
       " '853',\n",
       " '87',\n",
       " '90',\n",
       " '900',\n",
       " '93',\n",
       " '94',\n",
       " '95',\n",
       " '95a',\n",
       " '96',\n",
       " '962',\n",
       " 'aa',\n",
       " 'aabar',\n",
       " 'aadk',\n",
       " 'aat',\n",
       " 'ab',\n",
       " 'abd',\n",
       " 'abdul',\n",
       " 'abdulaziz',\n",
       " 'abdullah',\n",
       " 'abidin',\n",
       " 'acah',\n",
       " 'acara',\n",
       " 'acuan',\n",
       " 'ad',\n",
       " 'adik',\n",
       " 'adil',\n",
       " 'adinda',\n",
       " 'adnan',\n",
       " 'aduan',\n",
       " 'adun',\n",
       " 'afidavit',\n",
       " 'afirmatif',\n",
       " 'afp',\n",
       " 'ag',\n",
       " 'agaknya',\n",
       " 'agama',\n",
       " 'agc',\n",
       " 'agen',\n",
       " 'agenda',\n",
       " 'agensi',\n",
       " 'agihan',\n",
       " 'agm',\n",
       " 'agong',\n",
       " 'agresif',\n",
       " 'agro',\n",
       " 'agropreneur',\n",
       " 'agung',\n",
       " 'ah',\n",
       " 'ahad',\n",
       " 'ahli',\n",
       " 'ahlinya',\n",
       " 'ahmad',\n",
       " 'aids',\n",
       " 'air',\n",
       " 'airasia',\n",
       " 'airlines',\n",
       " 'ais',\n",
       " 'ajakan',\n",
       " 'ajal',\n",
       " 'ajar',\n",
       " 'ajaran',\n",
       " 'ajk',\n",
       " 'akademik',\n",
       " 'akal',\n",
       " 'akar',\n",
       " 'akaun',\n",
       " 'akaunnya',\n",
       " 'akauntan',\n",
       " 'akhbar',\n",
       " 'akhir',\n",
       " 'akhirat',\n",
       " 'akhirnya',\n",
       " 'akibat',\n",
       " 'akibatnya',\n",
       " 'akidah',\n",
       " 'akok',\n",
       " 'akreditasi',\n",
       " 'akses',\n",
       " 'akta',\n",
       " 'aktif',\n",
       " 'aktivis',\n",
       " 'aktiviti',\n",
       " 'akui',\n",
       " 'akur',\n",
       " 'akurlah',\n",
       " 'ala',\n",
       " 'alam',\n",
       " 'alamat',\n",
       " 'alasan',\n",
       " 'alat',\n",
       " 'algoritma',\n",
       " 'alhamdulillah',\n",
       " 'alhamdullilah',\n",
       " 'ali',\n",
       " 'alih',\n",
       " 'aliman',\n",
       " 'aliran',\n",
       " 'allahyarham',\n",
       " 'alor',\n",
       " 'alternatif',\n",
       " 'alternatifnya',\n",
       " 'alu',\n",
       " 'alukan',\n",
       " 'alumni',\n",
       " 'aluran',\n",
       " 'amal',\n",
       " 'amalan',\n",
       " 'aman',\n",
       " 'amanah',\n",
       " 'amankah',\n",
       " 'amaran',\n",
       " 'amatlah',\n",
       " 'ambang',\n",
       " 'ambil',\n",
       " 'ambing',\n",
       " 'amerika',\n",
       " 'amicus',\n",
       " 'amini',\n",
       " 'amithabha',\n",
       " 'amk',\n",
       " 'ampang',\n",
       " 'amri',\n",
       " 'an',\n",
       " 'anah',\n",
       " 'anak',\n",
       " 'anaknya',\n",
       " 'analisis',\n",
       " 'analisisnya',\n",
       " 'anasir',\n",
       " 'ancaman',\n",
       " 'and',\n",
       " 'anda',\n",
       " 'andaian',\n",
       " 'andaikan',\n",
       " 'andalas',\n",
       " 'anehnya',\n",
       " 'anggap',\n",
       " 'anggapan',\n",
       " 'anggapnya',\n",
       " 'anggaran',\n",
       " 'anggota',\n",
       " 'anggotanya',\n",
       " 'angin',\n",
       " 'angka',\n",
       " 'angkasa',\n",
       " 'angkatan',\n",
       " 'angkuh',\n",
       " 'anjing',\n",
       " 'anjur',\n",
       " 'anjuran',\n",
       " 'anjurkan',\n",
       " 'anologi',\n",
       " 'ansur',\n",
       " 'antarabangsa',\n",
       " 'anti',\n",
       " 'antipencatutan',\n",
       " 'anugerah',\n",
       " 'anwar',\n",
       " 'apandi',\n",
       " 'apatah',\n",
       " 'apc',\n",
       " 'apco',\n",
       " 'api',\n",
       " 'apj',\n",
       " 'aplikasi',\n",
       " 'aplikasinya',\n",
       " 'apong',\n",
       " 'apps',\n",
       " 'april',\n",
       " 'arab',\n",
       " 'arah',\n",
       " 'arahan',\n",
       " 'arahkan',\n",
       " 'aramco',\n",
       " 'aras',\n",
       " 'arau',\n",
       " 'arena',\n",
       " 'ariani',\n",
       " 'ariffin',\n",
       " 'artikel',\n",
       " 'artileri',\n",
       " 'artis',\n",
       " 'arus',\n",
       " 'as',\n",
       " 'asafal',\n",
       " 'asal',\n",
       " 'asalkan',\n",
       " 'asalnya',\n",
       " 'asap',\n",
       " 'asas',\n",
       " 'asasi',\n",
       " 'asasnya',\n",
       " 'asean',\n",
       " 'aseanapol',\n",
       " 'aset',\n",
       " 'asia',\n",
       " 'asing',\n",
       " 'asli',\n",
       " 'aspek',\n",
       " 'asphalt',\n",
       " 'aspirasi',\n",
       " 'asrama',\n",
       " 'asri',\n",
       " 'asyik',\n",
       " 'atasan',\n",
       " 'atasi',\n",
       " 'atm',\n",
       " 'atom',\n",
       " 'atsb',\n",
       " 'atur',\n",
       " 'audio',\n",
       " 'audit',\n",
       " 'auku',\n",
       " 'aung',\n",
       " 'australia',\n",
       " 'australian',\n",
       " 'autimatik',\n",
       " 'autisme',\n",
       " 'autokratik',\n",
       " 'automotif',\n",
       " 'autoritarian',\n",
       " 'awak',\n",
       " 'awal',\n",
       " 'awam',\n",
       " 'awan',\n",
       " 'awang',\n",
       " 'awas',\n",
       " 'ayah',\n",
       " 'ayahanda',\n",
       " 'ayam',\n",
       " 'ayatnya',\n",
       " 'ayer',\n",
       " 'azalina',\n",
       " 'azan',\n",
       " 'azhar',\n",
       " 'aziz',\n",
       " 'azmin',\n",
       " 'azrin',\n",
       " 'b40',\n",
       " 'bab',\n",
       " 'baba',\n",
       " 'babi',\n",
       " 'baca',\n",
       " 'bachok',\n",
       " 'back',\n",
       " 'bacul',\n",
       " 'badan',\n",
       " 'badawi',\n",
       " 'badut',\n",
       " 'bagaimanapun',\n",
       " 'bagan',\n",
       " 'baginda',\n",
       " 'bagus',\n",
       " 'bahagi',\n",
       " 'bahagian',\n",
       " 'bahagikan',\n",
       " 'bahan',\n",
       " 'bahang',\n",
       " 'bahangnya',\n",
       " 'baharu',\n",
       " 'bahasa',\n",
       " 'bahaya',\n",
       " 'bahayanya',\n",
       " 'bahtera',\n",
       " 'bahunya',\n",
       " 'baiah',\n",
       " 'baik',\n",
       " 'baiki',\n",
       " 'baikinya',\n",
       " 'baikkan',\n",
       " 'baiknya',\n",
       " 'baitulmaqdis',\n",
       " 'bajet',\n",
       " 'bak',\n",
       " 'baka',\n",
       " 'bakal',\n",
       " 'bakat',\n",
       " 'baki',\n",
       " 'bakinya',\n",
       " 'bakti',\n",
       " 'balai',\n",
       " 'balak',\n",
       " 'balas',\n",
       " 'bali',\n",
       " 'balik',\n",
       " 'bandar',\n",
       " 'bandaraya',\n",
       " 'banding',\n",
       " 'bangga',\n",
       " 'bangkit',\n",
       " 'bangkitkan',\n",
       " 'bangkrap',\n",
       " 'bangladesh',\n",
       " 'bangsa',\n",
       " 'bangunan',\n",
       " 'bangunkan',\n",
       " 'banjir',\n",
       " 'bank',\n",
       " 'banking',\n",
       " 'bankrap',\n",
       " 'bantahan',\n",
       " 'bantu',\n",
       " 'bantuan',\n",
       " 'bapa',\n",
       " 'barang',\n",
       " 'barangan',\n",
       " 'barangkali',\n",
       " 'barat',\n",
       " 'barisan',\n",
       " 'baru',\n",
       " 'barulah',\n",
       " 'bas',\n",
       " 'bashah',\n",
       " 'bata',\n",
       " 'batas',\n",
       " 'batasan',\n",
       " 'baton',\n",
       " 'battleground',\n",
       " 'batu',\n",
       " 'batuk',\n",
       " 'baucar',\n",
       " 'bauksit',\n",
       " 'baur',\n",
       " 'bawa',\n",
       " 'bawahan',\n",
       " 'bawahnya',\n",
       " 'bayang',\n",
       " 'bayangkan',\n",
       " 'bayar',\n",
       " 'bayaran',\n",
       " 'bayi',\n",
       " 'bazirkan',\n",
       " 'bbc',\n",
       " 'beban',\n",
       " 'bebanan',\n",
       " 'bebas',\n",
       " 'beg',\n",
       " 'begitulah',\n",
       " 'beim',\n",
       " 'bekalan',\n",
       " 'bekas',\n",
       " 'bekerja',\n",
       " 'bekerjasama',\n",
       " 'bekerjaya',\n",
       " 'belah',\n",
       " 'belajar',\n",
       " 'belajarlah',\n",
       " 'belakang',\n",
       " 'belakangnya',\n",
       " 'belanda',\n",
       " 'beli',\n",
       " 'belia',\n",
       " 'beliau',\n",
       " 'belud',\n",
       " 'bemban',\n",
       " 'benar',\n",
       " 'benarkah',\n",
       " 'benarkan',\n",
       " 'bencana',\n",
       " 'benci',\n",
       " 'benda',\n",
       " 'bendera',\n",
       " 'bendung',\n",
       " 'bengis',\n",
       " 'bentang',\n",
       " 'benteng',\n",
       " 'bentong',\n",
       " 'bentuk',\n",
       " 'ber',\n",
       " 'beragama',\n",
       " 'beraja',\n",
       " 'berakhir',\n",
       " 'berakhlak',\n",
       " 'beralih',\n",
       " 'beramai',\n",
       " 'berambus',\n",
       " 'berani',\n",
       " 'berapakah',\n",
       " 'beras',\n",
       " 'berasa',\n",
       " 'berasal',\n",
       " 'berasas',\n",
       " 'berasaskan',\n",
       " 'berat',\n",
       " 'beraudit',\n",
       " 'berbahagia',\n",
       " 'berbahasa',\n",
       " 'berbahaya',\n",
       " 'berbaik',\n",
       " 'berbakat',\n",
       " 'berbakti',\n",
       " 'berbalah',\n",
       " 'berbaloi',\n",
       " 'berbanding',\n",
       " 'berbangga',\n",
       " 'berbangkit',\n",
       " 'berbangsa',\n",
       " 'berbelah',\n",
       " 'berbelanja',\n",
       " 'berbelas',\n",
       " 'berbentuk',\n",
       " 'berbesar',\n",
       " 'berbeza',\n",
       " 'berbicara',\n",
       " 'berbilang',\n",
       " 'berbilion',\n",
       " 'berbincang',\n",
       " 'berbohong',\n",
       " 'berbual',\n",
       " 'berbuat',\n",
       " 'berbulu',\n",
       " 'berbunyi',\n",
       " 'bercadang',\n",
       " 'bercakap',\n",
       " 'bercampur',\n",
       " 'bercanggah',\n",
       " 'bercerita',\n",
       " 'bercita',\n",
       " 'bercuti',\n",
       " 'berdaftar',\n",
       " 'berdasarkan',\n",
       " 'berdaya',\n",
       " 'berdebat',\n",
       " 'berdekad',\n",
       " 'berdekatan',\n",
       " 'berdendam',\n",
       " 'berdepan',\n",
       " 'berdiri',\n",
       " 'berdoa',\n",
       " 'berdosa',\n",
       " 'berdua',\n",
       " 'berek',\n",
       " 'bererti',\n",
       " 'beretika',\n",
       " 'beretorik',\n",
       " 'berfaedah',\n",
       " 'berfakta',\n",
       " 'berfikir',\n",
       " 'berfikiran',\n",
       " 'berfungsi',\n",
       " 'bergabung',\n",
       " 'berganda',\n",
       " 'berganding',\n",
       " 'berganjak',\n",
       " 'berganti',\n",
       " 'bergantung',\n",
       " 'bergaul',\n",
       " 'bergelar',\n",
       " 'bergentaya',\n",
       " 'bergerak',\n",
       " 'bergraduasi',\n",
       " 'berguna',\n",
       " 'berhad',\n",
       " 'berhadapan',\n",
       " 'berhak',\n",
       " 'berhampiran',\n",
       " 'berharap',\n",
       " 'berharga',\n",
       " 'berhasrat',\n",
       " 'berhati',\n",
       " 'berhemah',\n",
       " 'berhenti',\n",
       " 'berhijrah',\n",
       " 'berhikmah',\n",
       " 'berhormat',\n",
       " 'berhubung',\n",
       " 'berhujah',\n",
       " 'beri',\n",
       " 'berikutan',\n",
       " 'berikutnya',\n",
       " 'berilah',\n",
       " 'beriltizam',\n",
       " 'berinteraksi',\n",
       " 'berinteraktif',\n",
       " 'berisiko',\n",
       " 'berita',\n",
       " 'beritahu',\n",
       " 'berjadual',\n",
       " 'berjaga',\n",
       " 'berjalan',\n",
       " 'berjam',\n",
       " 'berjanji',\n",
       " 'berjaya',\n",
       " 'berjemaah',\n",
       " 'berjenama',\n",
       " 'berjiwa',\n",
       " 'berjuang',\n",
       " 'berjuanglah',\n",
       " 'berjumlah',\n",
       " 'berjumpa',\n",
       " 'berkadar',\n",
       " 'berkait',\n",
       " 'berkaitan',\n",
       " 'berkali',\n",
       " 'berkaliber',\n",
       " 'berkata',\n",
       " 'berkawan',\n",
       " 'berkebolehan',\n",
       " 'berkelakuan',\n",
       " 'berkelayakan',\n",
       " 'berkeliaran',\n",
       " 'berkembang',\n",
       " 'berkempen',\n",
       " 'berkemungkinan',\n",
       " 'berkepentingan',\n",
       " 'berkerja',\n",
       " 'berkerusi',\n",
       " 'berkesan',\n",
       " 'berkeyakinan',\n",
       " 'berkhidmat',\n",
       " 'berkompromi',\n",
       " 'berkomunikasi',\n",
       " 'berkongsi',\n",
       " 'berkualiti',\n",
       " 'berkuasa',\n",
       " 'berkuat',\n",
       " 'berkumandang',\n",
       " 'berkumpul',\n",
       " 'berkunjung',\n",
       " 'berkurangan',\n",
       " 'berlainan',\n",
       " 'berlaku',\n",
       " 'berlakulah',\n",
       " 'berlakunya',\n",
       " 'berlalu',\n",
       " 'berlandaskan',\n",
       " 'berlangsung',\n",
       " 'berlapang',\n",
       " 'berlari',\n",
       " 'berlarutan',\n",
       " 'berlawan',\n",
       " 'berlayar',\n",
       " 'berlebih',\n",
       " 'berlegar',\n",
       " 'berlian',\n",
       " 'berlipat',\n",
       " 'berlubang',\n",
       " 'berlumba',\n",
       " 'bermacam',\n",
       " 'bermain',\n",
       " 'bermakna',\n",
       " 'bermaksud',\n",
       " 'bermalam',\n",
       " 'bermaruah',\n",
       " 'bermasalah',\n",
       " 'bermati',\n",
       " 'bermatlamat',\n",
       " 'bermesyuarat',\n",
       " 'bermesyurat',\n",
       " 'berminat',\n",
       " 'bermoral',\n",
       " 'bermotif',\n",
       " 'bermula',\n",
       " 'bermulanya',\n",
       " 'bermurah',\n",
       " 'bermusim',\n",
       " 'bermusuhan',\n",
       " 'bernas',\n",
       " 'berniaga',\n",
       " 'bernilai',\n",
       " 'beroleh',\n",
       " 'beroperasi',\n",
       " 'berpada',\n",
       " 'berpakar',\n",
       " 'berpakat',\n",
       " 'berpandangan',\n",
       " 'berpandu',\n",
       " 'berpanjangan',\n",
       " 'berparlimen',\n",
       " 'berpasukan',\n",
       " 'berpecah',\n",
       " 'berpegang',\n",
       " 'berpelajaran',\n",
       " 'berpeleseran',\n",
       " 'berpeluang',\n",
       " 'berpendapat',\n",
       " 'berpendapatan',\n",
       " 'berpendidikan',\n",
       " 'berpendirian',\n",
       " 'berpengalaman',\n",
       " 'berpengaruh',\n",
       " 'berpengetahuan',\n",
       " 'berperanan',\n",
       " 'berperang',\n",
       " 'berperingkat',\n",
       " 'berperlembagaan',\n",
       " 'berpesan',\n",
       " 'berpihak',\n",
       " 'berpijak',\n",
       " 'berpindah',\n",
       " 'berpisah',\n",
       " 'berpolitik',\n",
       " 'berpotensi',\n",
       " 'berpuak',\n",
       " 'berpuas',\n",
       " 'berpunca',\n",
       " 'berpura',\n",
       " 'berputih',\n",
       " 'bersabar',\n",
       " 'bersaing',\n",
       " 'bersalah',\n",
       " 'bersalin',\n",
       " 'bersama',\n",
       " 'bersamaan',\n",
       " 'bersamanya',\n",
       " 'bersandar',\n",
       " 'bersandarkan',\n",
       " 'bersandiwara',\n",
       " 'bersangka',\n",
       " 'bersara',\n",
       " 'bersasar',\n",
       " 'bersatu',\n",
       " 'bersatulah',\n",
       " 'bersedia',\n",
       " 'bersedialah',\n",
       " 'bersekutu',\n",
       " 'berselindung',\n",
       " 'berselisih',\n",
       " 'bersemangat',\n",
       " 'bersemuka',\n",
       " 'bersendirian',\n",
       " 'bersengkang',\n",
       " 'bersepakat',\n",
       " 'bersesuaian',\n",
       " 'berseterusan',\n",
       " 'bersetuju',\n",
       " 'bersiap',\n",
       " 'bersifat',\n",
       " 'bersih',\n",
       " 'bersikap',\n",
       " 'bersimpati',\n",
       " 'bersistematik',\n",
       " 'berskala',\n",
       " 'bersorak',\n",
       " 'berstruktur',\n",
       " 'bersuara',\n",
       " 'bersubahat',\n",
       " 'bersumpah',\n",
       " 'bersungguh',\n",
       " 'bersyarah',\n",
       " 'bersyukur',\n",
       " 'bertahan',\n",
       " 'bertahun',\n",
       " 'bertambah',\n",
       " 'bertan',\n",
       " 'bertanding',\n",
       " 'bertanggung',\n",
       " 'bertanggungjawab',\n",
       " 'bertanya',\n",
       " 'bertanyakan',\n",
       " 'bertaraf',\n",
       " 'bertarung',\n",
       " 'bertaubat',\n",
       " 'bertawakuf',\n",
       " 'bertegur',\n",
       " 'bertekad',\n",
       " 'bertembung',\n",
       " 'bertembunglah',\n",
       " 'bertemu',\n",
       " 'bertengkar',\n",
       " 'bertentangan',\n",
       " 'berterima',\n",
       " 'berterusan',\n",
       " 'bertindak',\n",
       " 'bertolak',\n",
       " 'bertongkat',\n",
       " 'bertuah',\n",
       " 'bertugas',\n",
       " 'bertujuan',\n",
       " 'bertukar',\n",
       " 'berturap',\n",
       " 'berubah',\n",
       " 'berucap',\n",
       " 'berucaplah',\n",
       " 'berulang',\n",
       " 'berumur',\n",
       " 'berunding',\n",
       " 'beruniform',\n",
       " 'berupaya',\n",
       " 'berurusan',\n",
       " 'berusaha',\n",
       " 'berusia',\n",
       " 'berwibawa',\n",
       " 'besar',\n",
       " 'besaran',\n",
       " 'besarnya',\n",
       " 'besi',\n",
       " 'betapa',\n",
       " 'betul',\n",
       " 'betulkah',\n",
       " 'betulkan',\n",
       " 'beza',\n",
       " 'bezakan',\n",
       " 'bharu',\n",
       " 'bhd',\n",
       " 'biadab',\n",
       " 'biar',\n",
       " 'biarkan',\n",
       " 'biarlah',\n",
       " 'biasa',\n",
       " 'biasalah',\n",
       " 'biasanya',\n",
       " 'biasiswa',\n",
       " 'bicara',\n",
       " 'bidaan',\n",
       " 'bidang',\n",
       " 'bidas',\n",
       " 'bijak',\n",
       " 'bijaksana',\n",
       " 'biji',\n",
       " 'bikum',\n",
       " 'bilangan',\n",
       " 'bilangannya',\n",
       " 'bilik',\n",
       " 'bilion',\n",
       " 'bilut',\n",
       " 'bimbang',\n",
       " 'bimbingan',\n",
       " 'bimbit',\n",
       " 'bin',\n",
       " 'bina',\n",
       " 'binatang',\n",
       " 'bincang',\n",
       " 'bincangkan',\n",
       " 'bintang',\n",
       " 'biofuel',\n",
       " 'biologi',\n",
       " 'biometrik',\n",
       " 'bir',\n",
       " 'biru',\n",
       " 'bisnes',\n",
       " 'bitumen',\n",
       " 'black',\n",
       " 'blockade',\n",
       " 'blog',\n",
       " 'blue',\n",
       " 'bn',\n",
       " 'bodoh',\n",
       " 'bohong',\n",
       " 'boikot',\n",
       " 'bola',\n",
       " 'bolehkah',\n",
       " 'bomba',\n",
       " 'bombardier',\n",
       " 'bon',\n",
       " 'bongkok',\n",
       " 'bonus',\n",
       " 'bookie',\n",
       " 'borang',\n",
       " 'borneo',\n",
       " 'boros',\n",
       " 'bos',\n",
       " 'br1m',\n",
       " 'bridget',\n",
       " 'brim',\n",
       " 'broadnet',\n",
       " 'buah',\n",
       " 'buang',\n",
       " 'buangan',\n",
       " 'buat',\n",
       " 'bubar',\n",
       " 'budaya',\n",
       " 'budi',\n",
       " 'budiman',\n",
       " 'buka',\n",
       " 'bukannya',\n",
       " 'bukit',\n",
       " 'bukti',\n",
       " 'buktikan',\n",
       " 'buku',\n",
       " 'bulan',\n",
       " 'bulat',\n",
       " 'buli',\n",
       " 'buluh',\n",
       " 'bumbung',\n",
       " 'bumi',\n",
       " 'bumiputera',\n",
       " 'bunga',\n",
       " 'bungkusan',\n",
       " 'bunuh',\n",
       " 'bunyi',\n",
       " 'buruh',\n",
       " 'buruk',\n",
       " 'burukkan',\n",
       " 'business',\n",
       " 'buta',\n",
       " 'butiran',\n",
       " 'bvi',\n",
       " 'bypass',\n",
       " 'ca',\n",
       " 'caam',\n",
       " 'cabar',\n",
       " 'cabaran',\n",
       " 'cacat',\n",
       " 'cadangan',\n",
       " 'cadangkan',\n",
       " 'cahaya',\n",
       " 'cairan',\n",
       " 'caj',\n",
       " 'cakap',\n",
       " 'cakaplah',\n",
       " 'cakera',\n",
       " 'calang',\n",
       " 'call',\n",
       " 'calon',\n",
       " 'calonnnya',\n",
       " 'calonnya',\n",
       " 'cameron',\n",
       " 'campur',\n",
       " 'campuran',\n",
       " 'canangkan',\n",
       " 'canggih',\n",
       " 'cantik',\n",
       " 'capaian',\n",
       " 'cara',\n",
       " 'caranya',\n",
       " 'cari',\n",
       " 'cat',\n",
       " 'catatan',\n",
       " 'catu',\n",
       " 'catuan',\n",
       " 'cawangan',\n",
       " 'cedera',\n",
       " 'cekap',\n",
       " 'cela',\n",
       " 'celaka',\n",
       " 'celaru',\n",
       " 'cemas',\n",
       " 'cemburu',\n",
       " 'cemerlang',\n",
       " 'cemuhan',\n",
       " 'cenderung',\n",
       " 'cepat',\n",
       " 'ceramah',\n",
       " 'cergas',\n",
       " 'ceria',\n",
       " 'cerita',\n",
       " 'cermin',\n",
       " 'cerun',\n",
       " 'cetak',\n",
       " 'chauvinis',\n",
       " 'cheek',\n",
       " 'chik',\n",
       " 'chin',\n",
       " 'china',\n",
       " 'cikgu',\n",
       " 'cina',\n",
       " 'cinta',\n",
       " 'cipta',\n",
       " 'ciri',\n",
       " 'cita',\n",
       " 'citra',\n",
       " 'cma',\n",
       " 'cmc',\n",
       " 'cogan',\n",
       " 'comfort',\n",
       " 'coming',\n",
       " 'compete',\n",
       " 'con',\n",
       " 'consultant',\n",
       " 'contoh',\n",
       " 'contohnya',\n",
       " 'corak',\n",
       " 'corp',\n",
       " 'corporation',\n",
       " 'council',\n",
       " 'cover',\n",
       " 'cp',\n",
       " 'crcc',\n",
       " 'cuaca',\n",
       " 'cuak',\n",
       " 'cuba',\n",
       " 'cubaan',\n",
       " 'cucian',\n",
       " 'cucuk',\n",
       " 'cukai',\n",
       " 'cukup',\n",
       " 'cukuplah',\n",
       " 'cuma',\n",
       " 'curahkan',\n",
       " 'cure',\n",
       " 'curiae',\n",
       " 'cuti',\n",
       " 'dacing',\n",
       " 'dada',\n",
       " 'dadah',\n",
       " 'daerah',\n",
       " 'daesh',\n",
       " ...]"
      ]
     },
     "execution_count": 62,
     "metadata": {},
     "output_type": "execute_result"
    }
   ],
   "source": [
    "vectorizer.get_feature_names()"
   ]
  },
  {
   "cell_type": "code",
   "execution_count": 65,
   "metadata": {},
   "outputs": [
    {
     "data": {
      "text/html": [
       "<div>\n",
       "<style scoped>\n",
       "    .dataframe tbody tr th:only-of-type {\n",
       "        vertical-align: middle;\n",
       "    }\n",
       "\n",
       "    .dataframe tbody tr th {\n",
       "        vertical-align: top;\n",
       "    }\n",
       "\n",
       "    .dataframe thead th {\n",
       "        text-align: right;\n",
       "    }\n",
       "</style>\n",
       "<table border=\"1\" class=\"dataframe\">\n",
       "  <thead>\n",
       "    <tr style=\"text-align: right;\">\n",
       "      <th></th>\n",
       "      <th>Stop_Word</th>\n",
       "    </tr>\n",
       "  </thead>\n",
       "  <tbody>\n",
       "    <tr>\n",
       "      <th>0</th>\n",
       "      <td>inikah</td>\n",
       "    </tr>\n",
       "    <tr>\n",
       "      <th>1</th>\n",
       "      <td>sampai</td>\n",
       "    </tr>\n",
       "    <tr>\n",
       "      <th>2</th>\n",
       "      <td>adakah</td>\n",
       "    </tr>\n",
       "    <tr>\n",
       "      <th>3</th>\n",
       "      <td>inilah</td>\n",
       "    </tr>\n",
       "    <tr>\n",
       "      <th>4</th>\n",
       "      <td>sana</td>\n",
       "    </tr>\n",
       "  </tbody>\n",
       "</table>\n",
       "</div>"
      ],
      "text/plain": [
       "  Stop_Word\n",
       "0    inikah\n",
       "1    sampai\n",
       "2    adakah\n",
       "3    inilah\n",
       "4      sana"
      ]
     },
     "execution_count": 65,
     "metadata": {},
     "output_type": "execute_result"
    }
   ],
   "source": [
    "stopword2 = pd.read_csv(r'D:\\Repositories\\stopword.csv', index_col =0 )\n",
    "stopword2.head()"
   ]
  },
  {
   "cell_type": "code",
   "execution_count": 66,
   "metadata": {
    "collapsed": true
   },
   "outputs": [],
   "source": [
    "stopword2=stopword2['Stop_Word'].values"
   ]
  },
  {
   "cell_type": "code",
   "execution_count": 67,
   "metadata": {
    "collapsed": true
   },
   "outputs": [],
   "source": [
    "stopword2 = list(stopword2)"
   ]
  },
  {
   "cell_type": "code",
   "execution_count": 68,
   "metadata": {
    "collapsed": true
   },
   "outputs": [],
   "source": [
    "cvec_with_stopword2 =  CountVectorizer(stop_words=frozenset(stopword2))"
   ]
  },
  {
   "cell_type": "code",
   "execution_count": 69,
   "metadata": {},
   "outputs": [
    {
     "data": {
      "text/plain": [
       "CountVectorizer(analyzer='word', binary=False, decode_error='strict',\n",
       "        dtype=<class 'numpy.int64'>, encoding='utf-8', input='content',\n",
       "        lowercase=True, max_df=1.0, max_features=None, min_df=1,\n",
       "        ngram_range=(1, 1), preprocessor=None,\n",
       "        stop_words=frozenset({'engkaulah', 'hendaklah', 'demikian', 'ini', 'tidakkah', 'seolah-olah', 'maha', 'hampir-hampir', 'tanya', 'mereka', 'oleh', 'bagi', 'adanya', 'kamupun', 'sekitar', 'kerana', 'nya', 'ketika', 'daripadamu', 'kelak', 'bagaimanakah', 'manakah', 'sebanyak', 'bahawasanya', 'hai', 'pe...pa', 'sedangkan', 'masing-masing', 'akulah', 'demi', 'ia', 'menyebabkannya', 'kembali', 'tidaklah'}),\n",
       "        strip_accents=None, token_pattern='(?u)\\\\b\\\\w\\\\w+\\\\b',\n",
       "        tokenizer=None, vocabulary=None)"
      ]
     },
     "execution_count": 69,
     "metadata": {},
     "output_type": "execute_result"
    }
   ],
   "source": [
    "cvec_with_stopword2"
   ]
  },
  {
   "cell_type": "code",
   "execution_count": 70,
   "metadata": {
    "collapsed": true
   },
   "outputs": [],
   "source": [
    "cvecout_stopword2 = cvec_with_stopword2.fit_transform(x_train)"
   ]
  },
  {
   "cell_type": "code",
   "execution_count": 71,
   "metadata": {},
   "outputs": [
    {
     "data": {
      "text/plain": [
       "LogisticRegression(C=1.0, class_weight=None, dual=False, fit_intercept=True,\n",
       "          intercept_scaling=1, max_iter=100, multi_class='ovr', n_jobs=1,\n",
       "          penalty='l2', random_state=None, solver='liblinear', tol=0.0001,\n",
       "          verbose=0, warm_start=False)"
      ]
     },
     "execution_count": 71,
     "metadata": {},
     "output_type": "execute_result"
    }
   ],
   "source": [
    "TextModel.fit(cvecout_stopword2,y_train)"
   ]
  },
  {
   "cell_type": "code",
   "execution_count": 72,
   "metadata": {},
   "outputs": [
    {
     "data": {
      "text/plain": [
       "0.59191655801825294"
      ]
     },
     "execution_count": 72,
     "metadata": {},
     "output_type": "execute_result"
    }
   ],
   "source": [
    "transformed_test = cvec_with_stopword2.transform(x_test)\n",
    "TextModel.score(transformed_test,y_test)"
   ]
  },
  {
   "cell_type": "code",
   "execution_count": 73,
   "metadata": {
    "collapsed": true,
    "scrolled": true
   },
   "outputs": [],
   "source": [
    "x_train=train_data['text'].values\n",
    "y_train=train_data['label'].values\n",
    "\n",
    "x_test=test_data['text'].values\n",
    "y_test=test_data['label'].values"
   ]
  },
  {
   "cell_type": "code",
   "execution_count": 74,
   "metadata": {
    "collapsed": true
   },
   "outputs": [],
   "source": [
    "from sklearn.pipeline import Pipeline\n",
    "\n",
    "stop_words=frozenset(stopword2)\n",
    "\n",
    "text_clf = Pipeline([('vect', CountVectorizer(stop_words=stop_words)), ('tfidf', TfidfTransformer()), ('clf', MultinomialNB())])\n",
    "\n",
    "text_clf = text_clf.fit(x_train, y_train)"
   ]
  },
  {
   "cell_type": "code",
   "execution_count": 75,
   "metadata": {},
   "outputs": [
    {
     "data": {
      "text/plain": [
       "0.56975228161668845"
      ]
     },
     "execution_count": 75,
     "metadata": {},
     "output_type": "execute_result"
    }
   ],
   "source": [
    "predicted = text_clf.predict(x_test)\n",
    "np.mean(predicted == y_test)"
   ]
  },
  {
   "cell_type": "markdown",
   "metadata": {},
   "source": [
    "## SGD Classfiers"
   ]
  },
  {
   "cell_type": "code",
   "execution_count": 76,
   "metadata": {},
   "outputs": [
    {
     "data": {
      "text/plain": [
       "0.56975228161668845"
      ]
     },
     "execution_count": 76,
     "metadata": {},
     "output_type": "execute_result"
    }
   ],
   "source": [
    "from sklearn.linear_model import SGDClassifier\n",
    "stop_words=frozenset(stopword2)\n",
    "text_clf_svm = Pipeline([('vect', CountVectorizer(stop_words=stop_words)), ('tfidf', TfidfTransformer()),\n",
    "                         ('clf-svm', SGDClassifier(loss='hinge', penalty='l2',alpha=1e-3, max_iter=500, \n",
    "                                                   tol=1e-2, random_state=42, n_jobs=-1, learning_rate='invscaling',\n",
    "                                                  eta0=100))])\n",
    "\n",
    "text_clf_svm = text_clf_svm.fit(x_train, y_train)\n",
    "predicted_svm = text_clf_svm.predict(x_test)\n",
    "np.mean(predicted_svm == y_test)"
   ]
  },
  {
   "cell_type": "code",
   "execution_count": 77,
   "metadata": {},
   "outputs": [
    {
     "name": "stdout",
     "output_type": "stream",
     "text": [
      "             precision    recall  f1-score   support\n",
      "\n",
      "   Negative     0.5333    0.0833    0.1441       192\n",
      "    Neutral     0.6154    0.0533    0.0982       150\n",
      "   Positive     0.5704    0.9718    0.7189       425\n",
      "\n",
      "avg / total     0.5699    0.5698    0.4536       767\n",
      "\n"
     ]
    }
   ],
   "source": [
    "from sklearn.metrics import classification_report\n",
    "print(classification_report(y_test,predicted_svm, digits=4))"
   ]
  },
  {
   "cell_type": "code",
   "execution_count": 78,
   "metadata": {
    "collapsed": true,
    "scrolled": true
   },
   "outputs": [],
   "source": [
    "test_data = test_data.assign(pred_svm = predicted_svm).assign(pred_NB = predicted)"
   ]
  },
  {
   "cell_type": "code",
   "execution_count": 79,
   "metadata": {
    "scrolled": true
   },
   "outputs": [
    {
     "data": {
      "text/html": [
       "<div>\n",
       "<style scoped>\n",
       "    .dataframe tbody tr th:only-of-type {\n",
       "        vertical-align: middle;\n",
       "    }\n",
       "\n",
       "    .dataframe tbody tr th {\n",
       "        vertical-align: top;\n",
       "    }\n",
       "\n",
       "    .dataframe thead th {\n",
       "        text-align: right;\n",
       "    }\n",
       "</style>\n",
       "<table border=\"1\" class=\"dataframe\">\n",
       "  <thead>\n",
       "    <tr style=\"text-align: right;\">\n",
       "      <th></th>\n",
       "      <th>label</th>\n",
       "      <th>text</th>\n",
       "      <th>pred_svm</th>\n",
       "      <th>pred_NB</th>\n",
       "    </tr>\n",
       "  </thead>\n",
       "  <tbody>\n",
       "    <tr>\n",
       "      <th>2255</th>\n",
       "      <td>Positive</td>\n",
       "      <td>Bagaimana pun semua ini tidak akan memberikan rasa puas hati kepada saya dan akan terus bertekad untuk merancang pelbagai pembangunan pada masa ak...</td>\n",
       "      <td>Positive</td>\n",
       "      <td>Positive</td>\n",
       "    </tr>\n",
       "    <tr>\n",
       "      <th>1476</th>\n",
       "      <td>Positive</td>\n",
       "      <td>Jadi saya keluarkan memo</td>\n",
       "      <td>Positive</td>\n",
       "      <td>Positive</td>\n",
       "    </tr>\n",
       "    <tr>\n",
       "      <th>1044</th>\n",
       "      <td>Positive</td>\n",
       "      <td>Sekiranya pembiayaan ini mendapat sambutan yang tinggi, Bank Rakyat tidak menolak kemungkinan untuk menambah lagi jumlah peruntukan</td>\n",
       "      <td>Positive</td>\n",
       "      <td>Positive</td>\n",
       "    </tr>\n",
       "    <tr>\n",
       "      <th>1765</th>\n",
       "      <td>Positive</td>\n",
       "      <td>SPRM telah menahan seorang ‘pendedak’ yang tentunya mewakili Umno atau Pejabat Perdana Menteri (PMO) untuk sogok pemimpin dan ahli kami, antaranya...</td>\n",
       "      <td>Positive</td>\n",
       "      <td>Positive</td>\n",
       "    </tr>\n",
       "    <tr>\n",
       "      <th>2376</th>\n",
       "      <td>Positive</td>\n",
       "      <td>Saya cabar pihak berkenaan untuk mengemukakan semua butiran terperinci, siapakah nama mereka dan nyatakan lokasi</td>\n",
       "      <td>Positive</td>\n",
       "      <td>Positive</td>\n",
       "    </tr>\n",
       "    <tr>\n",
       "      <th>2197</th>\n",
       "      <td>Negative</td>\n",
       "      <td>Para pelabur dan pasaran global hilang keyakinan terhadap kita dan kita mengambil masa yang lama untuk memenangi semula hati mereka</td>\n",
       "      <td>Positive</td>\n",
       "      <td>Positive</td>\n",
       "    </tr>\n",
       "    <tr>\n",
       "      <th>457</th>\n",
       "      <td>Positive</td>\n",
       "      <td>Siapa berhasrat mahu jadi calon, mesti ada kredibiliti dan sokongan padu rakyat, tidak kira dia penyandang atau tidak</td>\n",
       "      <td>Positive</td>\n",
       "      <td>Positive</td>\n",
       "    </tr>\n",
       "    <tr>\n",
       "      <th>1122</th>\n",
       "      <td>Positive</td>\n",
       "      <td>Kita perlu kembali kepada kerajaan yang telah terbukti kebolehannya membangunkan negara berbanding (kerajaan) sekarang</td>\n",
       "      <td>Positive</td>\n",
       "      <td>Positive</td>\n",
       "    </tr>\n",
       "    <tr>\n",
       "      <th>45</th>\n",
       "      <td>Negative</td>\n",
       "      <td>Mengapa kerajaan tidak bangkitkan isu ini?</td>\n",
       "      <td>Positive</td>\n",
       "      <td>Positive</td>\n",
       "    </tr>\n",
       "    <tr>\n",
       "      <th>1583</th>\n",
       "      <td>Positive</td>\n",
       "      <td>Jika kami berjaya tawan Putrajaya pada PRU14, kami akan cadangkan kepada PH untuk melantik Orang Asli sebagai timbalan menteri, dan Orang Asli men...</td>\n",
       "      <td>Positive</td>\n",
       "      <td>Positive</td>\n",
       "    </tr>\n",
       "  </tbody>\n",
       "</table>\n",
       "</div>"
      ],
      "text/plain": [
       "         label  \\\n",
       "2255  Positive   \n",
       "1476  Positive   \n",
       "1044  Positive   \n",
       "1765  Positive   \n",
       "2376  Positive   \n",
       "2197  Negative   \n",
       "457   Positive   \n",
       "1122  Positive   \n",
       "45    Negative   \n",
       "1583  Positive   \n",
       "\n",
       "                                                                                                                                                       text  \\\n",
       "2255  Bagaimana pun semua ini tidak akan memberikan rasa puas hati kepada saya dan akan terus bertekad untuk merancang pelbagai pembangunan pada masa ak...   \n",
       "1476                                                                                                                               Jadi saya keluarkan memo   \n",
       "1044                    Sekiranya pembiayaan ini mendapat sambutan yang tinggi, Bank Rakyat tidak menolak kemungkinan untuk menambah lagi jumlah peruntukan   \n",
       "1765  SPRM telah menahan seorang ‘pendedak’ yang tentunya mewakili Umno atau Pejabat Perdana Menteri (PMO) untuk sogok pemimpin dan ahli kami, antaranya...   \n",
       "2376                                       Saya cabar pihak berkenaan untuk mengemukakan semua butiran terperinci, siapakah nama mereka dan nyatakan lokasi   \n",
       "2197                    Para pelabur dan pasaran global hilang keyakinan terhadap kita dan kita mengambil masa yang lama untuk memenangi semula hati mereka   \n",
       "457                                   Siapa berhasrat mahu jadi calon, mesti ada kredibiliti dan sokongan padu rakyat, tidak kira dia penyandang atau tidak   \n",
       "1122                                 Kita perlu kembali kepada kerajaan yang telah terbukti kebolehannya membangunkan negara berbanding (kerajaan) sekarang   \n",
       "45                                                                                                               Mengapa kerajaan tidak bangkitkan isu ini?   \n",
       "1583  Jika kami berjaya tawan Putrajaya pada PRU14, kami akan cadangkan kepada PH untuk melantik Orang Asli sebagai timbalan menteri, dan Orang Asli men...   \n",
       "\n",
       "      pred_svm   pred_NB  \n",
       "2255  Positive  Positive  \n",
       "1476  Positive  Positive  \n",
       "1044  Positive  Positive  \n",
       "1765  Positive  Positive  \n",
       "2376  Positive  Positive  \n",
       "2197  Positive  Positive  \n",
       "457   Positive  Positive  \n",
       "1122  Positive  Positive  \n",
       "45    Positive  Positive  \n",
       "1583  Positive  Positive  "
      ]
     },
     "execution_count": 79,
     "metadata": {},
     "output_type": "execute_result"
    }
   ],
   "source": [
    "test_data.head(10)"
   ]
  },
  {
   "cell_type": "code",
   "execution_count": 80,
   "metadata": {},
   "outputs": [
    {
     "data": {
      "text/plain": [
       "['label', 'text', 'pred_svm', 'pred_NB']"
      ]
     },
     "execution_count": 80,
     "metadata": {},
     "output_type": "execute_result"
    }
   ],
   "source": [
    "cols = list(test_data.columns.values)\n",
    "cols"
   ]
  },
  {
   "cell_type": "code",
   "execution_count": 81,
   "metadata": {},
   "outputs": [
    {
     "data": {
      "text/html": [
       "<div>\n",
       "<style scoped>\n",
       "    .dataframe tbody tr th:only-of-type {\n",
       "        vertical-align: middle;\n",
       "    }\n",
       "\n",
       "    .dataframe tbody tr th {\n",
       "        vertical-align: top;\n",
       "    }\n",
       "\n",
       "    .dataframe thead th {\n",
       "        text-align: right;\n",
       "    }\n",
       "</style>\n",
       "<table border=\"1\" class=\"dataframe\">\n",
       "  <thead>\n",
       "    <tr style=\"text-align: right;\">\n",
       "      <th></th>\n",
       "      <th>text</th>\n",
       "      <th>label</th>\n",
       "      <th>pred_svm</th>\n",
       "      <th>pred_NB</th>\n",
       "    </tr>\n",
       "  </thead>\n",
       "  <tbody>\n",
       "    <tr>\n",
       "      <th>2255</th>\n",
       "      <td>Bagaimana pun semua ini tidak akan memberikan rasa puas hati kepada saya dan akan terus bertekad untuk merancang pelbagai pembangunan pada masa ak...</td>\n",
       "      <td>Positive</td>\n",
       "      <td>Positive</td>\n",
       "      <td>Positive</td>\n",
       "    </tr>\n",
       "    <tr>\n",
       "      <th>1476</th>\n",
       "      <td>Jadi saya keluarkan memo</td>\n",
       "      <td>Positive</td>\n",
       "      <td>Positive</td>\n",
       "      <td>Positive</td>\n",
       "    </tr>\n",
       "    <tr>\n",
       "      <th>1044</th>\n",
       "      <td>Sekiranya pembiayaan ini mendapat sambutan yang tinggi, Bank Rakyat tidak menolak kemungkinan untuk menambah lagi jumlah peruntukan</td>\n",
       "      <td>Positive</td>\n",
       "      <td>Positive</td>\n",
       "      <td>Positive</td>\n",
       "    </tr>\n",
       "    <tr>\n",
       "      <th>1765</th>\n",
       "      <td>SPRM telah menahan seorang ‘pendedak’ yang tentunya mewakili Umno atau Pejabat Perdana Menteri (PMO) untuk sogok pemimpin dan ahli kami, antaranya...</td>\n",
       "      <td>Positive</td>\n",
       "      <td>Positive</td>\n",
       "      <td>Positive</td>\n",
       "    </tr>\n",
       "    <tr>\n",
       "      <th>2376</th>\n",
       "      <td>Saya cabar pihak berkenaan untuk mengemukakan semua butiran terperinci, siapakah nama mereka dan nyatakan lokasi</td>\n",
       "      <td>Positive</td>\n",
       "      <td>Positive</td>\n",
       "      <td>Positive</td>\n",
       "    </tr>\n",
       "    <tr>\n",
       "      <th>2197</th>\n",
       "      <td>Para pelabur dan pasaran global hilang keyakinan terhadap kita dan kita mengambil masa yang lama untuk memenangi semula hati mereka</td>\n",
       "      <td>Negative</td>\n",
       "      <td>Positive</td>\n",
       "      <td>Positive</td>\n",
       "    </tr>\n",
       "    <tr>\n",
       "      <th>457</th>\n",
       "      <td>Siapa berhasrat mahu jadi calon, mesti ada kredibiliti dan sokongan padu rakyat, tidak kira dia penyandang atau tidak</td>\n",
       "      <td>Positive</td>\n",
       "      <td>Positive</td>\n",
       "      <td>Positive</td>\n",
       "    </tr>\n",
       "    <tr>\n",
       "      <th>1122</th>\n",
       "      <td>Kita perlu kembali kepada kerajaan yang telah terbukti kebolehannya membangunkan negara berbanding (kerajaan) sekarang</td>\n",
       "      <td>Positive</td>\n",
       "      <td>Positive</td>\n",
       "      <td>Positive</td>\n",
       "    </tr>\n",
       "    <tr>\n",
       "      <th>45</th>\n",
       "      <td>Mengapa kerajaan tidak bangkitkan isu ini?</td>\n",
       "      <td>Negative</td>\n",
       "      <td>Positive</td>\n",
       "      <td>Positive</td>\n",
       "    </tr>\n",
       "    <tr>\n",
       "      <th>1583</th>\n",
       "      <td>Jika kami berjaya tawan Putrajaya pada PRU14, kami akan cadangkan kepada PH untuk melantik Orang Asli sebagai timbalan menteri, dan Orang Asli men...</td>\n",
       "      <td>Positive</td>\n",
       "      <td>Positive</td>\n",
       "      <td>Positive</td>\n",
       "    </tr>\n",
       "  </tbody>\n",
       "</table>\n",
       "</div>"
      ],
      "text/plain": [
       "                                                                                                                                                       text  \\\n",
       "2255  Bagaimana pun semua ini tidak akan memberikan rasa puas hati kepada saya dan akan terus bertekad untuk merancang pelbagai pembangunan pada masa ak...   \n",
       "1476                                                                                                                               Jadi saya keluarkan memo   \n",
       "1044                    Sekiranya pembiayaan ini mendapat sambutan yang tinggi, Bank Rakyat tidak menolak kemungkinan untuk menambah lagi jumlah peruntukan   \n",
       "1765  SPRM telah menahan seorang ‘pendedak’ yang tentunya mewakili Umno atau Pejabat Perdana Menteri (PMO) untuk sogok pemimpin dan ahli kami, antaranya...   \n",
       "2376                                       Saya cabar pihak berkenaan untuk mengemukakan semua butiran terperinci, siapakah nama mereka dan nyatakan lokasi   \n",
       "2197                    Para pelabur dan pasaran global hilang keyakinan terhadap kita dan kita mengambil masa yang lama untuk memenangi semula hati mereka   \n",
       "457                                   Siapa berhasrat mahu jadi calon, mesti ada kredibiliti dan sokongan padu rakyat, tidak kira dia penyandang atau tidak   \n",
       "1122                                 Kita perlu kembali kepada kerajaan yang telah terbukti kebolehannya membangunkan negara berbanding (kerajaan) sekarang   \n",
       "45                                                                                                               Mengapa kerajaan tidak bangkitkan isu ini?   \n",
       "1583  Jika kami berjaya tawan Putrajaya pada PRU14, kami akan cadangkan kepada PH untuk melantik Orang Asli sebagai timbalan menteri, dan Orang Asli men...   \n",
       "\n",
       "         label  pred_svm   pred_NB  \n",
       "2255  Positive  Positive  Positive  \n",
       "1476  Positive  Positive  Positive  \n",
       "1044  Positive  Positive  Positive  \n",
       "1765  Positive  Positive  Positive  \n",
       "2376  Positive  Positive  Positive  \n",
       "2197  Negative  Positive  Positive  \n",
       "457   Positive  Positive  Positive  \n",
       "1122  Positive  Positive  Positive  \n",
       "45    Negative  Positive  Positive  \n",
       "1583  Positive  Positive  Positive  "
      ]
     },
     "execution_count": 81,
     "metadata": {},
     "output_type": "execute_result"
    }
   ],
   "source": [
    "test_data = test_data[['text', 'label','pred_svm','pred_NB']]\n",
    "test_data.head(10)"
   ]
  },
  {
   "cell_type": "markdown",
   "metadata": {},
   "source": [
    "## Logistic Regression"
   ]
  },
  {
   "cell_type": "code",
   "execution_count": 90,
   "metadata": {},
   "outputs": [
    {
     "data": {
      "text/plain": [
       "0.59322033898305082"
      ]
     },
     "execution_count": 90,
     "metadata": {},
     "output_type": "execute_result"
    }
   ],
   "source": [
    "from sklearn.linear_model import LogisticRegression\n",
    "stop_words=frozenset(stopword2)\n",
    "text_clf_maxent = Pipeline([('vect', CountVectorizer(stop_words=stop_words, ngram_range=(1, 1))), ('tfidf', TfidfTransformer(use_idf = True)),\n",
    "                         ('clf-svm', LogisticRegression(multi_class='multinomial', solver='saga'))])\n",
    "\n",
    "text_clf_maxent = text_clf_maxent.fit(x_train, y_train)\n",
    "predicted_maxent = text_clf_maxent.predict(x_test)\n",
    "np.mean(predicted_maxent == y_test)"
   ]
  },
  {
   "cell_type": "code",
   "execution_count": 87,
   "metadata": {},
   "outputs": [
    {
     "name": "stdout",
     "output_type": "stream",
     "text": [
      "             precision    recall  f1-score   support\n",
      "\n",
      "   Negative     0.5053    0.2500    0.3345       192\n",
      "    Neutral     0.5556    0.1333    0.2151       150\n",
      "   Positive     0.6085    0.9106    0.7295       425\n",
      "\n",
      "avg / total     0.5723    0.5932    0.5300       767\n",
      "\n"
     ]
    }
   ],
   "source": [
    "from sklearn.metrics import classification_report\n",
    "print(classification_report(y_test,predicted_maxent, digits=4))"
   ]
  },
  {
   "cell_type": "code",
   "execution_count": 88,
   "metadata": {
    "collapsed": true
   },
   "outputs": [],
   "source": [
    "from sklearn.model_selection import GridSearchCV\n",
    "parameters = {'vect__ngram_range': [(1, 1), (1, 2)], 'tfidf__use_idf': (True, False), \\\n",
    "              'clf-svm__solver': ['newton-cg', 'sag', 'saga']}\n",
    "\n",
    "gs_clf_maxEnt = GridSearchCV(text_clf_maxent, parameters, n_jobs=-1)\n",
    "gs_clf_maxEnt = gs_clf_maxEnt.fit(x_train, y_train)"
   ]
  },
  {
   "cell_type": "code",
   "execution_count": 89,
   "metadata": {},
   "outputs": [
    {
     "data": {
      "text/plain": [
       "{'clf-svm__solver': 'saga',\n",
       " 'tfidf__use_idf': True,\n",
       " 'vect__ngram_range': (1, 1)}"
      ]
     },
     "execution_count": 89,
     "metadata": {},
     "output_type": "execute_result"
    }
   ],
   "source": [
    "gs_clf_maxEnt.best_score_\n",
    "gs_clf_maxEnt.best_params_"
   ]
  },
  {
   "cell_type": "code",
   "execution_count": 91,
   "metadata": {},
   "outputs": [
    {
     "data": {
      "text/html": [
       "<div>\n",
       "<style scoped>\n",
       "    .dataframe tbody tr th:only-of-type {\n",
       "        vertical-align: middle;\n",
       "    }\n",
       "\n",
       "    .dataframe tbody tr th {\n",
       "        vertical-align: top;\n",
       "    }\n",
       "\n",
       "    .dataframe thead th {\n",
       "        text-align: right;\n",
       "    }\n",
       "</style>\n",
       "<table border=\"1\" class=\"dataframe\">\n",
       "  <thead>\n",
       "    <tr style=\"text-align: right;\">\n",
       "      <th></th>\n",
       "      <th>text</th>\n",
       "      <th>label</th>\n",
       "      <th>pred_svm</th>\n",
       "      <th>pred_NB</th>\n",
       "      <th>pred_MaxEnt</th>\n",
       "    </tr>\n",
       "  </thead>\n",
       "  <tbody>\n",
       "    <tr>\n",
       "      <th>2255</th>\n",
       "      <td>Bagaimana pun semua ini tidak akan memberikan rasa puas hati kepada saya dan akan terus bertekad untuk merancang pelbagai pembangunan pada masa ak...</td>\n",
       "      <td>Positive</td>\n",
       "      <td>Positive</td>\n",
       "      <td>Positive</td>\n",
       "      <td>Positive</td>\n",
       "    </tr>\n",
       "    <tr>\n",
       "      <th>1476</th>\n",
       "      <td>Jadi saya keluarkan memo</td>\n",
       "      <td>Positive</td>\n",
       "      <td>Positive</td>\n",
       "      <td>Positive</td>\n",
       "      <td>Positive</td>\n",
       "    </tr>\n",
       "    <tr>\n",
       "      <th>1044</th>\n",
       "      <td>Sekiranya pembiayaan ini mendapat sambutan yang tinggi, Bank Rakyat tidak menolak kemungkinan untuk menambah lagi jumlah peruntukan</td>\n",
       "      <td>Positive</td>\n",
       "      <td>Positive</td>\n",
       "      <td>Positive</td>\n",
       "      <td>Positive</td>\n",
       "    </tr>\n",
       "    <tr>\n",
       "      <th>1765</th>\n",
       "      <td>SPRM telah menahan seorang ‘pendedak’ yang tentunya mewakili Umno atau Pejabat Perdana Menteri (PMO) untuk sogok pemimpin dan ahli kami, antaranya...</td>\n",
       "      <td>Positive</td>\n",
       "      <td>Positive</td>\n",
       "      <td>Positive</td>\n",
       "      <td>Neutral</td>\n",
       "    </tr>\n",
       "    <tr>\n",
       "      <th>2376</th>\n",
       "      <td>Saya cabar pihak berkenaan untuk mengemukakan semua butiran terperinci, siapakah nama mereka dan nyatakan lokasi</td>\n",
       "      <td>Positive</td>\n",
       "      <td>Positive</td>\n",
       "      <td>Positive</td>\n",
       "      <td>Positive</td>\n",
       "    </tr>\n",
       "    <tr>\n",
       "      <th>2197</th>\n",
       "      <td>Para pelabur dan pasaran global hilang keyakinan terhadap kita dan kita mengambil masa yang lama untuk memenangi semula hati mereka</td>\n",
       "      <td>Negative</td>\n",
       "      <td>Positive</td>\n",
       "      <td>Positive</td>\n",
       "      <td>Positive</td>\n",
       "    </tr>\n",
       "    <tr>\n",
       "      <th>457</th>\n",
       "      <td>Siapa berhasrat mahu jadi calon, mesti ada kredibiliti dan sokongan padu rakyat, tidak kira dia penyandang atau tidak</td>\n",
       "      <td>Positive</td>\n",
       "      <td>Positive</td>\n",
       "      <td>Positive</td>\n",
       "      <td>Positive</td>\n",
       "    </tr>\n",
       "    <tr>\n",
       "      <th>1122</th>\n",
       "      <td>Kita perlu kembali kepada kerajaan yang telah terbukti kebolehannya membangunkan negara berbanding (kerajaan) sekarang</td>\n",
       "      <td>Positive</td>\n",
       "      <td>Positive</td>\n",
       "      <td>Positive</td>\n",
       "      <td>Positive</td>\n",
       "    </tr>\n",
       "    <tr>\n",
       "      <th>45</th>\n",
       "      <td>Mengapa kerajaan tidak bangkitkan isu ini?</td>\n",
       "      <td>Negative</td>\n",
       "      <td>Positive</td>\n",
       "      <td>Positive</td>\n",
       "      <td>Positive</td>\n",
       "    </tr>\n",
       "    <tr>\n",
       "      <th>1583</th>\n",
       "      <td>Jika kami berjaya tawan Putrajaya pada PRU14, kami akan cadangkan kepada PH untuk melantik Orang Asli sebagai timbalan menteri, dan Orang Asli men...</td>\n",
       "      <td>Positive</td>\n",
       "      <td>Positive</td>\n",
       "      <td>Positive</td>\n",
       "      <td>Positive</td>\n",
       "    </tr>\n",
       "  </tbody>\n",
       "</table>\n",
       "</div>"
      ],
      "text/plain": [
       "                                                                                                                                                       text  \\\n",
       "2255  Bagaimana pun semua ini tidak akan memberikan rasa puas hati kepada saya dan akan terus bertekad untuk merancang pelbagai pembangunan pada masa ak...   \n",
       "1476                                                                                                                               Jadi saya keluarkan memo   \n",
       "1044                    Sekiranya pembiayaan ini mendapat sambutan yang tinggi, Bank Rakyat tidak menolak kemungkinan untuk menambah lagi jumlah peruntukan   \n",
       "1765  SPRM telah menahan seorang ‘pendedak’ yang tentunya mewakili Umno atau Pejabat Perdana Menteri (PMO) untuk sogok pemimpin dan ahli kami, antaranya...   \n",
       "2376                                       Saya cabar pihak berkenaan untuk mengemukakan semua butiran terperinci, siapakah nama mereka dan nyatakan lokasi   \n",
       "2197                    Para pelabur dan pasaran global hilang keyakinan terhadap kita dan kita mengambil masa yang lama untuk memenangi semula hati mereka   \n",
       "457                                   Siapa berhasrat mahu jadi calon, mesti ada kredibiliti dan sokongan padu rakyat, tidak kira dia penyandang atau tidak   \n",
       "1122                                 Kita perlu kembali kepada kerajaan yang telah terbukti kebolehannya membangunkan negara berbanding (kerajaan) sekarang   \n",
       "45                                                                                                               Mengapa kerajaan tidak bangkitkan isu ini?   \n",
       "1583  Jika kami berjaya tawan Putrajaya pada PRU14, kami akan cadangkan kepada PH untuk melantik Orang Asli sebagai timbalan menteri, dan Orang Asli men...   \n",
       "\n",
       "         label  pred_svm   pred_NB pred_MaxEnt  \n",
       "2255  Positive  Positive  Positive    Positive  \n",
       "1476  Positive  Positive  Positive    Positive  \n",
       "1044  Positive  Positive  Positive    Positive  \n",
       "1765  Positive  Positive  Positive     Neutral  \n",
       "2376  Positive  Positive  Positive    Positive  \n",
       "2197  Negative  Positive  Positive    Positive  \n",
       "457   Positive  Positive  Positive    Positive  \n",
       "1122  Positive  Positive  Positive    Positive  \n",
       "45    Negative  Positive  Positive    Positive  \n",
       "1583  Positive  Positive  Positive    Positive  "
      ]
     },
     "execution_count": 91,
     "metadata": {},
     "output_type": "execute_result"
    }
   ],
   "source": [
    "test_data = test_data.assign(pred_MaxEnt = predicted_maxent)\n",
    "test_data.head(10)"
   ]
  },
  {
   "cell_type": "markdown",
   "metadata": {},
   "source": [
    "## Current Score\n",
    "\n",
    "### NB = 0.58536585365853655\n",
    "\n",
    "### SVM = 0.60027100271002709\n",
    "\n",
    "### MaxEnt = 0.62330623306233057\n",
    "\n",
    "### MaxEnt (after GridSearchCV) = 0.62330623306233057\n",
    "\n",
    "### Random Forest = 0.56368563685636852"
   ]
  },
  {
   "cell_type": "code",
   "execution_count": 92,
   "metadata": {},
   "outputs": [
    {
     "data": {
      "text/plain": [
       "0.58279009126466752"
      ]
     },
     "execution_count": 92,
     "metadata": {},
     "output_type": "execute_result"
    }
   ],
   "source": [
    "from sklearn.ensemble import RandomForestClassifier\n",
    "stop_words=frozenset(stopword2)\n",
    "text_clf_rdmFst = Pipeline([('vect', CountVectorizer(stop_words=stop_words)), ('tfidf', TfidfTransformer()),\n",
    "                         ('clf-svm', RandomForestClassifier(n_estimators=500, oob_score=False))])\n",
    "\n",
    "text_clf_rdmFst = text_clf_rdmFst.fit(x_train, y_train)\n",
    "predicted_rdmFst = text_clf_rdmFst.predict(x_test)\n",
    "np.mean(predicted_rdmFst == y_test)"
   ]
  },
  {
   "cell_type": "code",
   "execution_count": 93,
   "metadata": {},
   "outputs": [
    {
     "name": "stdout",
     "output_type": "stream",
     "text": [
      "             precision    recall  f1-score   support\n",
      "\n",
      "   Negative       0.41      0.32      0.36       192\n",
      "    Neutral       0.57      0.26      0.36       150\n",
      "   Positive       0.63      0.81      0.71       425\n",
      "\n",
      "avg / total       0.56      0.58      0.55       767\n",
      "\n"
     ]
    }
   ],
   "source": [
    "print(classification_report(y_test, predicted_rdmFst ))"
   ]
  },
  {
   "cell_type": "code",
   "execution_count": 94,
   "metadata": {},
   "outputs": [
    {
     "data": {
      "text/html": [
       "<div>\n",
       "<style scoped>\n",
       "    .dataframe tbody tr th:only-of-type {\n",
       "        vertical-align: middle;\n",
       "    }\n",
       "\n",
       "    .dataframe tbody tr th {\n",
       "        vertical-align: top;\n",
       "    }\n",
       "\n",
       "    .dataframe thead th {\n",
       "        text-align: right;\n",
       "    }\n",
       "</style>\n",
       "<table border=\"1\" class=\"dataframe\">\n",
       "  <thead>\n",
       "    <tr style=\"text-align: right;\">\n",
       "      <th></th>\n",
       "      <th>text</th>\n",
       "      <th>label</th>\n",
       "      <th>pred_svm</th>\n",
       "      <th>pred_NB</th>\n",
       "      <th>pred_MaxEnt</th>\n",
       "      <th>pred_RdmFst</th>\n",
       "    </tr>\n",
       "  </thead>\n",
       "  <tbody>\n",
       "    <tr>\n",
       "      <th>2255</th>\n",
       "      <td>Bagaimana pun semua ini tidak akan memberikan rasa puas hati kepada saya dan akan terus bertekad untuk merancang pelbagai pembangunan pada masa ak...</td>\n",
       "      <td>Positive</td>\n",
       "      <td>Positive</td>\n",
       "      <td>Positive</td>\n",
       "      <td>Positive</td>\n",
       "      <td>Positive</td>\n",
       "    </tr>\n",
       "    <tr>\n",
       "      <th>1476</th>\n",
       "      <td>Jadi saya keluarkan memo</td>\n",
       "      <td>Positive</td>\n",
       "      <td>Positive</td>\n",
       "      <td>Positive</td>\n",
       "      <td>Positive</td>\n",
       "      <td>Negative</td>\n",
       "    </tr>\n",
       "    <tr>\n",
       "      <th>1044</th>\n",
       "      <td>Sekiranya pembiayaan ini mendapat sambutan yang tinggi, Bank Rakyat tidak menolak kemungkinan untuk menambah lagi jumlah peruntukan</td>\n",
       "      <td>Positive</td>\n",
       "      <td>Positive</td>\n",
       "      <td>Positive</td>\n",
       "      <td>Positive</td>\n",
       "      <td>Positive</td>\n",
       "    </tr>\n",
       "    <tr>\n",
       "      <th>1765</th>\n",
       "      <td>SPRM telah menahan seorang ‘pendedak’ yang tentunya mewakili Umno atau Pejabat Perdana Menteri (PMO) untuk sogok pemimpin dan ahli kami, antaranya...</td>\n",
       "      <td>Positive</td>\n",
       "      <td>Positive</td>\n",
       "      <td>Positive</td>\n",
       "      <td>Neutral</td>\n",
       "      <td>Positive</td>\n",
       "    </tr>\n",
       "    <tr>\n",
       "      <th>2376</th>\n",
       "      <td>Saya cabar pihak berkenaan untuk mengemukakan semua butiran terperinci, siapakah nama mereka dan nyatakan lokasi</td>\n",
       "      <td>Positive</td>\n",
       "      <td>Positive</td>\n",
       "      <td>Positive</td>\n",
       "      <td>Positive</td>\n",
       "      <td>Neutral</td>\n",
       "    </tr>\n",
       "    <tr>\n",
       "      <th>2197</th>\n",
       "      <td>Para pelabur dan pasaran global hilang keyakinan terhadap kita dan kita mengambil masa yang lama untuk memenangi semula hati mereka</td>\n",
       "      <td>Negative</td>\n",
       "      <td>Positive</td>\n",
       "      <td>Positive</td>\n",
       "      <td>Positive</td>\n",
       "      <td>Positive</td>\n",
       "    </tr>\n",
       "    <tr>\n",
       "      <th>457</th>\n",
       "      <td>Siapa berhasrat mahu jadi calon, mesti ada kredibiliti dan sokongan padu rakyat, tidak kira dia penyandang atau tidak</td>\n",
       "      <td>Positive</td>\n",
       "      <td>Positive</td>\n",
       "      <td>Positive</td>\n",
       "      <td>Positive</td>\n",
       "      <td>Positive</td>\n",
       "    </tr>\n",
       "    <tr>\n",
       "      <th>1122</th>\n",
       "      <td>Kita perlu kembali kepada kerajaan yang telah terbukti kebolehannya membangunkan negara berbanding (kerajaan) sekarang</td>\n",
       "      <td>Positive</td>\n",
       "      <td>Positive</td>\n",
       "      <td>Positive</td>\n",
       "      <td>Positive</td>\n",
       "      <td>Positive</td>\n",
       "    </tr>\n",
       "    <tr>\n",
       "      <th>45</th>\n",
       "      <td>Mengapa kerajaan tidak bangkitkan isu ini?</td>\n",
       "      <td>Negative</td>\n",
       "      <td>Positive</td>\n",
       "      <td>Positive</td>\n",
       "      <td>Positive</td>\n",
       "      <td>Positive</td>\n",
       "    </tr>\n",
       "    <tr>\n",
       "      <th>1583</th>\n",
       "      <td>Jika kami berjaya tawan Putrajaya pada PRU14, kami akan cadangkan kepada PH untuk melantik Orang Asli sebagai timbalan menteri, dan Orang Asli men...</td>\n",
       "      <td>Positive</td>\n",
       "      <td>Positive</td>\n",
       "      <td>Positive</td>\n",
       "      <td>Positive</td>\n",
       "      <td>Positive</td>\n",
       "    </tr>\n",
       "  </tbody>\n",
       "</table>\n",
       "</div>"
      ],
      "text/plain": [
       "                                                                                                                                                       text  \\\n",
       "2255  Bagaimana pun semua ini tidak akan memberikan rasa puas hati kepada saya dan akan terus bertekad untuk merancang pelbagai pembangunan pada masa ak...   \n",
       "1476                                                                                                                               Jadi saya keluarkan memo   \n",
       "1044                    Sekiranya pembiayaan ini mendapat sambutan yang tinggi, Bank Rakyat tidak menolak kemungkinan untuk menambah lagi jumlah peruntukan   \n",
       "1765  SPRM telah menahan seorang ‘pendedak’ yang tentunya mewakili Umno atau Pejabat Perdana Menteri (PMO) untuk sogok pemimpin dan ahli kami, antaranya...   \n",
       "2376                                       Saya cabar pihak berkenaan untuk mengemukakan semua butiran terperinci, siapakah nama mereka dan nyatakan lokasi   \n",
       "2197                    Para pelabur dan pasaran global hilang keyakinan terhadap kita dan kita mengambil masa yang lama untuk memenangi semula hati mereka   \n",
       "457                                   Siapa berhasrat mahu jadi calon, mesti ada kredibiliti dan sokongan padu rakyat, tidak kira dia penyandang atau tidak   \n",
       "1122                                 Kita perlu kembali kepada kerajaan yang telah terbukti kebolehannya membangunkan negara berbanding (kerajaan) sekarang   \n",
       "45                                                                                                               Mengapa kerajaan tidak bangkitkan isu ini?   \n",
       "1583  Jika kami berjaya tawan Putrajaya pada PRU14, kami akan cadangkan kepada PH untuk melantik Orang Asli sebagai timbalan menteri, dan Orang Asli men...   \n",
       "\n",
       "         label  pred_svm   pred_NB pred_MaxEnt pred_RdmFst  \n",
       "2255  Positive  Positive  Positive    Positive    Positive  \n",
       "1476  Positive  Positive  Positive    Positive    Negative  \n",
       "1044  Positive  Positive  Positive    Positive    Positive  \n",
       "1765  Positive  Positive  Positive     Neutral    Positive  \n",
       "2376  Positive  Positive  Positive    Positive     Neutral  \n",
       "2197  Negative  Positive  Positive    Positive    Positive  \n",
       "457   Positive  Positive  Positive    Positive    Positive  \n",
       "1122  Positive  Positive  Positive    Positive    Positive  \n",
       "45    Negative  Positive  Positive    Positive    Positive  \n",
       "1583  Positive  Positive  Positive    Positive    Positive  "
      ]
     },
     "execution_count": 94,
     "metadata": {},
     "output_type": "execute_result"
    }
   ],
   "source": [
    "test_data = test_data.assign(pred_RdmFst = predicted_rdmFst)\n",
    "test_data.head(10)"
   ]
  },
  {
   "cell_type": "code",
   "execution_count": 95,
   "metadata": {},
   "outputs": [
    {
     "data": {
      "text/plain": [
       "0.27249022164276404"
      ]
     },
     "execution_count": 95,
     "metadata": {},
     "output_type": "execute_result"
    }
   ],
   "source": [
    "from sklearn.neighbors import KNeighborsClassifier\n",
    "stop_words=frozenset(stopword2)\n",
    "text_clf_knn = Pipeline([('vect', CountVectorizer(stop_words=stop_words)), ('tfidf', TfidfTransformer()),\n",
    "                         ('clf-knn', KNeighborsClassifier(n_jobs=-1))])\n",
    "\n",
    "text_clf_knn = text_clf_knn.fit(x_train, y_train)\n",
    "predicted_knn = text_clf_knn.predict(x_test)\n",
    "np.mean(predicted_knn == y_test)"
   ]
  },
  {
   "cell_type": "code",
   "execution_count": 96,
   "metadata": {},
   "outputs": [
    {
     "name": "stdout",
     "output_type": "stream",
     "text": [
      "             precision    recall  f1-score   support\n",
      "\n",
      "   Negative       0.26      0.94      0.41       192\n",
      "    Neutral       0.42      0.19      0.26       150\n",
      "   Positive       0.00      0.00      0.00       425\n",
      "\n",
      "avg / total       0.15      0.27      0.15       767\n",
      "\n"
     ]
    },
    {
     "name": "stderr",
     "output_type": "stream",
     "text": [
      "C:\\Program Files\\Anaconda3\\lib\\site-packages\\sklearn\\metrics\\classification.py:1135: UndefinedMetricWarning: Precision and F-score are ill-defined and being set to 0.0 in labels with no predicted samples.\n",
      "  'precision', 'predicted', average, warn_for)\n"
     ]
    }
   ],
   "source": [
    "print(classification_report(y_test, predicted_knn ))"
   ]
  },
  {
   "cell_type": "code",
   "execution_count": null,
   "metadata": {
    "collapsed": true
   },
   "outputs": [],
   "source": []
  }
 ],
 "metadata": {
  "kernelspec": {
   "display_name": "Python [default]",
   "language": "python",
   "name": "python3"
  },
  "language_info": {
   "codemirror_mode": {
    "name": "ipython",
    "version": 3
   },
   "file_extension": ".py",
   "mimetype": "text/x-python",
   "name": "python",
   "nbconvert_exporter": "python",
   "pygments_lexer": "ipython3",
   "version": "3.5.3"
  }
 },
 "nbformat": 4,
 "nbformat_minor": 2
}
