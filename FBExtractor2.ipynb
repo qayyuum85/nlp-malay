{
 "cells": [
  {
   "cell_type": "code",
   "execution_count": 1,
   "metadata": {
    "collapsed": true
   },
   "outputs": [],
   "source": [
    "import urllib.request as rq\n",
    "from bs4 import BeautifulSoup\n",
    "import numpy as np\n",
    "import pandas as pd\n",
    "import sys,regex as rgx,json, time\n",
    "import pprint\n",
    "\n",
    "class FBImporter:\n",
    "    'Importing comments based on Facebook User'\n",
    "    fbPrefixUrl = r'https://graph.facebook.com/v2.12/'\n",
    "    fbCommentUrl = r'/comments?fields=message%2Cmessage_tags%2Ccreated_time%2Ccomment_count%2Cid'\n",
    "    fbPostsUrl = r'/posts?'\n",
    "\n",
    "    def __init__(self , pageUrl, access_token):\n",
    "        self.pageUrl = pageUrl\n",
    "        self.access_token = '&access_token=' + access_token\n",
    "\n",
    "    def createPostURL(self):\n",
    "        url = self.fbPrefixUrl + self.entityId + self.fbPostsUrl + self.access_token\n",
    "        return url\n",
    "\n",
    "    def createCommentURL(self, post_id):\n",
    "        url = self.fbPrefixUrl + post_id + self.fbCommentUrl + self.access_token\n",
    "        return url\n",
    "\n",
    "    def setGroupId(self):\n",
    "        \"\"\"Get Facebook group id based on group link\"\"\"\n",
    "        response = rq.urlopen(self.pageUrl)\n",
    "        if response.getcode() == 200:\n",
    "            html = response.read()\n",
    "            soup = BeautifulSoup(html, 'html.parser')\n",
    "            scripts = soup.find_all('script')\n",
    "            rgxSearch = rgx.compile(r'entity_id(?:\\'|\"):(?:\\'|\")([\\d]+)(?:\\'|\")')\n",
    "            entityIds = [rgxSearch.search(x.text).group(1) for x in scripts if rgxSearch.search(x.text) is not None]\n",
    "            self.entityId = entityIds[0]\n",
    "            print(self.entityId)\n",
    "        else:\n",
    "            self.entityId = \"\"\n",
    "\n",
    "    def getPostList(self):\n",
    "        postUrl = self.createPostURL()\n",
    "        print(postUrl)\n",
    "        result = self.getItemPerPage(postUrl)\n",
    "        return result\n",
    "\n",
    "    def getCommentList(self, post_id):\n",
    "        comment_url = self.createCommentURL(post_id)\n",
    "        result = self.getItemPerPage(comment_url)\n",
    "        return result\n",
    "\n",
    "    def getItemPerPage(self, url, include_sub = False):\n",
    "        \"\"\"Import data from Facebook according to the Graph API URL\"\"\"\n",
    "        next_link = None\n",
    "        response_comment = rq.urlopen(url)\n",
    "        if response_comment.getcode() == 200:\n",
    "            decoded_json_comment = json.loads(response_comment.read().decode('utf-8'))\n",
    "            if 'error' in decoded_json_comment:\n",
    "                return None\n",
    "            else:\n",
    "                data = decoded_json_comment['data']                \n",
    "                if 'paging' in decoded_json_comment and 'next' in decoded_json_comment['paging']:\n",
    "                    next_link = decoded_json_comment['paging']['next']\n",
    "                return (data, next_link)\n",
    "        return None\n",
    "\n",
    "    def getAllItems(self, start_url, item_type='post'):\n",
    "        all_comments = []\n",
    "        current_comments, next_link = self.getItemPerPage(start_url)\n",
    "        all_comments += current_comments\n",
    "        while next_link is not None:\n",
    "            time.sleep(2)\n",
    "            result = self.getItemPerPage(next_link)\n",
    "            if result == None:\n",
    "                next_link = None\n",
    "                break\n",
    "                \n",
    "            current_comments, next_link = result    \n",
    "            all_comments += current_comments\n",
    "        \n",
    "        # If comments, need to alter the result\n",
    "        if item_type == 'comment':\n",
    "            for comment in all_comments:\n",
    "                comment['parent_id'] = comment['id']\n",
    "                if 'message_tags' in comment:\n",
    "                    msg, names = self.removetaggedName(comment['message'], comment['message_tags'])\n",
    "                    comment['message'] = msg\n",
    "                    comment['tagged_names'] = names\n",
    "                    comment.pop('message_tags', None) ##remove tag information\n",
    "                else:\n",
    "                    msg = comment['message']\n",
    "                    \n",
    "        return all_comments\n",
    "    \n",
    "    def getSubItems(self, record_array):\n",
    "        sub_array = []\n",
    "        for item in record_array:\n",
    "            if item['comment_count'] > 0:\n",
    "                url = self.createCommentURL(item['id'])\n",
    "                current_sub = self.getAllItems(url, item_type='comment')\n",
    "                \n",
    "                #save parent_id for reference             \n",
    "                for current_sub_item in current_sub:\n",
    "                    current_sub_item['parent_id'] = item['id'] \n",
    "                \n",
    "                sub_array += current_sub  \n",
    "                    \n",
    "        return sub_array\n",
    "    \n",
    "    def removetaggedName(self, text, tags):\n",
    "        names = '|'.join([ x['name'] for x in tags])\n",
    "        msg_wo_name = rgx.sub(names, '', text).strip()\n",
    "        return msg_wo_name, names\n",
    "\n",
    "    def convertToWords(self, series):\n",
    "        all_set=set([])\n",
    "        for curr_tuple in series.iteritems():\n",
    "            curr_line = rgx.sub(r'[\\.]+', ' ', curr_tuple[1].lower())\n",
    "            clean_line = curr_line.split(' ')\n",
    "            all_set = all_set.union(set(clean_line))\n",
    "\n",
    "        return pd.Series(list(all_set))"
   ]
  },
  {
   "cell_type": "code",
   "execution_count": 15,
   "metadata": {
    "scrolled": false
   },
   "outputs": [
    {
     "name": "stdout",
     "output_type": "stream",
     "text": [
      "242409295818219\n",
      "https://graph.facebook.com/v2.12/242409295818219/posts?&access_token=EAACEdEose0cBAJss0WC82ZB07ZB2UdpakxUevu1ZBhEVX7TnWJKmqcUdZC8A6RJijDy4q1ry7Fjh6UZCzohDc12lohyoc9s1aV4KzJAiBxBQ1ObDDFQ61HionmgSfrUMpswO2KSYOGPtVLcZCWe97L5jJmzZBBGeK8mHsQ7rZAxipCfx246l5oxcc0tMFCxPuOTvKCkBjm4IpwZDZD\n"
     ]
    }
   ],
   "source": [
    "fb = FBImporter(r'https://www.facebook.com/menatesteakhub/', r'EAACEdEose0cBAJss0WC82ZB07ZB2UdpakxUevu1ZBhEVX7TnWJKmqcUdZC8A6RJijDy4q1ry7Fjh6UZCzohDc12lohyoc9s1aV4KzJAiBxBQ1ObDDFQ61HionmgSfrUMpswO2KSYOGPtVLcZCWe97L5jJmzZBBGeK8mHsQ7rZAxipCfx246l5oxcc0tMFCxPuOTvKCkBjm4IpwZDZD')\n",
    "fb.setGroupId()\n",
    "test = fb.getPostList()\n",
    "ids = [ x['id'] for x in test[0] ]"
   ]
  },
  {
   "cell_type": "code",
   "execution_count": 16,
   "metadata": {},
   "outputs": [
    {
     "data": {
      "text/plain": [
       "'https://graph.facebook.com/v2.12/242409295818219_1801246449934488/comments?fields=message%2Cmessage_tags%2Ccreated_time%2Ccomment_count%2Cid&access_token=EAACEdEose0cBAJss0WC82ZB07ZB2UdpakxUevu1ZBhEVX7TnWJKmqcUdZC8A6RJijDy4q1ry7Fjh6UZCzohDc12lohyoc9s1aV4KzJAiBxBQ1ObDDFQ61HionmgSfrUMpswO2KSYOGPtVLcZCWe97L5jJmzZBBGeK8mHsQ7rZAxipCfx246l5oxcc0tMFCxPuOTvKCkBjm4IpwZDZD'"
      ]
     },
     "execution_count": 16,
     "metadata": {},
     "output_type": "execute_result"
    }
   ],
   "source": [
    "comment_url = fb.createCommentURL('242409295818219_1801246449934488')\n",
    "comment_url"
   ]
  },
  {
   "cell_type": "code",
   "execution_count": 17,
   "metadata": {
    "collapsed": true
   },
   "outputs": [],
   "source": [
    "arr = fb.getAllItems(comment_url, item_type='comment')\n",
    "dfx = pd.DataFrame(arr)"
   ]
  },
  {
   "cell_type": "code",
   "execution_count": 18,
   "metadata": {},
   "outputs": [
    {
     "data": {
      "text/html": [
       "<div>\n",
       "<style scoped>\n",
       "    .dataframe tbody tr th:only-of-type {\n",
       "        vertical-align: middle;\n",
       "    }\n",
       "\n",
       "    .dataframe tbody tr th {\n",
       "        vertical-align: top;\n",
       "    }\n",
       "\n",
       "    .dataframe thead th {\n",
       "        text-align: right;\n",
       "    }\n",
       "</style>\n",
       "<table border=\"1\" class=\"dataframe\">\n",
       "  <thead>\n",
       "    <tr style=\"text-align: right;\">\n",
       "      <th></th>\n",
       "      <th>comment_count</th>\n",
       "      <th>created_time</th>\n",
       "      <th>id</th>\n",
       "      <th>message</th>\n",
       "      <th>parent_id</th>\n",
       "      <th>tagged_names</th>\n",
       "    </tr>\n",
       "  </thead>\n",
       "  <tbody>\n",
       "    <tr>\n",
       "      <th>0</th>\n",
       "      <td>7</td>\n",
       "      <td>2018-05-24T14:33:44+0000</td>\n",
       "      <td>1801246449934488_173808776616717</td>\n",
       "      <td>Alhamdulillah... hari ini berpeluang berbuka b...</td>\n",
       "      <td>1801246449934488_173808776616717</td>\n",
       "      <td>NaN</td>\n",
       "    </tr>\n",
       "    <tr>\n",
       "      <th>1</th>\n",
       "      <td>3</td>\n",
       "      <td>2018-05-20T12:13:22+0000</td>\n",
       "      <td>1801246449934488_1993896347288475</td>\n",
       "      <td>Recommended 👍 Macam² pilihan ada especially we...</td>\n",
       "      <td>1801246449934488_1993896347288475</td>\n",
       "      <td>NaN</td>\n",
       "    </tr>\n",
       "    <tr>\n",
       "      <th>2</th>\n",
       "      <td>8</td>\n",
       "      <td>2018-05-17T13:39:50+0000</td>\n",
       "      <td>1801246449934488_1807619769297156</td>\n",
       "      <td>Baby below 2 years kene charge jugak ke?</td>\n",
       "      <td>1801246449934488_1807619769297156</td>\n",
       "      <td>NaN</td>\n",
       "    </tr>\n",
       "    <tr>\n",
       "      <th>3</th>\n",
       "      <td>2</td>\n",
       "      <td>2018-05-21T11:01:56+0000</td>\n",
       "      <td>1801246449934488_229417101157961</td>\n",
       "      <td>Nak kena booking or boleh walk in terus</td>\n",
       "      <td>1801246449934488_229417101157961</td>\n",
       "      <td>NaN</td>\n",
       "    </tr>\n",
       "    <tr>\n",
       "      <th>4</th>\n",
       "      <td>2</td>\n",
       "      <td>2018-05-20T13:47:00+0000</td>\n",
       "      <td>1801246449934488_617377048614914</td>\n",
       "      <td>Seorang boleh tak? Atau seorang tidak dibenark...</td>\n",
       "      <td>1801246449934488_617377048614914</td>\n",
       "      <td>NaN</td>\n",
       "    </tr>\n",
       "    <tr>\n",
       "      <th>5</th>\n",
       "      <td>3</td>\n",
       "      <td>2018-05-20T03:46:02+0000</td>\n",
       "      <td>1801246449934488_1715180305233788</td>\n",
       "      <td>Ada tempat untuk solat di Cawangan Bangi?</td>\n",
       "      <td>1801246449934488_1715180305233788</td>\n",
       "      <td>NaN</td>\n",
       "    </tr>\n",
       "    <tr>\n",
       "      <th>6</th>\n",
       "      <td>3</td>\n",
       "      <td>2018-05-22T04:52:48+0000</td>\n",
       "      <td>1801246449934488_174392336601122</td>\n",
       "      <td>Tmpt solat cawangan setapak ada?</td>\n",
       "      <td>1801246449934488_174392336601122</td>\n",
       "      <td>NaN</td>\n",
       "    </tr>\n",
       "    <tr>\n",
       "      <th>7</th>\n",
       "      <td>3</td>\n",
       "      <td>2018-05-13T03:54:55+0000</td>\n",
       "      <td>1801246449934488_1803119599747173</td>\n",
       "      <td>Kalau gi sorang2 boleh ke?</td>\n",
       "      <td>1801246449934488_1803119599747173</td>\n",
       "      <td>NaN</td>\n",
       "    </tr>\n",
       "    <tr>\n",
       "      <th>8</th>\n",
       "      <td>1</td>\n",
       "      <td>2018-05-21T12:04:26+0000</td>\n",
       "      <td>1801246449934488_225612748202444</td>\n",
       "      <td>Dah pi Ahad lepas. Makanan sedap. Terbaik</td>\n",
       "      <td>1801246449934488_225612748202444</td>\n",
       "      <td>NaN</td>\n",
       "    </tr>\n",
       "    <tr>\n",
       "      <th>9</th>\n",
       "      <td>15</td>\n",
       "      <td>2018-05-12T06:37:20+0000</td>\n",
       "      <td>1801246449934488_1802088483183618</td>\n",
       "      <td>Ada ruangan khas untuk sembahyang tarawikh tak...</td>\n",
       "      <td>1801246449934488_1802088483183618</td>\n",
       "      <td>NaN</td>\n",
       "    </tr>\n",
       "  </tbody>\n",
       "</table>\n",
       "</div>"
      ],
      "text/plain": [
       "   comment_count              created_time                                 id  \\\n",
       "0              7  2018-05-24T14:33:44+0000   1801246449934488_173808776616717   \n",
       "1              3  2018-05-20T12:13:22+0000  1801246449934488_1993896347288475   \n",
       "2              8  2018-05-17T13:39:50+0000  1801246449934488_1807619769297156   \n",
       "3              2  2018-05-21T11:01:56+0000   1801246449934488_229417101157961   \n",
       "4              2  2018-05-20T13:47:00+0000   1801246449934488_617377048614914   \n",
       "5              3  2018-05-20T03:46:02+0000  1801246449934488_1715180305233788   \n",
       "6              3  2018-05-22T04:52:48+0000   1801246449934488_174392336601122   \n",
       "7              3  2018-05-13T03:54:55+0000  1801246449934488_1803119599747173   \n",
       "8              1  2018-05-21T12:04:26+0000   1801246449934488_225612748202444   \n",
       "9             15  2018-05-12T06:37:20+0000  1801246449934488_1802088483183618   \n",
       "\n",
       "                                             message  \\\n",
       "0  Alhamdulillah... hari ini berpeluang berbuka b...   \n",
       "1  Recommended 👍 Macam² pilihan ada especially we...   \n",
       "2           Baby below 2 years kene charge jugak ke?   \n",
       "3            Nak kena booking or boleh walk in terus   \n",
       "4  Seorang boleh tak? Atau seorang tidak dibenark...   \n",
       "5          Ada tempat untuk solat di Cawangan Bangi?   \n",
       "6                   Tmpt solat cawangan setapak ada?   \n",
       "7                         Kalau gi sorang2 boleh ke?   \n",
       "8          Dah pi Ahad lepas. Makanan sedap. Terbaik   \n",
       "9  Ada ruangan khas untuk sembahyang tarawikh tak...   \n",
       "\n",
       "                           parent_id tagged_names  \n",
       "0   1801246449934488_173808776616717          NaN  \n",
       "1  1801246449934488_1993896347288475          NaN  \n",
       "2  1801246449934488_1807619769297156          NaN  \n",
       "3   1801246449934488_229417101157961          NaN  \n",
       "4   1801246449934488_617377048614914          NaN  \n",
       "5  1801246449934488_1715180305233788          NaN  \n",
       "6   1801246449934488_174392336601122          NaN  \n",
       "7  1801246449934488_1803119599747173          NaN  \n",
       "8   1801246449934488_225612748202444          NaN  \n",
       "9  1801246449934488_1802088483183618          NaN  "
      ]
     },
     "execution_count": 18,
     "metadata": {},
     "output_type": "execute_result"
    }
   ],
   "source": [
    "dfx.head(10)"
   ]
  },
  {
   "cell_type": "code",
   "execution_count": 19,
   "metadata": {},
   "outputs": [
    {
     "data": {
      "text/plain": [
       "(763, 6)"
      ]
     },
     "execution_count": 19,
     "metadata": {},
     "output_type": "execute_result"
    }
   ],
   "source": [
    "dfx.shape"
   ]
  },
  {
   "cell_type": "code",
   "execution_count": 7,
   "metadata": {
    "collapsed": true
   },
   "outputs": [],
   "source": [
    "dfx.to_csv('D:\\Qayyuum\\menate_buka_puasa4.csv')"
   ]
  },
  {
   "cell_type": "code",
   "execution_count": 8,
   "metadata": {},
   "outputs": [
    {
     "data": {
      "text/plain": [
       "'1801246449934488_173808776616717'"
      ]
     },
     "execution_count": 8,
     "metadata": {},
     "output_type": "execute_result"
    }
   ],
   "source": [
    "dfx.id[0]"
   ]
  },
  {
   "cell_type": "code",
   "execution_count": 9,
   "metadata": {},
   "outputs": [
    {
     "data": {
      "text/plain": [
       "'https://graph.facebook.com/v2.12/1801246449934488_173808776616717/comments?fields=message%2Cmessage_tags%2Ccreated_time%2Ccomment_count%2Cid&access_token=EAACEdEose0cBAJss0WC82ZB07ZB2UdpakxUevu1ZBhEVX7TnWJKmqcUdZC8A6RJijDy4q1ry7Fjh6UZCzohDc12lohyoc9s1aV4KzJAiBxBQ1ObDDFQ61HionmgSfrUMpswO2KSYOGPtVLcZCWe97L5jJmzZBBGeK8mHsQ7rZAxipCfx246l5oxcc0tMFCxPuOTvKCkBjm4IpwZDZD'"
      ]
     },
     "execution_count": 9,
     "metadata": {},
     "output_type": "execute_result"
    }
   ],
   "source": [
    "fb.createCommentURL(dfx.id[0])"
   ]
  },
  {
   "cell_type": "code",
   "execution_count": 10,
   "metadata": {
    "collapsed": true
   },
   "outputs": [],
   "source": [
    "current_sub = fb.getAllItems(fb.createCommentURL(dfx.id[0]), item_type='comment')"
   ]
  },
  {
   "cell_type": "code",
   "execution_count": 11,
   "metadata": {
    "scrolled": true
   },
   "outputs": [
    {
     "data": {
      "text/plain": [
       "[{'comment_count': 0,\n",
       "  'created_time': '2018-05-25T02:09:37+0000',\n",
       "  'id': '1801246449934488_1950494531928859',\n",
       "  'message': 'Terima kasih  . Jemput datang lagi :)',\n",
       "  'parent_id': '1801246449934488_1950494531928859',\n",
       "  'tagged_names': 'Hayati Yatt'},\n",
       " {'comment_count': 0,\n",
       "  'created_time': '2018-05-25T06:35:55+0000',\n",
       "  'id': '1801246449934488_2062756094045024',\n",
       "  'message': 'Ruang solat besar ker??',\n",
       "  'parent_id': '1801246449934488_2062756094045024'},\n",
       " {'comment_count': 0,\n",
       "  'created_time': '2018-05-25T06:39:00+0000',\n",
       "  'id': '1801246449934488_1285185234958592',\n",
       "  'message': 'ye selesaaaaaa',\n",
       "  'parent_id': '1801246449934488_1285185234958592',\n",
       "  'tagged_names': 'Amy Lia'},\n",
       " {'comment_count': 0,\n",
       "  'created_time': '2018-05-25T06:40:03+0000',\n",
       "  'id': '1801246449934488_1285185688291880',\n",
       "  'message': 'selalu mesti org akan serbu surau kn lg2 maghrib pendek..kalau sy bw mak yg solat duduk ok ker',\n",
       "  'parent_id': '1801246449934488_1285185688291880',\n",
       "  'tagged_names': 'Hayati Yatt'},\n",
       " {'comment_count': 0,\n",
       "  'created_time': '2018-05-25T06:41:14+0000',\n",
       "  'id': '1801246449934488_2062758627378104',\n",
       "  'message': 'bole.... sgt2 bole sis...',\n",
       "  'parent_id': '1801246449934488_2062758627378104',\n",
       "  'tagged_names': 'Amy Lia'},\n",
       " {'comment_count': 0,\n",
       "  'created_time': '2018-05-25T06:41:34+0000',\n",
       "  'id': '1801246449934488_2062758737378093',\n",
       "  'message': 'Saya pon solat duduk',\n",
       "  'parent_id': '1801246449934488_2062758737378093'},\n",
       " {'comment_count': 0,\n",
       "  'created_time': '2018-05-25T06:42:03+0000',\n",
       "  'id': '1801246449934488_1437658463046695',\n",
       "  'message': 'ooo ok2 tq..',\n",
       "  'parent_id': '1801246449934488_1437658463046695',\n",
       "  'tagged_names': 'Hayati Yatt'}]"
      ]
     },
     "execution_count": 11,
     "metadata": {},
     "output_type": "execute_result"
    }
   ],
   "source": [
    "current_sub"
   ]
  },
  {
   "cell_type": "code",
   "execution_count": 13,
   "metadata": {
    "scrolled": false
   },
   "outputs": [
    {
     "data": {
      "text/plain": [
       "[{'comment_count': 0,\n",
       "  'created_time': '2018-05-25T02:09:37+0000',\n",
       "  'id': '1801246449934488_1950494531928859',\n",
       "  'message': 'Terima kasih  . Jemput datang lagi :)',\n",
       "  'parent_id': '1801246449934488_173808776616717',\n",
       "  'tagged_names': 'Hayati Yatt'},\n",
       " {'comment_count': 0,\n",
       "  'created_time': '2018-05-25T06:35:55+0000',\n",
       "  'id': '1801246449934488_2062756094045024',\n",
       "  'message': 'Ruang solat besar ker??',\n",
       "  'parent_id': '1801246449934488_173808776616717'},\n",
       " {'comment_count': 0,\n",
       "  'created_time': '2018-05-25T06:39:00+0000',\n",
       "  'id': '1801246449934488_1285185234958592',\n",
       "  'message': 'ye selesaaaaaa',\n",
       "  'parent_id': '1801246449934488_173808776616717',\n",
       "  'tagged_names': 'Amy Lia'},\n",
       " {'comment_count': 0,\n",
       "  'created_time': '2018-05-25T06:40:03+0000',\n",
       "  'id': '1801246449934488_1285185688291880',\n",
       "  'message': 'selalu mesti org akan serbu surau kn lg2 maghrib pendek..kalau sy bw mak yg solat duduk ok ker',\n",
       "  'parent_id': '1801246449934488_173808776616717',\n",
       "  'tagged_names': 'Hayati Yatt'},\n",
       " {'comment_count': 0,\n",
       "  'created_time': '2018-05-25T06:41:14+0000',\n",
       "  'id': '1801246449934488_2062758627378104',\n",
       "  'message': 'bole.... sgt2 bole sis...',\n",
       "  'parent_id': '1801246449934488_173808776616717',\n",
       "  'tagged_names': 'Amy Lia'},\n",
       " {'comment_count': 0,\n",
       "  'created_time': '2018-05-25T06:41:34+0000',\n",
       "  'id': '1801246449934488_2062758737378093',\n",
       "  'message': 'Saya pon solat duduk',\n",
       "  'parent_id': '1801246449934488_173808776616717'},\n",
       " {'comment_count': 0,\n",
       "  'created_time': '2018-05-25T06:42:03+0000',\n",
       "  'id': '1801246449934488_1437658463046695',\n",
       "  'message': 'ooo ok2 tq..',\n",
       "  'parent_id': '1801246449934488_173808776616717',\n",
       "  'tagged_names': 'Hayati Yatt'}]"
      ]
     },
     "execution_count": 13,
     "metadata": {},
     "output_type": "execute_result"
    }
   ],
   "source": [
    "for item in current_sub:\n",
    "    item['parent_id'] = dfx.id[0]\n",
    "current_sub"
   ]
  },
  {
   "cell_type": "code",
   "execution_count": 20,
   "metadata": {
    "collapsed": true
   },
   "outputs": [],
   "source": [
    "sub_comment = fb.getSubItems(arr)"
   ]
  },
  {
   "cell_type": "code",
   "execution_count": 21,
   "metadata": {},
   "outputs": [
    {
     "data": {
      "text/html": [
       "<div>\n",
       "<style scoped>\n",
       "    .dataframe tbody tr th:only-of-type {\n",
       "        vertical-align: middle;\n",
       "    }\n",
       "\n",
       "    .dataframe tbody tr th {\n",
       "        vertical-align: top;\n",
       "    }\n",
       "\n",
       "    .dataframe thead th {\n",
       "        text-align: right;\n",
       "    }\n",
       "</style>\n",
       "<table border=\"1\" class=\"dataframe\">\n",
       "  <thead>\n",
       "    <tr style=\"text-align: right;\">\n",
       "      <th></th>\n",
       "      <th>comment_count</th>\n",
       "      <th>created_time</th>\n",
       "      <th>id</th>\n",
       "      <th>message</th>\n",
       "      <th>parent_id</th>\n",
       "      <th>tagged_names</th>\n",
       "    </tr>\n",
       "  </thead>\n",
       "  <tbody>\n",
       "    <tr>\n",
       "      <th>0</th>\n",
       "      <td>0</td>\n",
       "      <td>2018-05-25T02:09:37+0000</td>\n",
       "      <td>1801246449934488_1950494531928859</td>\n",
       "      <td>Terima kasih  . Jemput datang lagi :)</td>\n",
       "      <td>1801246449934488_173808776616717</td>\n",
       "      <td>Hayati Yatt</td>\n",
       "    </tr>\n",
       "    <tr>\n",
       "      <th>1</th>\n",
       "      <td>0</td>\n",
       "      <td>2018-05-25T06:35:55+0000</td>\n",
       "      <td>1801246449934488_2062756094045024</td>\n",
       "      <td>Ruang solat besar ker??</td>\n",
       "      <td>1801246449934488_173808776616717</td>\n",
       "      <td>NaN</td>\n",
       "    </tr>\n",
       "    <tr>\n",
       "      <th>2</th>\n",
       "      <td>0</td>\n",
       "      <td>2018-05-25T06:39:00+0000</td>\n",
       "      <td>1801246449934488_1285185234958592</td>\n",
       "      <td>ye selesaaaaaa</td>\n",
       "      <td>1801246449934488_173808776616717</td>\n",
       "      <td>Amy Lia</td>\n",
       "    </tr>\n",
       "    <tr>\n",
       "      <th>3</th>\n",
       "      <td>0</td>\n",
       "      <td>2018-05-25T06:40:03+0000</td>\n",
       "      <td>1801246449934488_1285185688291880</td>\n",
       "      <td>selalu mesti org akan serbu surau kn lg2 maghr...</td>\n",
       "      <td>1801246449934488_173808776616717</td>\n",
       "      <td>Hayati Yatt</td>\n",
       "    </tr>\n",
       "    <tr>\n",
       "      <th>4</th>\n",
       "      <td>0</td>\n",
       "      <td>2018-05-25T06:41:14+0000</td>\n",
       "      <td>1801246449934488_2062758627378104</td>\n",
       "      <td>bole.... sgt2 bole sis...</td>\n",
       "      <td>1801246449934488_173808776616717</td>\n",
       "      <td>Amy Lia</td>\n",
       "    </tr>\n",
       "    <tr>\n",
       "      <th>5</th>\n",
       "      <td>0</td>\n",
       "      <td>2018-05-25T06:41:34+0000</td>\n",
       "      <td>1801246449934488_2062758737378093</td>\n",
       "      <td>Saya pon solat duduk</td>\n",
       "      <td>1801246449934488_173808776616717</td>\n",
       "      <td>NaN</td>\n",
       "    </tr>\n",
       "    <tr>\n",
       "      <th>6</th>\n",
       "      <td>0</td>\n",
       "      <td>2018-05-25T06:42:03+0000</td>\n",
       "      <td>1801246449934488_1437658463046695</td>\n",
       "      <td>ooo ok2 tq..</td>\n",
       "      <td>1801246449934488_173808776616717</td>\n",
       "      <td>Hayati Yatt</td>\n",
       "    </tr>\n",
       "    <tr>\n",
       "      <th>7</th>\n",
       "      <td>0</td>\n",
       "      <td>2018-05-23T01:59:31+0000</td>\n",
       "      <td>1801246449934488_271842083358077</td>\n",
       "      <td>Terima kasih. Jemput datang lagi ya 😊</td>\n",
       "      <td>1801246449934488_1993896347288475</td>\n",
       "      <td>NaN</td>\n",
       "    </tr>\n",
       "    <tr>\n",
       "      <th>8</th>\n",
       "      <td>0</td>\n",
       "      <td>2018-05-24T00:42:13+0000</td>\n",
       "      <td>1801246449934488_122554675287614</td>\n",
       "      <td>review ni ok plk</td>\n",
       "      <td>1801246449934488_1993896347288475</td>\n",
       "      <td>Suhana Mat Rasu</td>\n",
       "    </tr>\n",
       "    <tr>\n",
       "      <th>9</th>\n",
       "      <td>0</td>\n",
       "      <td>2018-05-24T00:43:29+0000</td>\n",
       "      <td>1801246449934488_419562051843940</td>\n",
       "      <td>ikut branch kot</td>\n",
       "      <td>1801246449934488_1993896347288475</td>\n",
       "      <td>Fyda Ali</td>\n",
       "    </tr>\n",
       "    <tr>\n",
       "      <th>10</th>\n",
       "      <td>0</td>\n",
       "      <td>2018-05-17T22:47:31+0000</td>\n",
       "      <td>1801246449934488_1808086625917137</td>\n",
       "      <td>Tidak. Umur 4 Tahun kebawah adalah percuma. Je...</td>\n",
       "      <td>1801246449934488_1807619769297156</td>\n",
       "      <td>NaN</td>\n",
       "    </tr>\n",
       "    <tr>\n",
       "      <th>11</th>\n",
       "      <td>0</td>\n",
       "      <td>2018-05-17T23:33:06+0000</td>\n",
       "      <td>1801246449934488_1808115335914266</td>\n",
       "      <td>terima kasih 😍</td>\n",
       "      <td>1801246449934488_1807619769297156</td>\n",
       "      <td>Me'nate Steak Hub</td>\n",
       "    </tr>\n",
       "    <tr>\n",
       "      <th>12</th>\n",
       "      <td>0</td>\n",
       "      <td>2018-05-18T15:52:20+0000</td>\n",
       "      <td>1801246449934488_1808831575842642</td>\n",
       "      <td>Nk tnya...utk anak OKU mcmmana kiranya ya?</td>\n",
       "      <td>1801246449934488_1807619769297156</td>\n",
       "      <td>NaN</td>\n",
       "    </tr>\n",
       "    <tr>\n",
       "      <th>13</th>\n",
       "      <td>0</td>\n",
       "      <td>2018-05-21T11:15:50+0000</td>\n",
       "      <td>1801246449934488_254972085063412</td>\n",
       "      <td>Nak tanya... Kemudahan tempat solat bagaimana?</td>\n",
       "      <td>1801246449934488_1807619769297156</td>\n",
       "      <td>NaN</td>\n",
       "    </tr>\n",
       "    <tr>\n",
       "      <th>14</th>\n",
       "      <td>0</td>\n",
       "      <td>2018-05-23T01:52:14+0000</td>\n",
       "      <td>1801246449934488_395845370892460</td>\n",
       "      <td>surau disediakan tuan 😊</td>\n",
       "      <td>1801246449934488_1807619769297156</td>\n",
       "      <td>Iman Hakim</td>\n",
       "    </tr>\n",
       "    <tr>\n",
       "      <th>15</th>\n",
       "      <td>0</td>\n",
       "      <td>2018-05-23T01:53:33+0000</td>\n",
       "      <td>1801246449934488_439405766500389</td>\n",
       "      <td>Hai 😊, tambahan diskaun 5% untuk OKU. Jemput d...</td>\n",
       "      <td>1801246449934488_1807619769297156</td>\n",
       "      <td>Ezanie Bin Abdul Aziz</td>\n",
       "    </tr>\n",
       "    <tr>\n",
       "      <th>16</th>\n",
       "      <td>0</td>\n",
       "      <td>2018-05-23T01:54:42+0000</td>\n",
       "      <td>1801246449934488_271840573358228</td>\n",
       "      <td>Dh booking pd 30 mei</td>\n",
       "      <td>1801246449934488_1807619769297156</td>\n",
       "      <td>NaN</td>\n",
       "    </tr>\n",
       "    <tr>\n",
       "      <th>17</th>\n",
       "      <td>0</td>\n",
       "      <td>2018-05-25T01:58:05+0000</td>\n",
       "      <td>1801246449934488_168815163958041</td>\n",
       "      <td>:P</td>\n",
       "      <td>1801246449934488_1807619769297156</td>\n",
       "      <td>Ashikin Tg Hassan</td>\n",
       "    </tr>\n",
       "    <tr>\n",
       "      <th>18</th>\n",
       "      <td>0</td>\n",
       "      <td>2018-05-23T01:57:10+0000</td>\n",
       "      <td>1801246449934488_271841433358142</td>\n",
       "      <td>Disarankan untuk booking dahulu supaya kami bo...</td>\n",
       "      <td>1801246449934488_229417101157961</td>\n",
       "      <td>NaN</td>\n",
       "    </tr>\n",
       "    <tr>\n",
       "      <th>19</th>\n",
       "      <td>0</td>\n",
       "      <td>2018-05-23T05:58:27+0000</td>\n",
       "      <td>1801246449934488_227722387960456</td>\n",
       "      <td>Ok insyaAllah</td>\n",
       "      <td>1801246449934488_229417101157961</td>\n",
       "      <td>NaN</td>\n",
       "    </tr>\n",
       "    <tr>\n",
       "      <th>20</th>\n",
       "      <td>0</td>\n",
       "      <td>2018-05-23T01:56:19+0000</td>\n",
       "      <td>1801246449934488_439406533166979</td>\n",
       "      <td>Boleh tuan. Jemput datang 😊</td>\n",
       "      <td>1801246449934488_617377048614914</td>\n",
       "      <td>NaN</td>\n",
       "    </tr>\n",
       "    <tr>\n",
       "      <th>21</th>\n",
       "      <td>0</td>\n",
       "      <td>2018-05-26T13:19:04+0000</td>\n",
       "      <td>1801246449934488_402526480245838</td>\n",
       "      <td></td>\n",
       "      <td>1801246449934488_617377048614914</td>\n",
       "      <td>NaN</td>\n",
       "    </tr>\n",
       "    <tr>\n",
       "      <th>22</th>\n",
       "      <td>0</td>\n",
       "      <td>2018-05-20T03:55:22+0000</td>\n",
       "      <td>1801246449934488_1715186155233203</td>\n",
       "      <td>Ada. Jemput datang 😊</td>\n",
       "      <td>1801246449934488_1715180305233788</td>\n",
       "      <td>NaN</td>\n",
       "    </tr>\n",
       "    <tr>\n",
       "      <th>23</th>\n",
       "      <td>0</td>\n",
       "      <td>2018-05-21T11:17:01+0000</td>\n",
       "      <td>1801246449934488_254972331730054</td>\n",
       "      <td>yg setapak ada tempat solat tak?</td>\n",
       "      <td>1801246449934488_1715180305233788</td>\n",
       "      <td>Me'nate Steak Hub</td>\n",
       "    </tr>\n",
       "    <tr>\n",
       "      <th>24</th>\n",
       "      <td>0</td>\n",
       "      <td>2018-05-22T06:46:45+0000</td>\n",
       "      <td>1801246449934488_328541521005934</td>\n",
       "      <td>Semua cawangan kami sediakan surau. Jemput dat...</td>\n",
       "      <td>1801246449934488_1715180305233788</td>\n",
       "      <td>Iman Hakim</td>\n",
       "    </tr>\n",
       "    <tr>\n",
       "      <th>25</th>\n",
       "      <td>0</td>\n",
       "      <td>2018-05-23T01:55:34+0000</td>\n",
       "      <td>1801246449934488_271840803358205</td>\n",
       "      <td>Ada tuan. Jemput datang 😊</td>\n",
       "      <td>1801246449934488_174392336601122</td>\n",
       "      <td>NaN</td>\n",
       "    </tr>\n",
       "    <tr>\n",
       "      <th>26</th>\n",
       "      <td>0</td>\n",
       "      <td>2018-05-23T02:00:07+0000</td>\n",
       "      <td>1801246449934488_395846927558971</td>\n",
       "      <td>dh dtng smlm..trima kasih</td>\n",
       "      <td>1801246449934488_174392336601122</td>\n",
       "      <td>Me'nate Steak Hub</td>\n",
       "    </tr>\n",
       "    <tr>\n",
       "      <th>27</th>\n",
       "      <td>0</td>\n",
       "      <td>2018-05-23T02:04:47+0000</td>\n",
       "      <td>1801246449934488_271843033357982</td>\n",
       "      <td>Terima kasih tuan sudi datang. Jemput datang l...</td>\n",
       "      <td>1801246449934488_174392336601122</td>\n",
       "      <td>NaN</td>\n",
       "    </tr>\n",
       "    <tr>\n",
       "      <th>28</th>\n",
       "      <td>0</td>\n",
       "      <td>2018-05-17T07:35:43+0000</td>\n",
       "      <td>1801246449934488_1807345979324535</td>\n",
       "      <td>Boleh la dek</td>\n",
       "      <td>1801246449934488_1803119599747173</td>\n",
       "      <td>NaN</td>\n",
       "    </tr>\n",
       "    <tr>\n",
       "      <th>29</th>\n",
       "      <td>0</td>\n",
       "      <td>2018-05-23T01:58:22+0000</td>\n",
       "      <td>1801246449934488_439406946500271</td>\n",
       "      <td>Boleh 😊</td>\n",
       "      <td>1801246449934488_1803119599747173</td>\n",
       "      <td>NaN</td>\n",
       "    </tr>\n",
       "    <tr>\n",
       "      <th>...</th>\n",
       "      <td>...</td>\n",
       "      <td>...</td>\n",
       "      <td>...</td>\n",
       "      <td>...</td>\n",
       "      <td>...</td>\n",
       "      <td>...</td>\n",
       "    </tr>\n",
       "    <tr>\n",
       "      <th>954</th>\n",
       "      <td>0</td>\n",
       "      <td>2018-05-20T07:20:31+0000</td>\n",
       "      <td>1801246449934488_133631754165620</td>\n",
       "      <td>kecewa  dgn  🤣🤣🤣</td>\n",
       "      <td>1801246449934488_2059181271015276</td>\n",
       "      <td>Baron Azhar|Mohd Hairi</td>\n",
       "    </tr>\n",
       "    <tr>\n",
       "      <th>955</th>\n",
       "      <td>0</td>\n",
       "      <td>2018-05-20T07:26:55+0000</td>\n",
       "      <td>1801246449934488_155097235344469</td>\n",
       "      <td>Bagi 3 alasan untuk kenape...\"lain plis....\"</td>\n",
       "      <td>1801246449934488_2059181271015276</td>\n",
       "      <td>NaN</td>\n",
       "    </tr>\n",
       "    <tr>\n",
       "      <th>956</th>\n",
       "      <td>0</td>\n",
       "      <td>2018-05-19T06:34:34+0000</td>\n",
       "      <td>1801246449934488_170680133600607</td>\n",
       "      <td>Ko lnje..amcam...</td>\n",
       "      <td>1801246449934488_453969898374504</td>\n",
       "      <td>NaN</td>\n",
       "    </tr>\n",
       "    <tr>\n",
       "      <th>957</th>\n",
       "      <td>0</td>\n",
       "      <td>2018-05-18T11:42:17+0000</td>\n",
       "      <td>1801246449934488_1808630155862784</td>\n",
       "      <td>Wowwwww</td>\n",
       "      <td>1801246449934488_1808621905863609</td>\n",
       "      <td>NaN</td>\n",
       "    </tr>\n",
       "    <tr>\n",
       "      <th>958</th>\n",
       "      <td>0</td>\n",
       "      <td>2018-05-18T12:10:56+0000</td>\n",
       "      <td>1801246449934488_1808658489193284</td>\n",
       "      <td>Wow kakak lanjeeee</td>\n",
       "      <td>1801246449934488_1808621905863609</td>\n",
       "      <td>NaN</td>\n",
       "    </tr>\n",
       "    <tr>\n",
       "      <th>959</th>\n",
       "      <td>0</td>\n",
       "      <td>2018-05-18T16:51:38+0000</td>\n",
       "      <td>1801246449934488_1808878402504626</td>\n",
       "      <td>Wowww kakak ipar belanja</td>\n",
       "      <td>1801246449934488_1808621905863609</td>\n",
       "      <td>NaN</td>\n",
       "    </tr>\n",
       "    <tr>\n",
       "      <th>960</th>\n",
       "      <td>0</td>\n",
       "      <td>2018-05-18T17:26:49+0000</td>\n",
       "      <td>1801246449934488_1808904582502008</td>\n",
       "      <td>Double wow huhu</td>\n",
       "      <td>1801246449934488_1808621905863609</td>\n",
       "      <td>NaN</td>\n",
       "    </tr>\n",
       "    <tr>\n",
       "      <th>961</th>\n",
       "      <td>0</td>\n",
       "      <td>2018-05-18T17:27:55+0000</td>\n",
       "      <td>1801246449934488_1808905382501928</td>\n",
       "      <td>Abang belanja. Triple wowwwww. Kehkehkehkeh</td>\n",
       "      <td>1801246449934488_1808621905863609</td>\n",
       "      <td>NaN</td>\n",
       "    </tr>\n",
       "    <tr>\n",
       "      <th>962</th>\n",
       "      <td>0</td>\n",
       "      <td>2018-05-18T17:29:56+0000</td>\n",
       "      <td>1801246449934488_293916827812287</td>\n",
       "      <td>Boleh bawak ke meeting ye cadangan ini huhu</td>\n",
       "      <td>1801246449934488_1808621905863609</td>\n",
       "      <td>NaN</td>\n",
       "    </tr>\n",
       "    <tr>\n",
       "      <th>963</th>\n",
       "      <td>0</td>\n",
       "      <td>2018-05-18T17:30:16+0000</td>\n",
       "      <td>1801246449934488_293916901145613</td>\n",
       "      <td>Esok kita bincang</td>\n",
       "      <td>1801246449934488_1808621905863609</td>\n",
       "      <td>NaN</td>\n",
       "    </tr>\n",
       "    <tr>\n",
       "      <th>964</th>\n",
       "      <td>0</td>\n",
       "      <td>2018-05-21T09:56:03+0000</td>\n",
       "      <td>1801246449934488_1033633586801993</td>\n",
       "      <td>Bila pulokkkk hahahhaha</td>\n",
       "      <td>1801246449934488_218257732283425</td>\n",
       "      <td>NaN</td>\n",
       "    </tr>\n",
       "    <tr>\n",
       "      <th>965</th>\n",
       "      <td>0</td>\n",
       "      <td>2018-05-21T09:57:20+0000</td>\n",
       "      <td>1801246449934488_1033633960135289</td>\n",
       "      <td>Jom.. ki3</td>\n",
       "      <td>1801246449934488_218257732283425</td>\n",
       "      <td>NaN</td>\n",
       "    </tr>\n",
       "    <tr>\n",
       "      <th>966</th>\n",
       "      <td>0</td>\n",
       "      <td>2018-05-21T11:17:29+0000</td>\n",
       "      <td>1801246449934488_229426337823704</td>\n",
       "      <td>Nk selit tang mana lag? 😁</td>\n",
       "      <td>1801246449934488_218257732283425</td>\n",
       "      <td>NaN</td>\n",
       "    </tr>\n",
       "    <tr>\n",
       "      <th>967</th>\n",
       "      <td>0</td>\n",
       "      <td>2018-05-13T01:50:00+0000</td>\n",
       "      <td>1801246449934488_1803031533089313</td>\n",
       "      <td>Simpan iklan ni</td>\n",
       "      <td>1801246449934488_1802959983096468</td>\n",
       "      <td>NaN</td>\n",
       "    </tr>\n",
       "    <tr>\n",
       "      <th>968</th>\n",
       "      <td>0</td>\n",
       "      <td>2018-05-25T04:12:02+0000</td>\n",
       "      <td>1801246449934488_2103911286495664</td>\n",
       "      <td>Jommm</td>\n",
       "      <td>1801246449934488_1805874076138392</td>\n",
       "      <td>NaN</td>\n",
       "    </tr>\n",
       "    <tr>\n",
       "      <th>969</th>\n",
       "      <td>0</td>\n",
       "      <td>2018-05-16T13:49:20+0000</td>\n",
       "      <td>1801246449934488_1806602059398927</td>\n",
       "      <td>Yeay abam ma belanja.tq dear❤️</td>\n",
       "      <td>1801246449934488_1806560599403073</td>\n",
       "      <td>NaN</td>\n",
       "    </tr>\n",
       "    <tr>\n",
       "      <th>970</th>\n",
       "      <td>0</td>\n",
       "      <td>2018-05-12T15:11:42+0000</td>\n",
       "      <td>1801246449934488_1802544006471399</td>\n",
       "      <td>Pergi la bie..syg xleh g kL bln posa. Busy 😂</td>\n",
       "      <td>1801246449934488_1802438736481926</td>\n",
       "      <td>NaN</td>\n",
       "    </tr>\n",
       "    <tr>\n",
       "      <th>971</th>\n",
       "      <td>0</td>\n",
       "      <td>2018-05-12T23:02:15+0000</td>\n",
       "      <td>1801246449934488_1802930616432738</td>\n",
       "      <td>😭</td>\n",
       "      <td>1801246449934488_1802438736481926</td>\n",
       "      <td>NaN</td>\n",
       "    </tr>\n",
       "    <tr>\n",
       "      <th>972</th>\n",
       "      <td>0</td>\n",
       "      <td>2018-05-13T01:58:02+0000</td>\n",
       "      <td>1801246449934488_1803037003088766</td>\n",
       "      <td>Heheheh</td>\n",
       "      <td>1801246449934488_1802438736481926</td>\n",
       "      <td>NaN</td>\n",
       "    </tr>\n",
       "    <tr>\n",
       "      <th>973</th>\n",
       "      <td>0</td>\n",
       "      <td>2018-05-11T13:55:47+0000</td>\n",
       "      <td>1801246449934488_1801377149921418</td>\n",
       "      <td>kemah harga..hahaha</td>\n",
       "      <td>1801246449934488_1801375839921549</td>\n",
       "      <td>NaN</td>\n",
       "    </tr>\n",
       "    <tr>\n",
       "      <th>974</th>\n",
       "      <td>0</td>\n",
       "      <td>2018-05-19T08:54:38+0000</td>\n",
       "      <td>1801246449934488_1797255160312858</td>\n",
       "      <td>Kak yea booking laa. \\nAdoiiii punah diet 🤦</td>\n",
       "      <td>1801246449934488_248494335712721</td>\n",
       "      <td>NaN</td>\n",
       "    </tr>\n",
       "    <tr>\n",
       "      <th>975</th>\n",
       "      <td>0</td>\n",
       "      <td>2018-05-21T10:43:08+0000</td>\n",
       "      <td>1801246449934488_617283451972461</td>\n",
       "      <td>👍👍👍</td>\n",
       "      <td>1801246449934488_617282421972564</td>\n",
       "      <td>NaN</td>\n",
       "    </tr>\n",
       "    <tr>\n",
       "      <th>976</th>\n",
       "      <td>0</td>\n",
       "      <td>2018-05-17T07:54:50+0000</td>\n",
       "      <td>1801246449934488_1807355325990267</td>\n",
       "      <td>Why bother why bother..hahaaha..insyaallah</td>\n",
       "      <td>1801246449934488_1807354602657006</td>\n",
       "      <td>NaN</td>\n",
       "    </tr>\n",
       "    <tr>\n",
       "      <th>977</th>\n",
       "      <td>0</td>\n",
       "      <td>2018-05-17T08:00:56+0000</td>\n",
       "      <td>1801246449934488_1807359285989871</td>\n",
       "      <td>Nak jomm.. Pleaseee</td>\n",
       "      <td>1801246449934488_1807354602657006</td>\n",
       "      <td>NaN</td>\n",
       "    </tr>\n",
       "    <tr>\n",
       "      <th>978</th>\n",
       "      <td>0</td>\n",
       "      <td>2018-05-17T08:01:27+0000</td>\n",
       "      <td>1801246449934488_1807359992656467</td>\n",
       "      <td>next week ea gaji</td>\n",
       "      <td>1801246449934488_1807354602657006</td>\n",
       "      <td>Zullfekar Ruslee</td>\n",
       "    </tr>\n",
       "    <tr>\n",
       "      <th>979</th>\n",
       "      <td>0</td>\n",
       "      <td>2018-05-17T08:05:54+0000</td>\n",
       "      <td>1801246449934488_1807362192656247</td>\n",
       "      <td>ok2.. Kesini tau..</td>\n",
       "      <td>1801246449934488_1807354602657006</td>\n",
       "      <td>Zarull Muhd Sukri</td>\n",
       "    </tr>\n",
       "    <tr>\n",
       "      <th>980</th>\n",
       "      <td>0</td>\n",
       "      <td>2018-05-17T08:06:23+0000</td>\n",
       "      <td>1801246449934488_1807362432656223</td>\n",
       "      <td>Baik laa..😉</td>\n",
       "      <td>1801246449934488_1807354602657006</td>\n",
       "      <td>NaN</td>\n",
       "    </tr>\n",
       "    <tr>\n",
       "      <th>981</th>\n",
       "      <td>0</td>\n",
       "      <td>2018-05-25T08:42:15+0000</td>\n",
       "      <td>1801246449934488_178542116139385</td>\n",
       "      <td>Ade ke cuti sama lg? Hihi</td>\n",
       "      <td>1801246449934488_415995308811673</td>\n",
       "      <td>NaN</td>\n",
       "    </tr>\n",
       "    <tr>\n",
       "      <th>982</th>\n",
       "      <td>0</td>\n",
       "      <td>2018-05-25T08:45:20+0000</td>\n",
       "      <td>1801246449934488_249353332280238</td>\n",
       "      <td>ahahaha..mmg xde la</td>\n",
       "      <td>1801246449934488_415995308811673</td>\n",
       "      <td>Cik Petir</td>\n",
       "    </tr>\n",
       "    <tr>\n",
       "      <th>983</th>\n",
       "      <td>0</td>\n",
       "      <td>2018-05-13T12:09:00+0000</td>\n",
       "      <td>1801246449934488_1803440579715075</td>\n",
       "      <td>Ang nak buka western ke. Haahah</td>\n",
       "      <td>1801246449934488_1803424719716661</td>\n",
       "      <td>NaN</td>\n",
       "    </tr>\n",
       "  </tbody>\n",
       "</table>\n",
       "<p>984 rows × 6 columns</p>\n",
       "</div>"
      ],
      "text/plain": [
       "     comment_count              created_time  \\\n",
       "0                0  2018-05-25T02:09:37+0000   \n",
       "1                0  2018-05-25T06:35:55+0000   \n",
       "2                0  2018-05-25T06:39:00+0000   \n",
       "3                0  2018-05-25T06:40:03+0000   \n",
       "4                0  2018-05-25T06:41:14+0000   \n",
       "5                0  2018-05-25T06:41:34+0000   \n",
       "6                0  2018-05-25T06:42:03+0000   \n",
       "7                0  2018-05-23T01:59:31+0000   \n",
       "8                0  2018-05-24T00:42:13+0000   \n",
       "9                0  2018-05-24T00:43:29+0000   \n",
       "10               0  2018-05-17T22:47:31+0000   \n",
       "11               0  2018-05-17T23:33:06+0000   \n",
       "12               0  2018-05-18T15:52:20+0000   \n",
       "13               0  2018-05-21T11:15:50+0000   \n",
       "14               0  2018-05-23T01:52:14+0000   \n",
       "15               0  2018-05-23T01:53:33+0000   \n",
       "16               0  2018-05-23T01:54:42+0000   \n",
       "17               0  2018-05-25T01:58:05+0000   \n",
       "18               0  2018-05-23T01:57:10+0000   \n",
       "19               0  2018-05-23T05:58:27+0000   \n",
       "20               0  2018-05-23T01:56:19+0000   \n",
       "21               0  2018-05-26T13:19:04+0000   \n",
       "22               0  2018-05-20T03:55:22+0000   \n",
       "23               0  2018-05-21T11:17:01+0000   \n",
       "24               0  2018-05-22T06:46:45+0000   \n",
       "25               0  2018-05-23T01:55:34+0000   \n",
       "26               0  2018-05-23T02:00:07+0000   \n",
       "27               0  2018-05-23T02:04:47+0000   \n",
       "28               0  2018-05-17T07:35:43+0000   \n",
       "29               0  2018-05-23T01:58:22+0000   \n",
       "..             ...                       ...   \n",
       "954              0  2018-05-20T07:20:31+0000   \n",
       "955              0  2018-05-20T07:26:55+0000   \n",
       "956              0  2018-05-19T06:34:34+0000   \n",
       "957              0  2018-05-18T11:42:17+0000   \n",
       "958              0  2018-05-18T12:10:56+0000   \n",
       "959              0  2018-05-18T16:51:38+0000   \n",
       "960              0  2018-05-18T17:26:49+0000   \n",
       "961              0  2018-05-18T17:27:55+0000   \n",
       "962              0  2018-05-18T17:29:56+0000   \n",
       "963              0  2018-05-18T17:30:16+0000   \n",
       "964              0  2018-05-21T09:56:03+0000   \n",
       "965              0  2018-05-21T09:57:20+0000   \n",
       "966              0  2018-05-21T11:17:29+0000   \n",
       "967              0  2018-05-13T01:50:00+0000   \n",
       "968              0  2018-05-25T04:12:02+0000   \n",
       "969              0  2018-05-16T13:49:20+0000   \n",
       "970              0  2018-05-12T15:11:42+0000   \n",
       "971              0  2018-05-12T23:02:15+0000   \n",
       "972              0  2018-05-13T01:58:02+0000   \n",
       "973              0  2018-05-11T13:55:47+0000   \n",
       "974              0  2018-05-19T08:54:38+0000   \n",
       "975              0  2018-05-21T10:43:08+0000   \n",
       "976              0  2018-05-17T07:54:50+0000   \n",
       "977              0  2018-05-17T08:00:56+0000   \n",
       "978              0  2018-05-17T08:01:27+0000   \n",
       "979              0  2018-05-17T08:05:54+0000   \n",
       "980              0  2018-05-17T08:06:23+0000   \n",
       "981              0  2018-05-25T08:42:15+0000   \n",
       "982              0  2018-05-25T08:45:20+0000   \n",
       "983              0  2018-05-13T12:09:00+0000   \n",
       "\n",
       "                                    id  \\\n",
       "0    1801246449934488_1950494531928859   \n",
       "1    1801246449934488_2062756094045024   \n",
       "2    1801246449934488_1285185234958592   \n",
       "3    1801246449934488_1285185688291880   \n",
       "4    1801246449934488_2062758627378104   \n",
       "5    1801246449934488_2062758737378093   \n",
       "6    1801246449934488_1437658463046695   \n",
       "7     1801246449934488_271842083358077   \n",
       "8     1801246449934488_122554675287614   \n",
       "9     1801246449934488_419562051843940   \n",
       "10   1801246449934488_1808086625917137   \n",
       "11   1801246449934488_1808115335914266   \n",
       "12   1801246449934488_1808831575842642   \n",
       "13    1801246449934488_254972085063412   \n",
       "14    1801246449934488_395845370892460   \n",
       "15    1801246449934488_439405766500389   \n",
       "16    1801246449934488_271840573358228   \n",
       "17    1801246449934488_168815163958041   \n",
       "18    1801246449934488_271841433358142   \n",
       "19    1801246449934488_227722387960456   \n",
       "20    1801246449934488_439406533166979   \n",
       "21    1801246449934488_402526480245838   \n",
       "22   1801246449934488_1715186155233203   \n",
       "23    1801246449934488_254972331730054   \n",
       "24    1801246449934488_328541521005934   \n",
       "25    1801246449934488_271840803358205   \n",
       "26    1801246449934488_395846927558971   \n",
       "27    1801246449934488_271843033357982   \n",
       "28   1801246449934488_1807345979324535   \n",
       "29    1801246449934488_439406946500271   \n",
       "..                                 ...   \n",
       "954   1801246449934488_133631754165620   \n",
       "955   1801246449934488_155097235344469   \n",
       "956   1801246449934488_170680133600607   \n",
       "957  1801246449934488_1808630155862784   \n",
       "958  1801246449934488_1808658489193284   \n",
       "959  1801246449934488_1808878402504626   \n",
       "960  1801246449934488_1808904582502008   \n",
       "961  1801246449934488_1808905382501928   \n",
       "962   1801246449934488_293916827812287   \n",
       "963   1801246449934488_293916901145613   \n",
       "964  1801246449934488_1033633586801993   \n",
       "965  1801246449934488_1033633960135289   \n",
       "966   1801246449934488_229426337823704   \n",
       "967  1801246449934488_1803031533089313   \n",
       "968  1801246449934488_2103911286495664   \n",
       "969  1801246449934488_1806602059398927   \n",
       "970  1801246449934488_1802544006471399   \n",
       "971  1801246449934488_1802930616432738   \n",
       "972  1801246449934488_1803037003088766   \n",
       "973  1801246449934488_1801377149921418   \n",
       "974  1801246449934488_1797255160312858   \n",
       "975   1801246449934488_617283451972461   \n",
       "976  1801246449934488_1807355325990267   \n",
       "977  1801246449934488_1807359285989871   \n",
       "978  1801246449934488_1807359992656467   \n",
       "979  1801246449934488_1807362192656247   \n",
       "980  1801246449934488_1807362432656223   \n",
       "981   1801246449934488_178542116139385   \n",
       "982   1801246449934488_249353332280238   \n",
       "983  1801246449934488_1803440579715075   \n",
       "\n",
       "                                               message  \\\n",
       "0                Terima kasih  . Jemput datang lagi :)   \n",
       "1                              Ruang solat besar ker??   \n",
       "2                                       ye selesaaaaaa   \n",
       "3    selalu mesti org akan serbu surau kn lg2 maghr...   \n",
       "4                            bole.... sgt2 bole sis...   \n",
       "5                                 Saya pon solat duduk   \n",
       "6                                         ooo ok2 tq..   \n",
       "7                Terima kasih. Jemput datang lagi ya 😊   \n",
       "8                                     review ni ok plk   \n",
       "9                                      ikut branch kot   \n",
       "10   Tidak. Umur 4 Tahun kebawah adalah percuma. Je...   \n",
       "11                                      terima kasih 😍   \n",
       "12          Nk tnya...utk anak OKU mcmmana kiranya ya?   \n",
       "13      Nak tanya... Kemudahan tempat solat bagaimana?   \n",
       "14                             surau disediakan tuan 😊   \n",
       "15   Hai 😊, tambahan diskaun 5% untuk OKU. Jemput d...   \n",
       "16                                Dh booking pd 30 mei   \n",
       "17                                                  :P   \n",
       "18   Disarankan untuk booking dahulu supaya kami bo...   \n",
       "19                                       Ok insyaAllah   \n",
       "20                         Boleh tuan. Jemput datang 😊   \n",
       "21                                                       \n",
       "22                                Ada. Jemput datang 😊   \n",
       "23                    yg setapak ada tempat solat tak?   \n",
       "24   Semua cawangan kami sediakan surau. Jemput dat...   \n",
       "25                           Ada tuan. Jemput datang 😊   \n",
       "26                           dh dtng smlm..trima kasih   \n",
       "27   Terima kasih tuan sudi datang. Jemput datang l...   \n",
       "28                                        Boleh la dek   \n",
       "29                                             Boleh 😊   \n",
       "..                                                 ...   \n",
       "954                                   kecewa  dgn  🤣🤣🤣   \n",
       "955       Bagi 3 alasan untuk kenape...\"lain plis....\"   \n",
       "956                                  Ko lnje..amcam...   \n",
       "957                                            Wowwwww   \n",
       "958                                 Wow kakak lanjeeee   \n",
       "959                           Wowww kakak ipar belanja   \n",
       "960                                    Double wow huhu   \n",
       "961        Abang belanja. Triple wowwwww. Kehkehkehkeh   \n",
       "962        Boleh bawak ke meeting ye cadangan ini huhu   \n",
       "963                                  Esok kita bincang   \n",
       "964                            Bila pulokkkk hahahhaha   \n",
       "965                                          Jom.. ki3   \n",
       "966                          Nk selit tang mana lag? 😁   \n",
       "967                                    Simpan iklan ni   \n",
       "968                                              Jommm   \n",
       "969                     Yeay abam ma belanja.tq dear❤️   \n",
       "970       Pergi la bie..syg xleh g kL bln posa. Busy 😂   \n",
       "971                                                  😭   \n",
       "972                                            Heheheh   \n",
       "973                                kemah harga..hahaha   \n",
       "974        Kak yea booking laa. \\nAdoiiii punah diet 🤦   \n",
       "975                                                👍👍👍   \n",
       "976         Why bother why bother..hahaaha..insyaallah   \n",
       "977                                Nak jomm.. Pleaseee   \n",
       "978                                  next week ea gaji   \n",
       "979                                 ok2.. Kesini tau..   \n",
       "980                                        Baik laa..😉   \n",
       "981                          Ade ke cuti sama lg? Hihi   \n",
       "982                                ahahaha..mmg xde la   \n",
       "983                    Ang nak buka western ke. Haahah   \n",
       "\n",
       "                             parent_id            tagged_names  \n",
       "0     1801246449934488_173808776616717             Hayati Yatt  \n",
       "1     1801246449934488_173808776616717                     NaN  \n",
       "2     1801246449934488_173808776616717                 Amy Lia  \n",
       "3     1801246449934488_173808776616717             Hayati Yatt  \n",
       "4     1801246449934488_173808776616717                 Amy Lia  \n",
       "5     1801246449934488_173808776616717                     NaN  \n",
       "6     1801246449934488_173808776616717             Hayati Yatt  \n",
       "7    1801246449934488_1993896347288475                     NaN  \n",
       "8    1801246449934488_1993896347288475         Suhana Mat Rasu  \n",
       "9    1801246449934488_1993896347288475                Fyda Ali  \n",
       "10   1801246449934488_1807619769297156                     NaN  \n",
       "11   1801246449934488_1807619769297156       Me'nate Steak Hub  \n",
       "12   1801246449934488_1807619769297156                     NaN  \n",
       "13   1801246449934488_1807619769297156                     NaN  \n",
       "14   1801246449934488_1807619769297156              Iman Hakim  \n",
       "15   1801246449934488_1807619769297156   Ezanie Bin Abdul Aziz  \n",
       "16   1801246449934488_1807619769297156                     NaN  \n",
       "17   1801246449934488_1807619769297156       Ashikin Tg Hassan  \n",
       "18    1801246449934488_229417101157961                     NaN  \n",
       "19    1801246449934488_229417101157961                     NaN  \n",
       "20    1801246449934488_617377048614914                     NaN  \n",
       "21    1801246449934488_617377048614914                     NaN  \n",
       "22   1801246449934488_1715180305233788                     NaN  \n",
       "23   1801246449934488_1715180305233788       Me'nate Steak Hub  \n",
       "24   1801246449934488_1715180305233788              Iman Hakim  \n",
       "25    1801246449934488_174392336601122                     NaN  \n",
       "26    1801246449934488_174392336601122       Me'nate Steak Hub  \n",
       "27    1801246449934488_174392336601122                     NaN  \n",
       "28   1801246449934488_1803119599747173                     NaN  \n",
       "29   1801246449934488_1803119599747173                     NaN  \n",
       "..                                 ...                     ...  \n",
       "954  1801246449934488_2059181271015276  Baron Azhar|Mohd Hairi  \n",
       "955  1801246449934488_2059181271015276                     NaN  \n",
       "956   1801246449934488_453969898374504                     NaN  \n",
       "957  1801246449934488_1808621905863609                     NaN  \n",
       "958  1801246449934488_1808621905863609                     NaN  \n",
       "959  1801246449934488_1808621905863609                     NaN  \n",
       "960  1801246449934488_1808621905863609                     NaN  \n",
       "961  1801246449934488_1808621905863609                     NaN  \n",
       "962  1801246449934488_1808621905863609                     NaN  \n",
       "963  1801246449934488_1808621905863609                     NaN  \n",
       "964   1801246449934488_218257732283425                     NaN  \n",
       "965   1801246449934488_218257732283425                     NaN  \n",
       "966   1801246449934488_218257732283425                     NaN  \n",
       "967  1801246449934488_1802959983096468                     NaN  \n",
       "968  1801246449934488_1805874076138392                     NaN  \n",
       "969  1801246449934488_1806560599403073                     NaN  \n",
       "970  1801246449934488_1802438736481926                     NaN  \n",
       "971  1801246449934488_1802438736481926                     NaN  \n",
       "972  1801246449934488_1802438736481926                     NaN  \n",
       "973  1801246449934488_1801375839921549                     NaN  \n",
       "974   1801246449934488_248494335712721                     NaN  \n",
       "975   1801246449934488_617282421972564                     NaN  \n",
       "976  1801246449934488_1807354602657006                     NaN  \n",
       "977  1801246449934488_1807354602657006                     NaN  \n",
       "978  1801246449934488_1807354602657006        Zullfekar Ruslee  \n",
       "979  1801246449934488_1807354602657006       Zarull Muhd Sukri  \n",
       "980  1801246449934488_1807354602657006                     NaN  \n",
       "981   1801246449934488_415995308811673                     NaN  \n",
       "982   1801246449934488_415995308811673               Cik Petir  \n",
       "983  1801246449934488_1803424719716661                     NaN  \n",
       "\n",
       "[984 rows x 6 columns]"
      ]
     },
     "execution_count": 21,
     "metadata": {},
     "output_type": "execute_result"
    }
   ],
   "source": [
    "dfsub = pd.DataFrame(sub_comment)\n",
    "dfsub"
   ]
  },
  {
   "cell_type": "code",
   "execution_count": 22,
   "metadata": {
    "collapsed": true
   },
   "outputs": [],
   "source": [
    "all_comments= arr + sub_comment"
   ]
  },
  {
   "cell_type": "code",
   "execution_count": 23,
   "metadata": {},
   "outputs": [
    {
     "data": {
      "text/plain": [
       "1747"
      ]
     },
     "execution_count": 23,
     "metadata": {},
     "output_type": "execute_result"
    }
   ],
   "source": [
    "len(all_comments)"
   ]
  },
  {
   "cell_type": "code",
   "execution_count": 24,
   "metadata": {
    "scrolled": true
   },
   "outputs": [
    {
     "data": {
      "text/plain": [
       "Index(['comment_count', 'created_time', 'id', 'message', 'parent_id',\n",
       "       'tagged_names'],\n",
       "      dtype='object')"
      ]
     },
     "execution_count": 24,
     "metadata": {},
     "output_type": "execute_result"
    }
   ],
   "source": [
    "df = pd.DataFrame(all_comments)\n",
    "df.columns"
   ]
  },
  {
   "cell_type": "code",
   "execution_count": 25,
   "metadata": {},
   "outputs": [
    {
     "data": {
      "text/html": [
       "<div>\n",
       "<style scoped>\n",
       "    .dataframe tbody tr th:only-of-type {\n",
       "        vertical-align: middle;\n",
       "    }\n",
       "\n",
       "    .dataframe tbody tr th {\n",
       "        vertical-align: top;\n",
       "    }\n",
       "\n",
       "    .dataframe thead th {\n",
       "        text-align: right;\n",
       "    }\n",
       "</style>\n",
       "<table border=\"1\" class=\"dataframe\">\n",
       "  <thead>\n",
       "    <tr style=\"text-align: right;\">\n",
       "      <th></th>\n",
       "      <th>parent_id</th>\n",
       "      <th>id</th>\n",
       "      <th>message</th>\n",
       "      <th>tagged_names</th>\n",
       "      <th>created_time</th>\n",
       "      <th>comment_count</th>\n",
       "    </tr>\n",
       "  </thead>\n",
       "  <tbody>\n",
       "    <tr>\n",
       "      <th>0</th>\n",
       "      <td>1801246449934488_173808776616717</td>\n",
       "      <td>1801246449934488_173808776616717</td>\n",
       "      <td>Alhamdulillah... hari ini berpeluang berbuka b...</td>\n",
       "      <td>NaN</td>\n",
       "      <td>2018-05-24T14:33:44+0000</td>\n",
       "      <td>7</td>\n",
       "    </tr>\n",
       "    <tr>\n",
       "      <th>1</th>\n",
       "      <td>1801246449934488_1993896347288475</td>\n",
       "      <td>1801246449934488_1993896347288475</td>\n",
       "      <td>Recommended 👍 Macam² pilihan ada especially we...</td>\n",
       "      <td>NaN</td>\n",
       "      <td>2018-05-20T12:13:22+0000</td>\n",
       "      <td>3</td>\n",
       "    </tr>\n",
       "    <tr>\n",
       "      <th>2</th>\n",
       "      <td>1801246449934488_1807619769297156</td>\n",
       "      <td>1801246449934488_1807619769297156</td>\n",
       "      <td>Baby below 2 years kene charge jugak ke?</td>\n",
       "      <td>NaN</td>\n",
       "      <td>2018-05-17T13:39:50+0000</td>\n",
       "      <td>8</td>\n",
       "    </tr>\n",
       "    <tr>\n",
       "      <th>3</th>\n",
       "      <td>1801246449934488_229417101157961</td>\n",
       "      <td>1801246449934488_229417101157961</td>\n",
       "      <td>Nak kena booking or boleh walk in terus</td>\n",
       "      <td>NaN</td>\n",
       "      <td>2018-05-21T11:01:56+0000</td>\n",
       "      <td>2</td>\n",
       "    </tr>\n",
       "    <tr>\n",
       "      <th>4</th>\n",
       "      <td>1801246449934488_617377048614914</td>\n",
       "      <td>1801246449934488_617377048614914</td>\n",
       "      <td>Seorang boleh tak? Atau seorang tidak dibenark...</td>\n",
       "      <td>NaN</td>\n",
       "      <td>2018-05-20T13:47:00+0000</td>\n",
       "      <td>2</td>\n",
       "    </tr>\n",
       "  </tbody>\n",
       "</table>\n",
       "</div>"
      ],
      "text/plain": [
       "                           parent_id                                 id  \\\n",
       "0   1801246449934488_173808776616717   1801246449934488_173808776616717   \n",
       "1  1801246449934488_1993896347288475  1801246449934488_1993896347288475   \n",
       "2  1801246449934488_1807619769297156  1801246449934488_1807619769297156   \n",
       "3   1801246449934488_229417101157961   1801246449934488_229417101157961   \n",
       "4   1801246449934488_617377048614914   1801246449934488_617377048614914   \n",
       "\n",
       "                                             message tagged_names  \\\n",
       "0  Alhamdulillah... hari ini berpeluang berbuka b...          NaN   \n",
       "1  Recommended 👍 Macam² pilihan ada especially we...          NaN   \n",
       "2           Baby below 2 years kene charge jugak ke?          NaN   \n",
       "3            Nak kena booking or boleh walk in terus          NaN   \n",
       "4  Seorang boleh tak? Atau seorang tidak dibenark...          NaN   \n",
       "\n",
       "               created_time  comment_count  \n",
       "0  2018-05-24T14:33:44+0000              7  \n",
       "1  2018-05-20T12:13:22+0000              3  \n",
       "2  2018-05-17T13:39:50+0000              8  \n",
       "3  2018-05-21T11:01:56+0000              2  \n",
       "4  2018-05-20T13:47:00+0000              2  "
      ]
     },
     "execution_count": 25,
     "metadata": {},
     "output_type": "execute_result"
    }
   ],
   "source": [
    "df = df[['parent_id', 'id', 'message', 'tagged_names','created_time','comment_count']]\n",
    "df.head()"
   ]
  },
  {
   "cell_type": "code",
   "execution_count": 29,
   "metadata": {
    "scrolled": true
   },
   "outputs": [
    {
     "data": {
      "text/html": [
       "<div>\n",
       "<style scoped>\n",
       "    .dataframe tbody tr th:only-of-type {\n",
       "        vertical-align: middle;\n",
       "    }\n",
       "\n",
       "    .dataframe tbody tr th {\n",
       "        vertical-align: top;\n",
       "    }\n",
       "\n",
       "    .dataframe thead th {\n",
       "        text-align: right;\n",
       "    }\n",
       "</style>\n",
       "<table border=\"1\" class=\"dataframe\">\n",
       "  <thead>\n",
       "    <tr style=\"text-align: right;\">\n",
       "      <th></th>\n",
       "      <th>index</th>\n",
       "      <th>parent_id</th>\n",
       "      <th>id</th>\n",
       "      <th>message</th>\n",
       "      <th>tagged_names</th>\n",
       "      <th>created_time</th>\n",
       "      <th>comment_count</th>\n",
       "    </tr>\n",
       "  </thead>\n",
       "  <tbody>\n",
       "    <tr>\n",
       "      <th>0</th>\n",
       "      <td>573</td>\n",
       "      <td>1801246449934488_1012345632247146</td>\n",
       "      <td>1801246449934488_1012345632247146</td>\n",
       "      <td>Fieda</td>\n",
       "      <td>Fieda Danisya</td>\n",
       "      <td>2018-05-23T08:51:45+0000</td>\n",
       "      <td>7</td>\n",
       "    </tr>\n",
       "    <tr>\n",
       "      <th>1</th>\n",
       "      <td>1613</td>\n",
       "      <td>1801246449934488_1012345632247146</td>\n",
       "      <td>1801246449934488_102880223934688</td>\n",
       "      <td>Alolooo..  ok2 t i roger.. x de geng ni.. 31</td>\n",
       "      <td>NaN</td>\n",
       "      <td>2018-05-23T10:06:26+0000</td>\n",
       "      <td>0</td>\n",
       "    </tr>\n",
       "    <tr>\n",
       "      <th>2</th>\n",
       "      <td>1615</td>\n",
       "      <td>1801246449934488_1012345632247146</td>\n",
       "      <td>1801246449934488_102882320601145</td>\n",
       "      <td>Hahaaa, tau da. Ok t i roger</td>\n",
       "      <td>NaN</td>\n",
       "      <td>2018-05-23T10:08:49+0000</td>\n",
       "      <td>0</td>\n",
       "    </tr>\n",
       "    <tr>\n",
       "      <th>3</th>\n",
       "      <td>1612</td>\n",
       "      <td>1801246449934488_1012345632247146</td>\n",
       "      <td>1801246449934488_170760513765993</td>\n",
       "      <td>hahahaha.. meme tak la. lepas selai baju raya ...</td>\n",
       "      <td>ZulFahmi Qarier Kamal</td>\n",
       "      <td>2018-05-23T10:04:51+0000</td>\n",
       "      <td>0</td>\n",
       "    </tr>\n",
       "    <tr>\n",
       "      <th>4</th>\n",
       "      <td>1614</td>\n",
       "      <td>1801246449934488_1012345632247146</td>\n",
       "      <td>1801246449934488_170761187099259</td>\n",
       "      <td>okeh.. klu u lanjer i anytime 😁😁</td>\n",
       "      <td>ZulFahmi Qarier Kamal</td>\n",
       "      <td>2018-05-23T10:07:39+0000</td>\n",
       "      <td>0</td>\n",
       "    </tr>\n",
       "  </tbody>\n",
       "</table>\n",
       "</div>"
      ],
      "text/plain": [
       "   index                          parent_id  \\\n",
       "0    573  1801246449934488_1012345632247146   \n",
       "1   1613  1801246449934488_1012345632247146   \n",
       "2   1615  1801246449934488_1012345632247146   \n",
       "3   1612  1801246449934488_1012345632247146   \n",
       "4   1614  1801246449934488_1012345632247146   \n",
       "\n",
       "                                  id  \\\n",
       "0  1801246449934488_1012345632247146   \n",
       "1   1801246449934488_102880223934688   \n",
       "2   1801246449934488_102882320601145   \n",
       "3   1801246449934488_170760513765993   \n",
       "4   1801246449934488_170761187099259   \n",
       "\n",
       "                                             message           tagged_names  \\\n",
       "0                                              Fieda          Fieda Danisya   \n",
       "1       Alolooo..  ok2 t i roger.. x de geng ni.. 31                    NaN   \n",
       "2                       Hahaaa, tau da. Ok t i roger                    NaN   \n",
       "3  hahahaha.. meme tak la. lepas selai baju raya ...  ZulFahmi Qarier Kamal   \n",
       "4                   okeh.. klu u lanjer i anytime 😁😁  ZulFahmi Qarier Kamal   \n",
       "\n",
       "               created_time  comment_count  \n",
       "0  2018-05-23T08:51:45+0000              7  \n",
       "1  2018-05-23T10:06:26+0000              0  \n",
       "2  2018-05-23T10:08:49+0000              0  \n",
       "3  2018-05-23T10:04:51+0000              0  \n",
       "4  2018-05-23T10:07:39+0000              0  "
      ]
     },
     "execution_count": 29,
     "metadata": {},
     "output_type": "execute_result"
    }
   ],
   "source": [
    "df2 = df.sort_values(axis=0, by=['parent_id','id'], ascending=True, inplace=False).reset_index()\n",
    "df2.head()"
   ]
  },
  {
   "cell_type": "code",
   "execution_count": 31,
   "metadata": {
    "collapsed": true
   },
   "outputs": [],
   "source": [
    "df2.loc[df2['message'] == ''] = np.nan"
   ]
  },
  {
   "cell_type": "code",
   "execution_count": 33,
   "metadata": {
    "collapsed": true
   },
   "outputs": [],
   "source": [
    "df2.dropna(axis=0, subset=['message'], inplace=True)"
   ]
  },
  {
   "cell_type": "code",
   "execution_count": 34,
   "metadata": {},
   "outputs": [
    {
     "data": {
      "text/plain": [
       "(1324, 7)"
      ]
     },
     "execution_count": 34,
     "metadata": {},
     "output_type": "execute_result"
    }
   ],
   "source": [
    "df2.shape"
   ]
  },
  {
   "cell_type": "code",
   "execution_count": 36,
   "metadata": {
    "collapsed": true
   },
   "outputs": [],
   "source": [
    "df2['message'].to_excel(r'D:\\Qayyuum\\menate_ramadan_offer2.xlsx')"
   ]
  },
  {
   "cell_type": "code",
   "execution_count": null,
   "metadata": {
    "collapsed": true
   },
   "outputs": [],
   "source": []
  },
  {
   "cell_type": "code",
   "execution_count": null,
   "metadata": {
    "collapsed": true
   },
   "outputs": [],
   "source": [
    "only_word = fb.convertToWords(df['message'])"
   ]
  },
  {
   "cell_type": "code",
   "execution_count": null,
   "metadata": {
    "collapsed": true,
    "scrolled": true
   },
   "outputs": [],
   "source": [
    "only_word"
   ]
  },
  {
   "cell_type": "code",
   "execution_count": null,
   "metadata": {
    "collapsed": true
   },
   "outputs": [],
   "source": [
    "srs = pd.read_csv(r'D:\\Qayyuum\\burger.csv', index_col=0)"
   ]
  },
  {
   "cell_type": "code",
   "execution_count": null,
   "metadata": {
    "collapsed": true,
    "scrolled": true
   },
   "outputs": [],
   "source": [
    "srs"
   ]
  },
  {
   "cell_type": "code",
   "execution_count": null,
   "metadata": {
    "collapsed": true
   },
   "outputs": [],
   "source": [
    "fb = FBImporter(r'https://www.facebook.com/khairul.ezuwan.1/', r'643368762522881|c4bf0124fa9dffe8b824e9b4e4e50ff8')\n",
    "fb.setGroupId()\n",
    "test = fb.getPostList()\n",
    "ids = [ x['id'] for x in test[0] ]"
   ]
  },
  {
   "cell_type": "code",
   "execution_count": null,
   "metadata": {
    "collapsed": true
   },
   "outputs": [],
   "source": [
    "ids"
   ]
  },
  {
   "cell_type": "code",
   "execution_count": null,
   "metadata": {
    "collapsed": true,
    "scrolled": true
   },
   "outputs": [],
   "source": [
    "df = pd.read_csv(\"D:\\Qayyuum\\kezuwan.csv\", index_col=0)\n",
    "df.head(20)"
   ]
  },
  {
   "cell_type": "code",
   "execution_count": null,
   "metadata": {
    "collapsed": true
   },
   "outputs": [],
   "source": [
    "urlStopWords = 'http://blog.kerul.net/2014/01/list-of-malay-stop-words.html'\n",
    "response = rq.urlopen(urlStopWords)"
   ]
  },
  {
   "cell_type": "code",
   "execution_count": null,
   "metadata": {
    "collapsed": true
   },
   "outputs": [],
   "source": [
    "response.getcode()"
   ]
  },
  {
   "cell_type": "code",
   "execution_count": null,
   "metadata": {
    "collapsed": true
   },
   "outputs": [],
   "source": [
    "html = response.read()\n",
    "soup = BeautifulSoup(html, 'html.parser')"
   ]
  },
  {
   "cell_type": "code",
   "execution_count": null,
   "metadata": {
    "collapsed": true
   },
   "outputs": [],
   "source": [
    "tables = soup.find_all('table')"
   ]
  },
  {
   "cell_type": "code",
   "execution_count": null,
   "metadata": {
    "collapsed": true
   },
   "outputs": [],
   "source": [
    "divs = tables[0].find_all('div')"
   ]
  },
  {
   "cell_type": "code",
   "execution_count": null,
   "metadata": {
    "collapsed": true
   },
   "outputs": [],
   "source": [
    "word = [x.text.replace('\\n','') for x in divs]"
   ]
  },
  {
   "cell_type": "code",
   "execution_count": null,
   "metadata": {
    "collapsed": true
   },
   "outputs": [],
   "source": [
    "word"
   ]
  },
  {
   "cell_type": "code",
   "execution_count": null,
   "metadata": {
    "collapsed": true
   },
   "outputs": [],
   "source": [
    "dfStopWords = pd.DataFrame(word,columns=['Stop_Word'])"
   ]
  },
  {
   "cell_type": "code",
   "execution_count": null,
   "metadata": {
    "collapsed": true
   },
   "outputs": [],
   "source": [
    "dfStopWords.head()"
   ]
  },
  {
   "cell_type": "code",
   "execution_count": null,
   "metadata": {
    "collapsed": true
   },
   "outputs": [],
   "source": [
    "dfStopWords.to_csv('D:\\Qayyuum\\stopword.csv')"
   ]
  },
  {
   "cell_type": "code",
   "execution_count": 59,
   "metadata": {
    "collapsed": true
   },
   "outputs": [],
   "source": [
    "def levenshtein(s, t):\n",
    "        ''' From Wikipedia article; Iterative with two matrix rows. '''\n",
    "        if s == t: return 0\n",
    "        elif len(s) == 0: return len(t)\n",
    "        elif len(t) == 0: return len(s)\n",
    "        v0 = [None] * (len(t) + 1)\n",
    "        v1 = [None] * (len(t) + 1)\n",
    "        for i in range(len(v0)):\n",
    "            v0[i] = i\n",
    "        for i in range(len(s)):\n",
    "            v1[0] = i + 1\n",
    "            for j in range(len(t)):\n",
    "                cost = 0 if s[i] == t[j] else 1\n",
    "                v1[j + 1] = min(v1[j] + 1, v0[j + 1] + 1, v0[j] + cost)\n",
    "            for j in range(len(v0)):\n",
    "                v0[j] = v1[j]\n",
    "                \n",
    "        return v1[len(t)]"
   ]
  },
  {
   "cell_type": "code",
   "execution_count": 12,
   "metadata": {},
   "outputs": [
    {
     "data": {
      "text/plain": [
       "2"
      ]
     },
     "execution_count": 12,
     "metadata": {},
     "output_type": "execute_result"
    }
   ],
   "source": [
    "levenshtein('yang', 'yg')"
   ]
  },
  {
   "cell_type": "markdown",
   "metadata": {},
   "source": [
    "SoupStrainer helps to parse specific element only if you know what to extract beforehand"
   ]
  },
  {
   "cell_type": "code",
   "execution_count": 21,
   "metadata": {
    "collapsed": true
   },
   "outputs": [],
   "source": [
    "import requests\n",
    "import regex as rgx\n",
    "from bs4 import BeautifulSoup, SoupStrainer\n",
    "\n",
    "def parseWord(line):\n",
    "    if ',' in line:\n",
    "        curr_line = line.split(',')\n",
    "        for word in curr_line:\n",
    "            if '\\n' in word:                \n",
    "                for split_word in word.split('\\n'):\n",
    "                    yield split_word\n",
    "            else:\n",
    "                yield word\n",
    "    else:\n",
    "        if '\\n' not in line:                \n",
    "            yield line\n",
    "\n",
    "def getAlphabetLinks():\n",
    "    url = r'https://ms.wiktionary.org/wiki/Wiktionary:Senarai_perkataan_mengikut_susunan_abjad'\n",
    "    rs = requests.get(url)\n",
    "    soup_all_alpha = BeautifulSoup(rs.content, 'html.parser', parse_only=SoupStrainer(\"a\"))\n",
    "\n",
    "    for x in soup_all_alpha:\n",
    "        if x.has_attr('href') and rgx.match(r'^.*:Senarai_perkataan_[A-Z]$', x['href']):\n",
    "            yield x['href']\n",
    "    \n",
    "def getWordPerAlphabet(link):\n",
    "    rs = requests.get(link)\n",
    "    soup = BeautifulSoup(rs.content, 'html.parser')\n",
    "    tab_of_words = soup.find_all(\"table\")\n",
    "\n",
    "    ## get all words\n",
    "    words = []\n",
    "    for item in tab_of_words:\n",
    "        word = [y.text for y in item.find_all(\"li\")]\n",
    "        for i, curr_word in enumerate(word):\n",
    "            if '\\n' in curr_word:\n",
    "                word[i] = curr_word.split('\\n')[0]\n",
    "        words += word\n",
    "\n",
    "    clean_list = [item.strip() for x in words for item in parseWord(x)]\n",
    "    return clean_list"
   ]
  },
  {
   "cell_type": "code",
   "execution_count": 22,
   "metadata": {
    "collapsed": true
   },
   "outputs": [],
   "source": [
    "full_link = list(map(lambda x: r'https://ms.wiktionary.org' + x, getAlphabetLinks()))"
   ]
  },
  {
   "cell_type": "code",
   "execution_count": 24,
   "metadata": {
    "collapsed": true
   },
   "outputs": [],
   "source": [
    "all_words = []\n",
    "for link in full_link:\n",
    "    all_words += getWordPerAlphabet(link)"
   ]
  },
  {
   "cell_type": "code",
   "execution_count": 25,
   "metadata": {},
   "outputs": [
    {
     "data": {
      "text/plain": [
       "28302"
      ]
     },
     "execution_count": 25,
     "metadata": {},
     "output_type": "execute_result"
    }
   ],
   "source": [
    "len(all_words)"
   ]
  },
  {
   "cell_type": "code",
   "execution_count": 48,
   "metadata": {
    "collapsed": true
   },
   "outputs": [],
   "source": [
    "sample_str = \"Sy tidak gembira, sy menginap di hotel 1 mlm utk 2 bilik, manager security sombong dan berlagak.\" + \\\n",
    "             \" Sy terpaksa tanggung kos repair akibat bonet kereta sy dicalar ditempat parking kereta yg disediakan oleh pihak hotel....\" + \\\n",
    "             \"ini lah kali pertama, sy menginap di hotel yg tidak selamat...\" + \\\n",
    "             \"sy harap pihak agoda, tidak bekerjasama dgn hotel ini kerana amat merbahayakan pelanggan2 & pelanggan \" + \\\n",
    "             \"pula terpaksa tanggung risiko jika terjadi ape2.\"\n"
   ]
  },
  {
   "cell_type": "code",
   "execution_count": 49,
   "metadata": {
    "collapsed": true
   },
   "outputs": [],
   "source": [
    "sample_str = rgx.sub(r'\\.{2,}','. ', sample_str) "
   ]
  },
  {
   "cell_type": "code",
   "execution_count": 50,
   "metadata": {
    "collapsed": true
   },
   "outputs": [],
   "source": [
    "from nltk.tokenize import word_tokenize, sent_tokenize\n",
    "sentences =  sent_tokenize(sample_str)"
   ]
  },
  {
   "cell_type": "code",
   "execution_count": 51,
   "metadata": {},
   "outputs": [
    {
     "data": {
      "text/plain": [
       "['Sy tidak gembira, sy menginap di hotel 1 mlm utk 2 bilik, manager security sombong dan berlagak.',\n",
       " 'Sy terpaksa tanggung kos repair akibat bonet kereta sy dicalar ditempat parking kereta yg disediakan oleh pihak hotel.',\n",
       " 'ini lah kali pertama, sy menginap di hotel yg tidak selamat.',\n",
       " 'sy harap pihak agoda, tidak bekerjasama dgn hotel ini kerana amat merbahayakan pelanggan2 & pelanggan pula terpaksa tanggung risiko jika terjadi ape2.']"
      ]
     },
     "execution_count": 51,
     "metadata": {},
     "output_type": "execute_result"
    }
   ],
   "source": [
    "sentences"
   ]
  },
  {
   "cell_type": "code",
   "execution_count": 55,
   "metadata": {
    "collapsed": true
   },
   "outputs": [],
   "source": [
    "alpha_word = [x for x in word_tokenize(sentences[0]) if x.isalpha()]"
   ]
  },
  {
   "cell_type": "code",
   "execution_count": 57,
   "metadata": {},
   "outputs": [
    {
     "data": {
      "text/plain": [
       "['Sy', 'sy', 'mlm', 'utk', 'manager', 'security']"
      ]
     },
     "execution_count": 57,
     "metadata": {},
     "output_type": "execute_result"
    }
   ],
   "source": [
    "[a for a in alpha_word if a not in all_words]"
   ]
  },
  {
   "cell_type": "code",
   "execution_count": 58,
   "metadata": {},
   "outputs": [
    {
     "data": {
      "text/plain": [
       "['Sy', 'sy', 'mlm', 'utk', 'manager', 'security']"
      ]
     },
     "execution_count": 58,
     "metadata": {},
     "output_type": "execute_result"
    }
   ],
   "source": [
    "from collections import OrderedDict\n",
    "items = [a for a in alpha_word if a not in all_words]\n",
    "list(OrderedDict.fromkeys(items))"
   ]
  },
  {
   "cell_type": "code",
   "execution_count": 60,
   "metadata": {},
   "outputs": [
    {
     "data": {
      "text/plain": [
       "<regex.Match object; span=(1, 4), match='aaa'>"
      ]
     },
     "execution_count": 60,
     "metadata": {},
     "output_type": "execute_result"
    }
   ],
   "source": [
    "duplicate = rgx.compile(r'(.)\\1{2,}')\n",
    "duplicate.search('baaaikkkk')"
   ]
  },
  {
   "cell_type": "code",
   "execution_count": 70,
   "metadata": {},
   "outputs": [
    {
     "data": {
      "text/plain": [
       "'baaikk'"
      ]
     },
     "execution_count": 70,
     "metadata": {},
     "output_type": "execute_result"
    }
   ],
   "source": [
    "duplicate.sub(r'\\1\\1','baaaikkkk')"
   ]
  },
  {
   "cell_type": "code",
   "execution_count": 68,
   "metadata": {
    "collapsed": true
   },
   "outputs": [],
   "source": [
    "with open(r'D:\\Data Science\\Hotel-Reviews-BM\\words_alpha.txt','r', encoding='utf-8') as eng_file:\n",
    "    eng_dict = eng_file.readlines()\n",
    "\n",
    "eng_file.close()\n",
    "\n",
    "eng_dict = [rgx.sub(r'\\n','', x) for x in eng_dict]"
   ]
  },
  {
   "cell_type": "code",
   "execution_count": 69,
   "metadata": {},
   "outputs": [
    {
     "data": {
      "text/plain": [
       "'abater'"
      ]
     },
     "execution_count": 69,
     "metadata": {},
     "output_type": "execute_result"
    }
   ],
   "source": [
    "eng_dict[150]"
   ]
  },
  {
   "cell_type": "markdown",
   "metadata": {},
   "source": [
    "## TODO\n",
    "\n",
    "### Methods for text preprocessing\n",
    "\n",
    "1. Remove repeatable non-characters (to avoid false sentence tokenization).\n",
    "2. Tokenize the sentence.\n",
    "3. Iterate each word and validates:\n",
    "   1. Check for multiple characters - give exception for character such as a,g,n,k\n",
    "   2. Compare with Malay dictionary\n",
    "   3. Compare with short form database, if available, then replace."
   ]
  },
  {
   "cell_type": "code",
   "execution_count": 9,
   "metadata": {
    "collapsed": true
   },
   "outputs": [],
   "source": [
    "import regex as rgx\n",
    "from nltk.tokenize import word_tokenize, sent_tokenize\n",
    "\n",
    "# remove repeatable non-characters\n",
    "def remove_rep_non_chars(txt):\n",
    "    pattern = rgx.compile(r'([\\W_])\\1{2,}')\n",
    "    return pattern.sub(r'\\1', txt)\n",
    "\n",
    "# pad fullstop with space, since tokenizer cannot detect dot if no space after it\n",
    "def remove_multi_dots(txt):\n",
    "    pattern = rgx.compile(r'(\\w)(\\.{2,})')\n",
    "    return pattern.sub(r'\\1. ', txt)\n",
    "\n",
    "def pad_dot_with_space(txt):\n",
    "    pattern = rgx.compile(r'(\\w)\\.(\\w)')\n",
    "    return pattern.sub(r'\\1. \\2', txt)\n",
    "\n",
    "def remove_new_line(txt):\n",
    "    pattern = rgx.compile(r'(\\r|\\n)?')\n",
    "    return pattern.sub('', txt).strip()\n",
    "\n",
    "def tokenize_sentence(paragraph_str):\n",
    "    paragraph = pad_dot_with_space(remove_rep_non_chars(paragraph_str))\n",
    "    sentences = sent_tokenize(paragraph)\n",
    "    return sentences\n",
    "\n",
    "def load_dictionary(path):\n",
    "    with open(path, 'r', encoding='utf-8') as dict_file:\n",
    "        dict_array = dict_file.readlines()\n",
    "    dict_file.close()\n",
    "    return [rgx.sub(r'\\n', '', word) for word in dict_array]\n",
    "    \n",
    "def validate_sentence(sentence):\n",
    "    # initialize BM dictionary\n",
    "    BM_dict = load_dictionary(r'D:\\Data Science\\Hotel-Reviews-BM\\dict-ms-wiki.txt')\n",
    "    \n",
    "    # initialize English dictionary\n",
    "    ENG_dict = load_dictionary(r'D:\\Data Science\\Hotel-Reviews-BM\\words_alpha.txt')\n",
    "    \n",
    "    # break sentence into array of words\n",
    "    tokenized_sent = word_tokenize(sentence.lower())\n",
    "    \n",
    "    # check for BM words except punctuation\n",
    "    validated_BM = list(map(lambda x: x in all_words or not x.isalpha(), tokenized_sent))\n",
    "    \n",
    "    for i,x in enumerate(validated_BM):\n",
    "        if x is False:\n",
    "            print(tokenized_sent[i] in eng_dict)"
   ]
  },
  {
   "cell_type": "code",
   "execution_count": 7,
   "metadata": {
    "collapsed": true
   },
   "outputs": [],
   "source": [
    "import regex as rgx\n",
    "class RepeatReplacer(object):\n",
    "    def __init__(self):\n",
    "        self.repeat_regexp = rgx.compile(r'(\\w*)(\\w)\\2(\\w*)')\n",
    "        self.repl = r'\\1\\2\\3'\n",
    "    \n",
    "    def replace(self, word):\n",
    "        repl_word = self.repeat_regexp.sub(self.repl, word)\n",
    "        #print(repl_word, word)\n",
    "        if repl_word != word:\n",
    "            return self.replace(repl_word)\n",
    "        else:\n",
    "            return repl_word"
   ]
  },
  {
   "cell_type": "code",
   "execution_count": 8,
   "metadata": {},
   "outputs": [
    {
     "name": "stdout",
     "output_type": "stream",
     "text": [
      "loooove looooove\n",
      "looove loooove\n",
      "loove looove\n",
      "love loove\n",
      "love love\n"
     ]
    },
    {
     "data": {
      "text/plain": [
       "'love'"
      ]
     },
     "execution_count": 8,
     "metadata": {},
     "output_type": "execute_result"
    }
   ],
   "source": [
    "replacer = RepeatReplacer()\n",
    "replacer.replace('looooove')"
   ]
  },
  {
   "cell_type": "code",
   "execution_count": 14,
   "metadata": {
    "collapsed": true
   },
   "outputs": [],
   "source": [
    "sample_str2 = 'TMJ bg rm1 juta utk shopping..1 family max rm3k blh belanja..total 333 family blh scan bayar kt kaunter..bila kau dh busy kehulu kehilir cari brg2,org beratur kt kaunter dh berbaris panjang..bayangkan 1 family 3k pny barang nk scan..ambil masa..nk packing lg..bila tgk org membazir mcm ni,rasa rugi sgt walaupn org tlg bayarkan..mgkn ada org miskin tgh gaul nasi dgn garam pn kita x tau..'\n",
    "\n",
    "paragraph = pad_dot_with_space(remove_rep_non_chars(remove_multi_dots(sample_str2)))"
   ]
  },
  {
   "cell_type": "code",
   "execution_count": 15,
   "metadata": {},
   "outputs": [
    {
     "data": {
      "text/plain": [
       "['TMJ bg rm1 juta utk shopping.',\n",
       " '1 family max rm3k blh belanja.',\n",
       " 'total 333 family blh scan bayar kt kaunter.',\n",
       " 'bila kau dh busy kehulu kehilir cari brg2,org beratur kt kaunter dh berbaris panjang.',\n",
       " 'bayangkan 1 family 3k pny barang nk scan.',\n",
       " 'ambil masa.',\n",
       " 'nk packing lg.',\n",
       " 'bila tgk org membazir mcm ni,rasa rugi sgt walaupn org tlg bayarkan.',\n",
       " 'mgkn ada org miskin tgh gaul nasi dgn garam pn kita x tau.']"
      ]
     },
     "execution_count": 15,
     "metadata": {},
     "output_type": "execute_result"
    }
   ],
   "source": [
    "sentence = sent_tokenize(paragraph)\n",
    "sentence"
   ]
  },
  {
   "cell_type": "code",
   "execution_count": 107,
   "metadata": {
    "collapsed": true
   },
   "outputs": [],
   "source": [
    "tokenized_sent = word_tokenize(sentence[2].lower())"
   ]
  },
  {
   "cell_type": "code",
   "execution_count": 125,
   "metadata": {},
   "outputs": [
    {
     "data": {
      "text/plain": [
       "['tampa',\n",
       " 'ada',\n",
       " 'breakfast',\n",
       " 'dan',\n",
       " 'keadaan',\n",
       " 'bilik',\n",
       " 'sempit',\n",
       " 'dan',\n",
       " 'juga',\n",
       " 'wifi',\n",
       " 'sangat',\n",
       " 'perlahan',\n",
       " 'kadang2',\n",
       " 'terputus',\n",
       " 'sambungan',\n",
       " '.']"
      ]
     },
     "execution_count": 125,
     "metadata": {},
     "output_type": "execute_result"
    }
   ],
   "source": [
    "tokenized_sent"
   ]
  },
  {
   "cell_type": "code",
   "execution_count": 121,
   "metadata": {
    "collapsed": true
   },
   "outputs": [],
   "source": [
    "# pass tokenized sentence, and will check against BM dictionary\n",
    "# def checkBasicDict(word):\n",
    "#     if word in all_words:\n",
    "#         return True\n",
    "BM_dict = load_dictionary(r'D:\\Data Science\\Hotel-Reviews-BM\\dict-ms-wiki.txt')\n",
    "validated_BM = list(map(lambda x: x in BM_dict or not x.isalpha(), tokenized_sent))"
   ]
  },
  {
   "cell_type": "code",
   "execution_count": 126,
   "metadata": {},
   "outputs": [
    {
     "name": "stdout",
     "output_type": "stream",
     "text": [
      "tampa False\n",
      "ada True\n",
      "breakfast False\n",
      "dan True\n",
      "keadaan True\n",
      "bilik True\n",
      "sempit True\n",
      "dan True\n",
      "juga True\n",
      "wifi False\n",
      "sangat True\n",
      "perlahan True\n",
      "kadang2 True\n",
      "terputus True\n",
      "sambungan True\n",
      ". True\n"
     ]
    }
   ],
   "source": [
    "# check for english word\n",
    "for i,x in enumerate(validated_BM):\n",
    "    print(tokenized_sent[i], x)\n",
    "#     if x is False:\n",
    "#         print(tokenized_sent[i], tokenized_sent[i] in eng_dict)"
   ]
  },
  {
   "cell_type": "code",
   "execution_count": 2,
   "metadata": {
    "collapsed": true
   },
   "outputs": [],
   "source": [
    "df_hotel_review = pd.read_excel(r'D:\\Data Science\\Hotel-Reviews-BM\\all-reviews.xlsx')"
   ]
  },
  {
   "cell_type": "code",
   "execution_count": 3,
   "metadata": {},
   "outputs": [
    {
     "data": {
      "text/plain": [
       "(1206, 4)"
      ]
     },
     "execution_count": 3,
     "metadata": {},
     "output_type": "execute_result"
    }
   ],
   "source": [
    "df_hotel_review.shape"
   ]
  },
  {
   "cell_type": "code",
   "execution_count": 4,
   "metadata": {},
   "outputs": [
    {
     "data": {
      "text/plain": [
       "Index(['title', 'rating', 'reviews', 'Polarity'], dtype='object')"
      ]
     },
     "execution_count": 4,
     "metadata": {},
     "output_type": "execute_result"
    }
   ],
   "source": [
    "df_hotel_review.columns"
   ]
  },
  {
   "cell_type": "code",
   "execution_count": 5,
   "metadata": {
    "collapsed": true
   },
   "outputs": [],
   "source": [
    "df_review = df_hotel_review['reviews']"
   ]
  },
  {
   "cell_type": "code",
   "execution_count": 87,
   "metadata": {
    "scrolled": true
   },
   "outputs": [
    {
     "data": {
      "text/plain": [
       "0       Sy tidak gembira, sy menginap di hotel 1 mlm u...\n",
       "1                                                   oklah\n",
       "2       Pengalaman saya tinggal di hotel grand seasons...\n",
       "3       Bilik kecil, toilet tak bersih.. Nak angkut ba...\n",
       "4       1st-CHECK IN\\r\\r\\ntidak suka dgn receptionist ...\n",
       "5                                Menyesal pilih hotel ini\n",
       "6       kalau saya ke malaka saya akan kembali ke hatt...\n",
       "7       Penyambut tetamu yang tidak mesra, staf y berl...\n",
       "8       Menguntungkan dan paling baik untuk bawa kelua...\n",
       "9       semasa daftar masuk layanan staff kurang memua...\n",
       "10                                                 Bagus!\n",
       "11                             sinki tersumbat..ada patut\n",
       "12      Sangat mengembirkan dan menyoronokkan di mana ...\n",
       "13      Sarapan 1 kamar hanya untuk 1 org saja, seharu...\n",
       "14      Katil rasa spring, selimut cadar bantal berbau...\n",
       "15      Perjalanan yang agak sesak sepanjang jalan men...\n",
       "16      bathroom kotor dan facilities teruk ( kepala p...\n",
       "17      kekurangan tempat letak kereta.\\r\\nterpaksa le...\n",
       "18      Buang masa dan buang duit. Sarapan pagi yg pal...\n",
       "19      Saya Sudah Lebih 2 Kali menginap ttp yg terbar...\n",
       "20      Lokasi yang bagus tetapi keadaan kawasan parki...\n",
       "21      Mohon utk meminjam Phone charger dikaunter dim...\n",
       "22      Tak puas hati terhadap booking hi-tea. Kami dh...\n",
       "23      Harga bilik tak sesuai dgn bilik.\\r\\nHarga per...\n",
       "24      Terdapat gangguang bunyi hasil daripada kerja2...\n",
       "25      Memandangkan kami sekeluarga (2 dewasa,1kanak2...\n",
       "26      sungguh seronak utk rehat dan perniagaan,berte...\n",
       "27      Sesuai untuk pengembara yang ingin menikmati p...\n",
       "28                                            boleh gagah\n",
       "29      Saya telah buat tempahan awal iaitu 3 bulan se...\n",
       "                              ...                        \n",
       "1176    Kemudahan di hotel ini sangat bagus dan amat m...\n",
       "1177    sangat memuaskan  cuma bilik terlalu kecil.tem...\n",
       "1178    Walaupun di saat-saat akhir membuat tempahan, ...\n",
       "1179    suasana bilik yang bersih, selesa dan pasti ak...\n",
       "1180                 Perkhidmatan... lokasi dan kemudahan\n",
       "1181                    Lokasi Terbaik ! Servis Terbaik !\n",
       "1182                                                Bagus\n",
       "1183    Kelebihan adalah hotel yg bersih dn staf hotel...\n",
       "1184              berdwkatan denga n tempat.membeli belah\n",
       "1185                                    sangat mengujakan\n",
       "1186                    lokasi shopping yang memang bagus\n",
       "1187                                              Terbaik\n",
       "1188                        Semuanya selesa tiada masalah\n",
       "1189    saya sangat selesa dengan hotel ini yang mempu...\n",
       "1190    - tempat yang sesuai dan selesa terutama yang ...\n",
       "1191    hotel yang menjaga kepentingan pelanggannya, p...\n",
       "1192    Terbaik lah cititel boleh duduk lagi akan data...\n",
       "1193    Sangat terbaik dan memuaskan. Penginapan yang ...\n",
       "1194    Penginapan yang selesa. Bilik menarik dan laya...\n",
       "1195    Amat memuaskan hati kerana mendapat layanan ya...\n",
       "1196    Hotel ini mempunyai bilik yang berseih dan lua...\n",
       "1197    sangat selesa dan bilik luas ,,makanan sarapan...\n",
       "1198    Penginapan yang selesa dan sangat sesuai untuk...\n",
       "1199    saya berasa hotel ini berbaloi dengan harga ya...\n",
       "1200    Saya sangat selesa dengan menginap di Cititel ...\n",
       "1201    Bilik yang disediakan adalah selesa. Kemudahan...\n",
       "1202    servis room yang cepat, buffet sedap dan menar...\n",
       "1203    terbaik...tiada gangguan saya pasti datang lag...\n",
       "1204    saya sekeluarga tetap memilih hotel cititel mi...\n",
       "1205    ini merupakan kali pertama saya tinggal di cit...\n",
       "Name: reviews, Length: 1206, dtype: object"
      ]
     },
     "execution_count": 87,
     "metadata": {},
     "output_type": "execute_result"
    }
   ],
   "source": [
    "df_review"
   ]
  },
  {
   "cell_type": "code",
   "execution_count": 90,
   "metadata": {},
   "outputs": [
    {
     "data": {
      "text/plain": [
       "['1st-CHECK INtidak suka dgn receptionist dia yg sombong.',\n",
       " 'Mcm pndg rendah pada org mcm i. Ye la pakai myvi buruk je.',\n",
       " 'mesti dia dh nmpk I keluar drp myvi buruk I tu.',\n",
       " 'I pula baru check in around 12am sbb I tidak blh balik to my house in Bentong regarding tanah runtuh di Karak Highway.',\n",
       " 'anyway masa I register tu, I biarkan aje.',\n",
       " 'always positif kan. then dia bagi I kunci dgn jeling mata shj.',\n",
       " 'ok ok fine lah.',\n",
       " 'I ambil bilik+breakfast, and of course I tny dia what is the time for breakfast.',\n",
       " 'dia ckp \" erm, u ada ambil sekali breakfast ke?\"',\n",
       " 'With jeling mata lagi.',\n",
       " 'then I say \"Yes(senyum sambil bersabar)\" sambil tunjuk my voucher thru my phone.',\n",
       " 'then dia kata\"ok, esok pagi u tunjukkan that voucher je\"dgn jelingan yg \\'cute\\' tu.',\n",
       " 'ok then.',\n",
       " '2nd-BILIKonce dh masuk bilik.',\n",
       " 'nmpk malap je.',\n",
       " 'bnyk lampu tidak berfungsi.',\n",
       " 'Toilet pula tidak boleh digunakan dgn baik.',\n",
       " 'Tiada brg2 keperluan SEPERTI Berus Gigi disediakan.',\n",
       " '3rd-BREAKFASTbila kami nak pergi breakfast, of course beritahu room number kan. bila I bgtau room number to the staff in charge.',\n",
       " 'dia call reception kata no bilik I tidak diregister untuk breakfast?',\n",
       " 'What?',\n",
       " 'Then I terus teringat the receptionist masa I check in last night tu.',\n",
       " 'Mesti dia Ingat org mcm i tidak ambil breakfast, oleh sbb itu dia tidak keyin my room number.',\n",
       " 'Nasib baik this staff (jaga coffeehouse)baik.',\n",
       " 'Dia suruh I and my husband masuk dulu and have our breakfast.',\n",
       " 'Staff ni,I suka cara layanan Dan senyuman dia.',\n",
       " 'Sejuk hati.4th - CHECK OUTI met with new staff kat reception.',\n",
       " 'Luckily dapat this lovely lady.',\n",
       " 'Dia buat kerja pantas Dan Mudah disenangi.',\n",
       " \"Thank you dear.That's all.\",\n",
       " 'Lepas ni I pergi hotel lain je.',\n",
       " 'Thank you for your service GSH.',\n",
       " \"Especially to the 'lovely' receptionist masa I check in tu.\"]"
      ]
     },
     "execution_count": 90,
     "metadata": {},
     "output_type": "execute_result"
    }
   ],
   "source": [
    "paragraph = remove_new_line(pad_dot_with_space(remove_multi_dots(df_review[4])))\n",
    "sent_tokenize(paragraph)"
   ]
  },
  {
   "cell_type": "code",
   "execution_count": 20,
   "metadata": {
    "collapsed": true
   },
   "outputs": [],
   "source": [
    "patt = rgx.compile(r'(\\w)\\.{2,}(\\w)')\n",
    "patt.search(paragraph)"
   ]
  },
  {
   "cell_type": "code",
   "execution_count": 80,
   "metadata": {
    "collapsed": true
   },
   "outputs": [],
   "source": [
    "sentences = []\n",
    "for idx, val in df_review.iteritems():\n",
    "    paragraph = remove_new_line(pad_dot_with_space(remove_multi_dots(val)))\n",
    "    sentence = sent_tokenize(paragraph)\n",
    "    sentences += sentence"
   ]
  },
  {
   "cell_type": "code",
   "execution_count": 81,
   "metadata": {
    "collapsed": true
   },
   "outputs": [],
   "source": [
    "srs_review = pd.Series(sentences)"
   ]
  },
  {
   "cell_type": "code",
   "execution_count": 83,
   "metadata": {
    "collapsed": true
   },
   "outputs": [],
   "source": [
    "srs_review.to_excel(r'D:\\Data Science\\Hotel-Reviews-BM\\all-reviews-sent-only.xlsx')"
   ]
  },
  {
   "cell_type": "code",
   "execution_count": 72,
   "metadata": {
    "collapsed": true
   },
   "outputs": [],
   "source": [
    "remove_dots = rgx.sub(r'(\\w)(\\.{2,})', r'\\1. ' , df_review[25])\n",
    "clean_sent = rgx.sub(r'(\\r|\\n)?', '' , remove_dots).strip()"
   ]
  },
  {
   "cell_type": "code",
   "execution_count": 73,
   "metadata": {
    "collapsed": true
   },
   "outputs": [],
   "source": [
    "clean_sent = rgx.sub(r'(\\r|\\n)?', '' , remove_dots).strip()"
   ]
  },
  {
   "cell_type": "code",
   "execution_count": 74,
   "metadata": {},
   "outputs": [
    {
     "data": {
      "text/plain": [
       "['Memandangkan kami sekeluarga (2 dewasa,1kanak2&1 bayi) check in pada hari Ahad maka masa untuk beratur di kaunter sahaja mengambil masa lebih 1 jam.',\n",
       " 'dengan keadaan yang tidak selesa.',\n",
       " 'kerusi untuk orang yang menunggu untuk masuk ke bilik juga agak terhad.',\n",
       " 'servis dari hotel staf yang mengambil masa sangat lama membuatkan ramai orang gelisah.',\n",
       " 'tambahan pula yang datang berkeluarga dengan anak2 kecil.',\n",
       " 'kolam mandi agak kecil, tp orang begitu ramai.',\n",
       " 'beratur panjang utk mkn pagi.',\n",
       " 'tp pihak hotel buka meja kat ballroom.',\n",
       " 'takde bathtub dalam bilik, bilik shower ja.']"
      ]
     },
     "execution_count": 74,
     "metadata": {},
     "output_type": "execute_result"
    }
   ],
   "source": [
    "sent_tokenize(clean_sent)"
   ]
  },
  {
   "cell_type": "code",
   "execution_count": 31,
   "metadata": {},
   "outputs": [
    {
     "data": {
      "text/plain": [
       "'Memandangkan kami sekeluarga (2 dewasa,1kanak2&1 bayi) check in pada hari Ahad maka masa untuk beratur di kaunter sahaja mengambil masa lebih 1 jam..dengan keadaan yang tidak selesa..kerusi untuk orang yang menunggu untuk masuk ke bilik juga agak terhad..servis dari hotel staf yang mengambil masa sangat lama membuatkan ramai orang gelisah..tambahan pula yang datang berkeluarga dengan anak2 kecil..\\r\\r\\nkolam mandi agak kecil, tp orang begitu ramai..\\r\\r\\nberatur panjang utk mkn pagi..tp pihak hotel buka meja kat ballroom..\\r\\r\\ntakde bathtub dalam bilik, bilik shower ja..'"
      ]
     },
     "execution_count": 31,
     "metadata": {},
     "output_type": "execute_result"
    }
   ],
   "source": [
    "df_review[25]"
   ]
  },
  {
   "cell_type": "code",
   "execution_count": null,
   "metadata": {
    "collapsed": true
   },
   "outputs": [],
   "source": []
  }
 ],
 "metadata": {
  "kernelspec": {
   "display_name": "Python [default]",
   "language": "python",
   "name": "python3"
  },
  "language_info": {
   "codemirror_mode": {
    "name": "ipython",
    "version": 3
   },
   "file_extension": ".py",
   "mimetype": "text/x-python",
   "name": "python",
   "nbconvert_exporter": "python",
   "pygments_lexer": "ipython3",
   "version": "3.5.3"
  }
 },
 "nbformat": 4,
 "nbformat_minor": 2
}
